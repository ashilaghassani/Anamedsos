{
  "nbformat": 4,
  "nbformat_minor": 0,
  "metadata": {
    "colab": {
      "name": "Final-Occupation.ipynb",
      "provenance": [],
      "collapsed_sections": [],
      "toc_visible": true
    },
    "kernelspec": {
      "name": "python3",
      "display_name": "Python 3"
    },
    "language_info": {
      "name": "python"
    }
  },
  "cells": [
    {
      "cell_type": "code",
      "execution_count": 1,
      "metadata": {
        "id": "dHR3m3AuPWER",
        "colab": {
          "base_uri": "https://localhost:8080/"
        },
        "outputId": "9dea9329-4376-4f42-c4a1-01dace8320f9"
      },
      "outputs": [
        {
          "output_type": "stream",
          "name": "stdout",
          "text": [
            "Drive already mounted at /content/gdrive; to attempt to forcibly remount, call drive.mount(\"/content/gdrive\", force_remount=True).\n"
          ]
        }
      ],
      "source": [
        "from google.colab import drive\n",
        "drive.mount(\"/content/gdrive\")"
      ]
    },
    {
      "cell_type": "code",
      "source": [
        "dataset_path = \"/content/gdrive/My Drive/TK1 AMS/dataset/\"\n",
        "path = \"/content/gdrive/My Drive/TK1 AMS/\""
      ],
      "metadata": {
        "id": "TL_86UMvFJhO"
      },
      "execution_count": 2,
      "outputs": []
    },
    {
      "cell_type": "code",
      "source": [
        "!pip install nltk\n",
        "!pip install plotly\n",
        "!pip install gensim\n",
        "!pip install tqdm\n",
        "!pip install xgboost\n",
        "\n",
        "import numpy as np\n",
        "import nltk\n",
        "import re\n",
        "import pandas as pd\n",
        "import matplotlib.pyplot as plt\n",
        "import seaborn as sns\n",
        "import plotly as py\n",
        "import matplotlib.pyplot as plt\n",
        "import plotly.graph_objs as go\n",
        "\n",
        "from plotly.offline import download_plotlyjs, init_notebook_mode, plot, iplot\n",
        "from collections import OrderedDict, Counter\n",
        "from wordcloud import WordCloud\n",
        "from tqdm import tqdm\n",
        "\n",
        "from gensim import corpora, models, similarities\n",
        "from gensim.models import CoherenceModel\n",
        "\n",
        "from sklearn.ensemble import RandomForestClassifier\n",
        "from sklearn.feature_extraction.text import CountVectorizer, TfidfVectorizer\n",
        "from sklearn.feature_selection import SelectKBest, f_regression\n",
        "from sklearn.linear_model import LogisticRegression\n",
        "from sklearn.metrics import classification_report\n",
        "from sklearn.model_selection import train_test_split\n",
        "from sklearn.naive_bayes import GaussianNB, MultinomialNB\n",
        "from sklearn.neighbors import KNeighborsClassifier\n",
        "from sklearn.preprocessing import StandardScaler\n",
        "\n",
        "import lightgbm as lgb\n",
        "from xgboost import XGBClassifier\n",
        "\n",
        "nltk.download('punkt')\n",
        "\n",
        "import warnings\n",
        "warnings.filterwarnings(\"ignore\")"
      ],
      "metadata": {
        "colab": {
          "base_uri": "https://localhost:8080/"
        },
        "id": "34nd34MQrd2N",
        "outputId": "e138634b-92b0-458c-8775-7bfe2287d69a"
      },
      "execution_count": 3,
      "outputs": [
        {
          "output_type": "stream",
          "name": "stdout",
          "text": [
            "Requirement already satisfied: nltk in /usr/local/lib/python3.7/dist-packages (3.2.5)\n",
            "Requirement already satisfied: six in /usr/local/lib/python3.7/dist-packages (from nltk) (1.15.0)\n",
            "Requirement already satisfied: plotly in /usr/local/lib/python3.7/dist-packages (5.5.0)\n",
            "Requirement already satisfied: six in /usr/local/lib/python3.7/dist-packages (from plotly) (1.15.0)\n",
            "Requirement already satisfied: tenacity>=6.2.0 in /usr/local/lib/python3.7/dist-packages (from plotly) (8.0.1)\n",
            "Requirement already satisfied: gensim in /usr/local/lib/python3.7/dist-packages (3.6.0)\n",
            "Requirement already satisfied: scipy>=0.18.1 in /usr/local/lib/python3.7/dist-packages (from gensim) (1.4.1)\n",
            "Requirement already satisfied: smart-open>=1.2.1 in /usr/local/lib/python3.7/dist-packages (from gensim) (5.2.1)\n",
            "Requirement already satisfied: six>=1.5.0 in /usr/local/lib/python3.7/dist-packages (from gensim) (1.15.0)\n",
            "Requirement already satisfied: numpy>=1.11.3 in /usr/local/lib/python3.7/dist-packages (from gensim) (1.21.6)\n",
            "Requirement already satisfied: tqdm in /usr/local/lib/python3.7/dist-packages (4.64.0)\n",
            "Requirement already satisfied: xgboost in /usr/local/lib/python3.7/dist-packages (0.90)\n",
            "Requirement already satisfied: numpy in /usr/local/lib/python3.7/dist-packages (from xgboost) (1.21.6)\n",
            "Requirement already satisfied: scipy in /usr/local/lib/python3.7/dist-packages (from xgboost) (1.4.1)\n",
            "[nltk_data] Downloading package punkt to /root/nltk_data...\n",
            "[nltk_data]   Package punkt is already up-to-date!\n"
          ]
        }
      ]
    },
    {
      "cell_type": "markdown",
      "source": [
        "# Data Collection"
      ],
      "metadata": {
        "id": "4AzbfANo4aYf"
      }
    },
    {
      "cell_type": "code",
      "source": [
        "df_profile = pd.read_excel(dataset_path+\"df_training_labeled_structured.xlsx\", usecols=['name','description','occupation'])\n",
        "df_profile.head()"
      ],
      "metadata": {
        "colab": {
          "base_uri": "https://localhost:8080/",
          "height": 206
        },
        "id": "51rYW0Hmc4S4",
        "outputId": "00c3e5cd-eae0-4fc1-b04c-d906b6c997f2"
      },
      "execution_count": 4,
      "outputs": [
        {
          "output_type": "execute_result",
          "data": {
            "text/plain": [
              "                                         description                 name  \\\n",
              "0                                                NaN        Atika Mutiara   \n",
              "1  Fearfully and wonderfully made. A traveller bo...      Lolita Agustine   \n",
              "2  Penulis FILOSOFI TERAS. Ketua Umum Partai Kead...    Henry Manampiring   \n",
              "3                                                NaN  Lukman H. Saifuddin   \n",
              "4  Founder of Drone Emprit and Media Kernels Indo...         Ismail Fahmi   \n",
              "\n",
              "              occupation  \n",
              "0  sosial kemasyarakatan  \n",
              "1    sains dan teknologi  \n",
              "2                hiburan  \n",
              "3  sosial kemasyarakatan  \n",
              "4    sains dan teknologi  "
            ],
            "text/html": [
              "\n",
              "  <div id=\"df-68883faf-78bc-49f7-a46b-1075b9ec5f51\">\n",
              "    <div class=\"colab-df-container\">\n",
              "      <div>\n",
              "<style scoped>\n",
              "    .dataframe tbody tr th:only-of-type {\n",
              "        vertical-align: middle;\n",
              "    }\n",
              "\n",
              "    .dataframe tbody tr th {\n",
              "        vertical-align: top;\n",
              "    }\n",
              "\n",
              "    .dataframe thead th {\n",
              "        text-align: right;\n",
              "    }\n",
              "</style>\n",
              "<table border=\"1\" class=\"dataframe\">\n",
              "  <thead>\n",
              "    <tr style=\"text-align: right;\">\n",
              "      <th></th>\n",
              "      <th>description</th>\n",
              "      <th>name</th>\n",
              "      <th>occupation</th>\n",
              "    </tr>\n",
              "  </thead>\n",
              "  <tbody>\n",
              "    <tr>\n",
              "      <th>0</th>\n",
              "      <td>NaN</td>\n",
              "      <td>Atika Mutiara</td>\n",
              "      <td>sosial kemasyarakatan</td>\n",
              "    </tr>\n",
              "    <tr>\n",
              "      <th>1</th>\n",
              "      <td>Fearfully and wonderfully made. A traveller bo...</td>\n",
              "      <td>Lolita Agustine</td>\n",
              "      <td>sains dan teknologi</td>\n",
              "    </tr>\n",
              "    <tr>\n",
              "      <th>2</th>\n",
              "      <td>Penulis FILOSOFI TERAS. Ketua Umum Partai Kead...</td>\n",
              "      <td>Henry Manampiring</td>\n",
              "      <td>hiburan</td>\n",
              "    </tr>\n",
              "    <tr>\n",
              "      <th>3</th>\n",
              "      <td>NaN</td>\n",
              "      <td>Lukman H. Saifuddin</td>\n",
              "      <td>sosial kemasyarakatan</td>\n",
              "    </tr>\n",
              "    <tr>\n",
              "      <th>4</th>\n",
              "      <td>Founder of Drone Emprit and Media Kernels Indo...</td>\n",
              "      <td>Ismail Fahmi</td>\n",
              "      <td>sains dan teknologi</td>\n",
              "    </tr>\n",
              "  </tbody>\n",
              "</table>\n",
              "</div>\n",
              "      <button class=\"colab-df-convert\" onclick=\"convertToInteractive('df-68883faf-78bc-49f7-a46b-1075b9ec5f51')\"\n",
              "              title=\"Convert this dataframe to an interactive table.\"\n",
              "              style=\"display:none;\">\n",
              "        \n",
              "  <svg xmlns=\"http://www.w3.org/2000/svg\" height=\"24px\"viewBox=\"0 0 24 24\"\n",
              "       width=\"24px\">\n",
              "    <path d=\"M0 0h24v24H0V0z\" fill=\"none\"/>\n",
              "    <path d=\"M18.56 5.44l.94 2.06.94-2.06 2.06-.94-2.06-.94-.94-2.06-.94 2.06-2.06.94zm-11 1L8.5 8.5l.94-2.06 2.06-.94-2.06-.94L8.5 2.5l-.94 2.06-2.06.94zm10 10l.94 2.06.94-2.06 2.06-.94-2.06-.94-.94-2.06-.94 2.06-2.06.94z\"/><path d=\"M17.41 7.96l-1.37-1.37c-.4-.4-.92-.59-1.43-.59-.52 0-1.04.2-1.43.59L10.3 9.45l-7.72 7.72c-.78.78-.78 2.05 0 2.83L4 21.41c.39.39.9.59 1.41.59.51 0 1.02-.2 1.41-.59l7.78-7.78 2.81-2.81c.8-.78.8-2.07 0-2.86zM5.41 20L4 18.59l7.72-7.72 1.47 1.35L5.41 20z\"/>\n",
              "  </svg>\n",
              "      </button>\n",
              "      \n",
              "  <style>\n",
              "    .colab-df-container {\n",
              "      display:flex;\n",
              "      flex-wrap:wrap;\n",
              "      gap: 12px;\n",
              "    }\n",
              "\n",
              "    .colab-df-convert {\n",
              "      background-color: #E8F0FE;\n",
              "      border: none;\n",
              "      border-radius: 50%;\n",
              "      cursor: pointer;\n",
              "      display: none;\n",
              "      fill: #1967D2;\n",
              "      height: 32px;\n",
              "      padding: 0 0 0 0;\n",
              "      width: 32px;\n",
              "    }\n",
              "\n",
              "    .colab-df-convert:hover {\n",
              "      background-color: #E2EBFA;\n",
              "      box-shadow: 0px 1px 2px rgba(60, 64, 67, 0.3), 0px 1px 3px 1px rgba(60, 64, 67, 0.15);\n",
              "      fill: #174EA6;\n",
              "    }\n",
              "\n",
              "    [theme=dark] .colab-df-convert {\n",
              "      background-color: #3B4455;\n",
              "      fill: #D2E3FC;\n",
              "    }\n",
              "\n",
              "    [theme=dark] .colab-df-convert:hover {\n",
              "      background-color: #434B5C;\n",
              "      box-shadow: 0px 1px 3px 1px rgba(0, 0, 0, 0.15);\n",
              "      filter: drop-shadow(0px 1px 2px rgba(0, 0, 0, 0.3));\n",
              "      fill: #FFFFFF;\n",
              "    }\n",
              "  </style>\n",
              "\n",
              "      <script>\n",
              "        const buttonEl =\n",
              "          document.querySelector('#df-68883faf-78bc-49f7-a46b-1075b9ec5f51 button.colab-df-convert');\n",
              "        buttonEl.style.display =\n",
              "          google.colab.kernel.accessAllowed ? 'block' : 'none';\n",
              "\n",
              "        async function convertToInteractive(key) {\n",
              "          const element = document.querySelector('#df-68883faf-78bc-49f7-a46b-1075b9ec5f51');\n",
              "          const dataTable =\n",
              "            await google.colab.kernel.invokeFunction('convertToInteractive',\n",
              "                                                     [key], {});\n",
              "          if (!dataTable) return;\n",
              "\n",
              "          const docLinkHtml = 'Like what you see? Visit the ' +\n",
              "            '<a target=\"_blank\" href=https://colab.research.google.com/notebooks/data_table.ipynb>data table notebook</a>'\n",
              "            + ' to learn more about interactive tables.';\n",
              "          element.innerHTML = '';\n",
              "          dataTable['output_type'] = 'display_data';\n",
              "          await google.colab.output.renderOutput(dataTable, element);\n",
              "          const docLink = document.createElement('div');\n",
              "          docLink.innerHTML = docLinkHtml;\n",
              "          element.appendChild(docLink);\n",
              "        }\n",
              "      </script>\n",
              "    </div>\n",
              "  </div>\n",
              "  "
            ]
          },
          "metadata": {},
          "execution_count": 4
        }
      ]
    },
    {
      "cell_type": "code",
      "source": [
        "df_tweet = pd.read_csv(dataset_path+\"df_training_tweet.csv\")\n",
        "df_tweet.head()"
      ],
      "metadata": {
        "id": "o-VaxWN24q-5",
        "colab": {
          "base_uri": "https://localhost:8080/",
          "height": 206
        },
        "outputId": "63965639-4eaf-4c07-ab69-f6d436fb00ab"
      },
      "execution_count": 8,
      "outputs": [
        {
          "output_type": "execute_result",
          "data": {
            "text/plain": [
              "          username                                              tweet\n",
              "0    _atikamutiara  Why?<SEP>The weekend  https://t.co/l011C36osT<...\n",
              "1    lolitagustine  Life’s special occasions 🌙  https://t.co/7K6KX...\n",
              "2      newsplatter  Untuk yg lagi hamil:  https://t.co/nI01EfH0tc<...\n",
              "3  lukmansaifuddin  Di tengah pandemi yang kian menguras emosi, me...\n",
              "4      ismailfahmi  @fauklunub @jokopinurbo Blm pernah beli buku p..."
            ],
            "text/html": [
              "\n",
              "  <div id=\"df-2196b60f-527b-49d7-ac60-f7b59beef19e\">\n",
              "    <div class=\"colab-df-container\">\n",
              "      <div>\n",
              "<style scoped>\n",
              "    .dataframe tbody tr th:only-of-type {\n",
              "        vertical-align: middle;\n",
              "    }\n",
              "\n",
              "    .dataframe tbody tr th {\n",
              "        vertical-align: top;\n",
              "    }\n",
              "\n",
              "    .dataframe thead th {\n",
              "        text-align: right;\n",
              "    }\n",
              "</style>\n",
              "<table border=\"1\" class=\"dataframe\">\n",
              "  <thead>\n",
              "    <tr style=\"text-align: right;\">\n",
              "      <th></th>\n",
              "      <th>username</th>\n",
              "      <th>tweet</th>\n",
              "    </tr>\n",
              "  </thead>\n",
              "  <tbody>\n",
              "    <tr>\n",
              "      <th>0</th>\n",
              "      <td>_atikamutiara</td>\n",
              "      <td>Why?&lt;SEP&gt;The weekend  https://t.co/l011C36osT&lt;...</td>\n",
              "    </tr>\n",
              "    <tr>\n",
              "      <th>1</th>\n",
              "      <td>lolitagustine</td>\n",
              "      <td>Life’s special occasions 🌙  https://t.co/7K6KX...</td>\n",
              "    </tr>\n",
              "    <tr>\n",
              "      <th>2</th>\n",
              "      <td>newsplatter</td>\n",
              "      <td>Untuk yg lagi hamil:  https://t.co/nI01EfH0tc&lt;...</td>\n",
              "    </tr>\n",
              "    <tr>\n",
              "      <th>3</th>\n",
              "      <td>lukmansaifuddin</td>\n",
              "      <td>Di tengah pandemi yang kian menguras emosi, me...</td>\n",
              "    </tr>\n",
              "    <tr>\n",
              "      <th>4</th>\n",
              "      <td>ismailfahmi</td>\n",
              "      <td>@fauklunub @jokopinurbo Blm pernah beli buku p...</td>\n",
              "    </tr>\n",
              "  </tbody>\n",
              "</table>\n",
              "</div>\n",
              "      <button class=\"colab-df-convert\" onclick=\"convertToInteractive('df-2196b60f-527b-49d7-ac60-f7b59beef19e')\"\n",
              "              title=\"Convert this dataframe to an interactive table.\"\n",
              "              style=\"display:none;\">\n",
              "        \n",
              "  <svg xmlns=\"http://www.w3.org/2000/svg\" height=\"24px\"viewBox=\"0 0 24 24\"\n",
              "       width=\"24px\">\n",
              "    <path d=\"M0 0h24v24H0V0z\" fill=\"none\"/>\n",
              "    <path d=\"M18.56 5.44l.94 2.06.94-2.06 2.06-.94-2.06-.94-.94-2.06-.94 2.06-2.06.94zm-11 1L8.5 8.5l.94-2.06 2.06-.94-2.06-.94L8.5 2.5l-.94 2.06-2.06.94zm10 10l.94 2.06.94-2.06 2.06-.94-2.06-.94-.94-2.06-.94 2.06-2.06.94z\"/><path d=\"M17.41 7.96l-1.37-1.37c-.4-.4-.92-.59-1.43-.59-.52 0-1.04.2-1.43.59L10.3 9.45l-7.72 7.72c-.78.78-.78 2.05 0 2.83L4 21.41c.39.39.9.59 1.41.59.51 0 1.02-.2 1.41-.59l7.78-7.78 2.81-2.81c.8-.78.8-2.07 0-2.86zM5.41 20L4 18.59l7.72-7.72 1.47 1.35L5.41 20z\"/>\n",
              "  </svg>\n",
              "      </button>\n",
              "      \n",
              "  <style>\n",
              "    .colab-df-container {\n",
              "      display:flex;\n",
              "      flex-wrap:wrap;\n",
              "      gap: 12px;\n",
              "    }\n",
              "\n",
              "    .colab-df-convert {\n",
              "      background-color: #E8F0FE;\n",
              "      border: none;\n",
              "      border-radius: 50%;\n",
              "      cursor: pointer;\n",
              "      display: none;\n",
              "      fill: #1967D2;\n",
              "      height: 32px;\n",
              "      padding: 0 0 0 0;\n",
              "      width: 32px;\n",
              "    }\n",
              "\n",
              "    .colab-df-convert:hover {\n",
              "      background-color: #E2EBFA;\n",
              "      box-shadow: 0px 1px 2px rgba(60, 64, 67, 0.3), 0px 1px 3px 1px rgba(60, 64, 67, 0.15);\n",
              "      fill: #174EA6;\n",
              "    }\n",
              "\n",
              "    [theme=dark] .colab-df-convert {\n",
              "      background-color: #3B4455;\n",
              "      fill: #D2E3FC;\n",
              "    }\n",
              "\n",
              "    [theme=dark] .colab-df-convert:hover {\n",
              "      background-color: #434B5C;\n",
              "      box-shadow: 0px 1px 3px 1px rgba(0, 0, 0, 0.15);\n",
              "      filter: drop-shadow(0px 1px 2px rgba(0, 0, 0, 0.3));\n",
              "      fill: #FFFFFF;\n",
              "    }\n",
              "  </style>\n",
              "\n",
              "      <script>\n",
              "        const buttonEl =\n",
              "          document.querySelector('#df-2196b60f-527b-49d7-ac60-f7b59beef19e button.colab-df-convert');\n",
              "        buttonEl.style.display =\n",
              "          google.colab.kernel.accessAllowed ? 'block' : 'none';\n",
              "\n",
              "        async function convertToInteractive(key) {\n",
              "          const element = document.querySelector('#df-2196b60f-527b-49d7-ac60-f7b59beef19e');\n",
              "          const dataTable =\n",
              "            await google.colab.kernel.invokeFunction('convertToInteractive',\n",
              "                                                     [key], {});\n",
              "          if (!dataTable) return;\n",
              "\n",
              "          const docLinkHtml = 'Like what you see? Visit the ' +\n",
              "            '<a target=\"_blank\" href=https://colab.research.google.com/notebooks/data_table.ipynb>data table notebook</a>'\n",
              "            + ' to learn more about interactive tables.';\n",
              "          element.innerHTML = '';\n",
              "          dataTable['output_type'] = 'display_data';\n",
              "          await google.colab.output.renderOutput(dataTable, element);\n",
              "          const docLink = document.createElement('div');\n",
              "          docLink.innerHTML = docLinkHtml;\n",
              "          element.appendChild(docLink);\n",
              "        }\n",
              "      </script>\n",
              "    </div>\n",
              "  </div>\n",
              "  "
            ]
          },
          "metadata": {},
          "execution_count": 8
        }
      ]
    },
    {
      "cell_type": "code",
      "source": [
        "df_tweet = df_tweet.merge(df_profile, left_on='username', right_on='username')"
      ],
      "metadata": {
        "id": "OJxteH9-qsIC"
      },
      "execution_count": null,
      "outputs": []
    },
    {
      "cell_type": "code",
      "source": [
        "df_non_person = pd.read_excel(dataset_path + \"df_training_non_person_labeled_structured.xlsx\")\n",
        "df_non_person.head()"
      ],
      "metadata": {
        "colab": {
          "base_uri": "https://localhost:8080/",
          "height": 617
        },
        "id": "HEehM5xRXRNd",
        "outputId": "1f0428a6-7a4e-44d5-b77d-05ea48da9c5d"
      },
      "execution_count": 59,
      "outputs": [
        {
          "output_type": "execute_result",
          "data": {
            "text/plain": [
              "             id                name        username created_at  \\\n",
              "0  3.299332e+09      KRAKATAU STEEL  _KRAKATAUSTEEL 2015-07-28   \n",
              "1  1.047255e+09             Pamflet        _pamflet 2012-12-30   \n",
              "2  3.514219e+08   TNI Angkatan Laut         _TNIAL_ 2011-08-09   \n",
              "3  6.008735e+08  TNI Angkatan Udara          _TNIAU 2012-06-06   \n",
              "4  1.446791e+08        UNS Official     11MaretUniv 2010-05-17   \n",
              "\n",
              "                                         description  \\\n",
              "0  Indonesian largest integrated steel maker. Est...   \n",
              "1  Membantu anak muda melakukan sesuatu bagi kema...   \n",
              "2  This is the Official Indonesian Navy twitter a...   \n",
              "3  Akun Twitter Resmi TNI Angkatan Udara | Dikelo...   \n",
              "4  Official Account of Universitas Sebelas Maret ...   \n",
              "\n",
              "                         location  protected  verified  followers_count  \\\n",
              "0            Kota Cilegon, Banten      False      True           8523.0   \n",
              "1    Mimosa IV, Blok E17, Jak-Sel      False     False           5664.0   \n",
              "2                       Indonesia      False      True         244087.0   \n",
              "3  Cilangkap, Jakarta - Indonesia      False      True         493079.0   \n",
              "4          Surakarta, Jawa Tengah      False      True          84493.0   \n",
              "\n",
              "   following_count  listed_count  tweet_count                 occupation  \n",
              "0            181.0          21.0       1687.0         ekonomi dan bisnis  \n",
              "1            457.0          25.0       6826.0      sosial kemasyarakatan  \n",
              "2            142.0         153.0       8637.0      sosial kemasyarakatan  \n",
              "3             45.0         346.0      53996.0      sosial kemasyarakatan  \n",
              "4            121.0          78.0       7435.0  pendidikan dan penelitian  "
            ],
            "text/html": [
              "\n",
              "  <div id=\"df-69563776-e183-4e8b-840f-d57f0bfbfefa\">\n",
              "    <div class=\"colab-df-container\">\n",
              "      <div>\n",
              "<style scoped>\n",
              "    .dataframe tbody tr th:only-of-type {\n",
              "        vertical-align: middle;\n",
              "    }\n",
              "\n",
              "    .dataframe tbody tr th {\n",
              "        vertical-align: top;\n",
              "    }\n",
              "\n",
              "    .dataframe thead th {\n",
              "        text-align: right;\n",
              "    }\n",
              "</style>\n",
              "<table border=\"1\" class=\"dataframe\">\n",
              "  <thead>\n",
              "    <tr style=\"text-align: right;\">\n",
              "      <th></th>\n",
              "      <th>id</th>\n",
              "      <th>name</th>\n",
              "      <th>username</th>\n",
              "      <th>created_at</th>\n",
              "      <th>description</th>\n",
              "      <th>location</th>\n",
              "      <th>protected</th>\n",
              "      <th>verified</th>\n",
              "      <th>followers_count</th>\n",
              "      <th>following_count</th>\n",
              "      <th>listed_count</th>\n",
              "      <th>tweet_count</th>\n",
              "      <th>occupation</th>\n",
              "    </tr>\n",
              "  </thead>\n",
              "  <tbody>\n",
              "    <tr>\n",
              "      <th>0</th>\n",
              "      <td>3.299332e+09</td>\n",
              "      <td>KRAKATAU STEEL</td>\n",
              "      <td>_KRAKATAUSTEEL</td>\n",
              "      <td>2015-07-28</td>\n",
              "      <td>Indonesian largest integrated steel maker. Est...</td>\n",
              "      <td>Kota Cilegon, Banten</td>\n",
              "      <td>False</td>\n",
              "      <td>True</td>\n",
              "      <td>8523.0</td>\n",
              "      <td>181.0</td>\n",
              "      <td>21.0</td>\n",
              "      <td>1687.0</td>\n",
              "      <td>ekonomi dan bisnis</td>\n",
              "    </tr>\n",
              "    <tr>\n",
              "      <th>1</th>\n",
              "      <td>1.047255e+09</td>\n",
              "      <td>Pamflet</td>\n",
              "      <td>_pamflet</td>\n",
              "      <td>2012-12-30</td>\n",
              "      <td>Membantu anak muda melakukan sesuatu bagi kema...</td>\n",
              "      <td>Mimosa IV, Blok E17, Jak-Sel</td>\n",
              "      <td>False</td>\n",
              "      <td>False</td>\n",
              "      <td>5664.0</td>\n",
              "      <td>457.0</td>\n",
              "      <td>25.0</td>\n",
              "      <td>6826.0</td>\n",
              "      <td>sosial kemasyarakatan</td>\n",
              "    </tr>\n",
              "    <tr>\n",
              "      <th>2</th>\n",
              "      <td>3.514219e+08</td>\n",
              "      <td>TNI Angkatan Laut</td>\n",
              "      <td>_TNIAL_</td>\n",
              "      <td>2011-08-09</td>\n",
              "      <td>This is the Official Indonesian Navy twitter a...</td>\n",
              "      <td>Indonesia</td>\n",
              "      <td>False</td>\n",
              "      <td>True</td>\n",
              "      <td>244087.0</td>\n",
              "      <td>142.0</td>\n",
              "      <td>153.0</td>\n",
              "      <td>8637.0</td>\n",
              "      <td>sosial kemasyarakatan</td>\n",
              "    </tr>\n",
              "    <tr>\n",
              "      <th>3</th>\n",
              "      <td>6.008735e+08</td>\n",
              "      <td>TNI Angkatan Udara</td>\n",
              "      <td>_TNIAU</td>\n",
              "      <td>2012-06-06</td>\n",
              "      <td>Akun Twitter Resmi TNI Angkatan Udara | Dikelo...</td>\n",
              "      <td>Cilangkap, Jakarta - Indonesia</td>\n",
              "      <td>False</td>\n",
              "      <td>True</td>\n",
              "      <td>493079.0</td>\n",
              "      <td>45.0</td>\n",
              "      <td>346.0</td>\n",
              "      <td>53996.0</td>\n",
              "      <td>sosial kemasyarakatan</td>\n",
              "    </tr>\n",
              "    <tr>\n",
              "      <th>4</th>\n",
              "      <td>1.446791e+08</td>\n",
              "      <td>UNS Official</td>\n",
              "      <td>11MaretUniv</td>\n",
              "      <td>2010-05-17</td>\n",
              "      <td>Official Account of Universitas Sebelas Maret ...</td>\n",
              "      <td>Surakarta, Jawa Tengah</td>\n",
              "      <td>False</td>\n",
              "      <td>True</td>\n",
              "      <td>84493.0</td>\n",
              "      <td>121.0</td>\n",
              "      <td>78.0</td>\n",
              "      <td>7435.0</td>\n",
              "      <td>pendidikan dan penelitian</td>\n",
              "    </tr>\n",
              "  </tbody>\n",
              "</table>\n",
              "</div>\n",
              "      <button class=\"colab-df-convert\" onclick=\"convertToInteractive('df-69563776-e183-4e8b-840f-d57f0bfbfefa')\"\n",
              "              title=\"Convert this dataframe to an interactive table.\"\n",
              "              style=\"display:none;\">\n",
              "        \n",
              "  <svg xmlns=\"http://www.w3.org/2000/svg\" height=\"24px\"viewBox=\"0 0 24 24\"\n",
              "       width=\"24px\">\n",
              "    <path d=\"M0 0h24v24H0V0z\" fill=\"none\"/>\n",
              "    <path d=\"M18.56 5.44l.94 2.06.94-2.06 2.06-.94-2.06-.94-.94-2.06-.94 2.06-2.06.94zm-11 1L8.5 8.5l.94-2.06 2.06-.94-2.06-.94L8.5 2.5l-.94 2.06-2.06.94zm10 10l.94 2.06.94-2.06 2.06-.94-2.06-.94-.94-2.06-.94 2.06-2.06.94z\"/><path d=\"M17.41 7.96l-1.37-1.37c-.4-.4-.92-.59-1.43-.59-.52 0-1.04.2-1.43.59L10.3 9.45l-7.72 7.72c-.78.78-.78 2.05 0 2.83L4 21.41c.39.39.9.59 1.41.59.51 0 1.02-.2 1.41-.59l7.78-7.78 2.81-2.81c.8-.78.8-2.07 0-2.86zM5.41 20L4 18.59l7.72-7.72 1.47 1.35L5.41 20z\"/>\n",
              "  </svg>\n",
              "      </button>\n",
              "      \n",
              "  <style>\n",
              "    .colab-df-container {\n",
              "      display:flex;\n",
              "      flex-wrap:wrap;\n",
              "      gap: 12px;\n",
              "    }\n",
              "\n",
              "    .colab-df-convert {\n",
              "      background-color: #E8F0FE;\n",
              "      border: none;\n",
              "      border-radius: 50%;\n",
              "      cursor: pointer;\n",
              "      display: none;\n",
              "      fill: #1967D2;\n",
              "      height: 32px;\n",
              "      padding: 0 0 0 0;\n",
              "      width: 32px;\n",
              "    }\n",
              "\n",
              "    .colab-df-convert:hover {\n",
              "      background-color: #E2EBFA;\n",
              "      box-shadow: 0px 1px 2px rgba(60, 64, 67, 0.3), 0px 1px 3px 1px rgba(60, 64, 67, 0.15);\n",
              "      fill: #174EA6;\n",
              "    }\n",
              "\n",
              "    [theme=dark] .colab-df-convert {\n",
              "      background-color: #3B4455;\n",
              "      fill: #D2E3FC;\n",
              "    }\n",
              "\n",
              "    [theme=dark] .colab-df-convert:hover {\n",
              "      background-color: #434B5C;\n",
              "      box-shadow: 0px 1px 3px 1px rgba(0, 0, 0, 0.15);\n",
              "      filter: drop-shadow(0px 1px 2px rgba(0, 0, 0, 0.3));\n",
              "      fill: #FFFFFF;\n",
              "    }\n",
              "  </style>\n",
              "\n",
              "      <script>\n",
              "        const buttonEl =\n",
              "          document.querySelector('#df-69563776-e183-4e8b-840f-d57f0bfbfefa button.colab-df-convert');\n",
              "        buttonEl.style.display =\n",
              "          google.colab.kernel.accessAllowed ? 'block' : 'none';\n",
              "\n",
              "        async function convertToInteractive(key) {\n",
              "          const element = document.querySelector('#df-69563776-e183-4e8b-840f-d57f0bfbfefa');\n",
              "          const dataTable =\n",
              "            await google.colab.kernel.invokeFunction('convertToInteractive',\n",
              "                                                     [key], {});\n",
              "          if (!dataTable) return;\n",
              "\n",
              "          const docLinkHtml = 'Like what you see? Visit the ' +\n",
              "            '<a target=\"_blank\" href=https://colab.research.google.com/notebooks/data_table.ipynb>data table notebook</a>'\n",
              "            + ' to learn more about interactive tables.';\n",
              "          element.innerHTML = '';\n",
              "          dataTable['output_type'] = 'display_data';\n",
              "          await google.colab.output.renderOutput(dataTable, element);\n",
              "          const docLink = document.createElement('div');\n",
              "          docLink.innerHTML = docLinkHtml;\n",
              "          element.appendChild(docLink);\n",
              "        }\n",
              "      </script>\n",
              "    </div>\n",
              "  </div>\n",
              "  "
            ]
          },
          "metadata": {},
          "execution_count": 59
        }
      ]
    },
    {
      "cell_type": "markdown",
      "source": [
        "# Exploratory Data Analysis"
      ],
      "metadata": {
        "id": "mi2Zjbm7Jhsr"
      }
    },
    {
      "cell_type": "markdown",
      "source": [
        "## Profile Data\n"
      ],
      "metadata": {
        "id": "0bu7e6aTdFu2"
      }
    },
    {
      "cell_type": "code",
      "source": [
        "##Menggabungkan data profile yang sudah ada dengan data baru \n",
        "df_profile = pd.concat([df_profile,df_non_person[[\"description\",\"name\",\"occupation\"]]])\n",
        "df_profile"
      ],
      "metadata": {
        "colab": {
          "base_uri": "https://localhost:8080/",
          "height": 423
        },
        "id": "CekE1VZHdM3B",
        "outputId": "f7050f01-3ec9-4252-bba9-0ade82c38988"
      },
      "execution_count": 60,
      "outputs": [
        {
          "output_type": "execute_result",
          "data": {
            "text/plain": [
              "                                           description                 name  \\\n",
              "1    Fearfully and wonderfully made. A traveller bo...      Lolita Agustine   \n",
              "2    Penulis FILOSOFI TERAS. Ketua Umum Partai Kead...    Henry Manampiring   \n",
              "4    Founder of Drone Emprit and Media Kernels Indo...         Ismail Fahmi   \n",
              "6                                 Dean at @FASILKOM_UI        Mirna Adriani   \n",
              "8    EDM Idol Anime Bootleg Man. @Alter_Synth Resid...   「Alter Synth」Magna   \n",
              "..                                                 ...                  ...   \n",
              "910  Yayasan Lembaga Bantuan Hukum Indonesia yang m...  YayasanLBHIndonesia   \n",
              "911  Kalo bisa sukses di usia muda, kenapa nunggu tua?         Young On Top   \n",
              "912                                like and subscribe.              YouTube   \n",
              "913  Asia's Leading Online Fashion, Beauty and Life...               ZALORA   \n",
              "914  Sub @ZOOFESS_ID | Menfess bot for Animal Lover...                  ZOO   \n",
              "\n",
              "                    occupation  \n",
              "1          sains dan teknologi  \n",
              "2                      hiburan  \n",
              "4          sains dan teknologi  \n",
              "6    pendidikan dan penelitian  \n",
              "8          sains dan teknologi  \n",
              "..                         ...  \n",
              "910      sosial kemasyarakatan  \n",
              "911      sosial kemasyarakatan  \n",
              "912         ekonomi dan bisnis  \n",
              "913         ekonomi dan bisnis  \n",
              "914                       hobi  \n",
              "\n",
              "[9136 rows x 3 columns]"
            ],
            "text/html": [
              "\n",
              "  <div id=\"df-54ec285f-cdb2-444a-acff-30cdd510f517\">\n",
              "    <div class=\"colab-df-container\">\n",
              "      <div>\n",
              "<style scoped>\n",
              "    .dataframe tbody tr th:only-of-type {\n",
              "        vertical-align: middle;\n",
              "    }\n",
              "\n",
              "    .dataframe tbody tr th {\n",
              "        vertical-align: top;\n",
              "    }\n",
              "\n",
              "    .dataframe thead th {\n",
              "        text-align: right;\n",
              "    }\n",
              "</style>\n",
              "<table border=\"1\" class=\"dataframe\">\n",
              "  <thead>\n",
              "    <tr style=\"text-align: right;\">\n",
              "      <th></th>\n",
              "      <th>description</th>\n",
              "      <th>name</th>\n",
              "      <th>occupation</th>\n",
              "    </tr>\n",
              "  </thead>\n",
              "  <tbody>\n",
              "    <tr>\n",
              "      <th>1</th>\n",
              "      <td>Fearfully and wonderfully made. A traveller bo...</td>\n",
              "      <td>Lolita Agustine</td>\n",
              "      <td>sains dan teknologi</td>\n",
              "    </tr>\n",
              "    <tr>\n",
              "      <th>2</th>\n",
              "      <td>Penulis FILOSOFI TERAS. Ketua Umum Partai Kead...</td>\n",
              "      <td>Henry Manampiring</td>\n",
              "      <td>hiburan</td>\n",
              "    </tr>\n",
              "    <tr>\n",
              "      <th>4</th>\n",
              "      <td>Founder of Drone Emprit and Media Kernels Indo...</td>\n",
              "      <td>Ismail Fahmi</td>\n",
              "      <td>sains dan teknologi</td>\n",
              "    </tr>\n",
              "    <tr>\n",
              "      <th>6</th>\n",
              "      <td>Dean at @FASILKOM_UI</td>\n",
              "      <td>Mirna Adriani</td>\n",
              "      <td>pendidikan dan penelitian</td>\n",
              "    </tr>\n",
              "    <tr>\n",
              "      <th>8</th>\n",
              "      <td>EDM Idol Anime Bootleg Man. @Alter_Synth Resid...</td>\n",
              "      <td>「Alter Synth」Magna</td>\n",
              "      <td>sains dan teknologi</td>\n",
              "    </tr>\n",
              "    <tr>\n",
              "      <th>...</th>\n",
              "      <td>...</td>\n",
              "      <td>...</td>\n",
              "      <td>...</td>\n",
              "    </tr>\n",
              "    <tr>\n",
              "      <th>910</th>\n",
              "      <td>Yayasan Lembaga Bantuan Hukum Indonesia yang m...</td>\n",
              "      <td>YayasanLBHIndonesia</td>\n",
              "      <td>sosial kemasyarakatan</td>\n",
              "    </tr>\n",
              "    <tr>\n",
              "      <th>911</th>\n",
              "      <td>Kalo bisa sukses di usia muda, kenapa nunggu tua?</td>\n",
              "      <td>Young On Top</td>\n",
              "      <td>sosial kemasyarakatan</td>\n",
              "    </tr>\n",
              "    <tr>\n",
              "      <th>912</th>\n",
              "      <td>like and subscribe.</td>\n",
              "      <td>YouTube</td>\n",
              "      <td>ekonomi dan bisnis</td>\n",
              "    </tr>\n",
              "    <tr>\n",
              "      <th>913</th>\n",
              "      <td>Asia's Leading Online Fashion, Beauty and Life...</td>\n",
              "      <td>ZALORA</td>\n",
              "      <td>ekonomi dan bisnis</td>\n",
              "    </tr>\n",
              "    <tr>\n",
              "      <th>914</th>\n",
              "      <td>Sub @ZOOFESS_ID | Menfess bot for Animal Lover...</td>\n",
              "      <td>ZOO</td>\n",
              "      <td>hobi</td>\n",
              "    </tr>\n",
              "  </tbody>\n",
              "</table>\n",
              "<p>9136 rows × 3 columns</p>\n",
              "</div>\n",
              "      <button class=\"colab-df-convert\" onclick=\"convertToInteractive('df-54ec285f-cdb2-444a-acff-30cdd510f517')\"\n",
              "              title=\"Convert this dataframe to an interactive table.\"\n",
              "              style=\"display:none;\">\n",
              "        \n",
              "  <svg xmlns=\"http://www.w3.org/2000/svg\" height=\"24px\"viewBox=\"0 0 24 24\"\n",
              "       width=\"24px\">\n",
              "    <path d=\"M0 0h24v24H0V0z\" fill=\"none\"/>\n",
              "    <path d=\"M18.56 5.44l.94 2.06.94-2.06 2.06-.94-2.06-.94-.94-2.06-.94 2.06-2.06.94zm-11 1L8.5 8.5l.94-2.06 2.06-.94-2.06-.94L8.5 2.5l-.94 2.06-2.06.94zm10 10l.94 2.06.94-2.06 2.06-.94-2.06-.94-.94-2.06-.94 2.06-2.06.94z\"/><path d=\"M17.41 7.96l-1.37-1.37c-.4-.4-.92-.59-1.43-.59-.52 0-1.04.2-1.43.59L10.3 9.45l-7.72 7.72c-.78.78-.78 2.05 0 2.83L4 21.41c.39.39.9.59 1.41.59.51 0 1.02-.2 1.41-.59l7.78-7.78 2.81-2.81c.8-.78.8-2.07 0-2.86zM5.41 20L4 18.59l7.72-7.72 1.47 1.35L5.41 20z\"/>\n",
              "  </svg>\n",
              "      </button>\n",
              "      \n",
              "  <style>\n",
              "    .colab-df-container {\n",
              "      display:flex;\n",
              "      flex-wrap:wrap;\n",
              "      gap: 12px;\n",
              "    }\n",
              "\n",
              "    .colab-df-convert {\n",
              "      background-color: #E8F0FE;\n",
              "      border: none;\n",
              "      border-radius: 50%;\n",
              "      cursor: pointer;\n",
              "      display: none;\n",
              "      fill: #1967D2;\n",
              "      height: 32px;\n",
              "      padding: 0 0 0 0;\n",
              "      width: 32px;\n",
              "    }\n",
              "\n",
              "    .colab-df-convert:hover {\n",
              "      background-color: #E2EBFA;\n",
              "      box-shadow: 0px 1px 2px rgba(60, 64, 67, 0.3), 0px 1px 3px 1px rgba(60, 64, 67, 0.15);\n",
              "      fill: #174EA6;\n",
              "    }\n",
              "\n",
              "    [theme=dark] .colab-df-convert {\n",
              "      background-color: #3B4455;\n",
              "      fill: #D2E3FC;\n",
              "    }\n",
              "\n",
              "    [theme=dark] .colab-df-convert:hover {\n",
              "      background-color: #434B5C;\n",
              "      box-shadow: 0px 1px 3px 1px rgba(0, 0, 0, 0.15);\n",
              "      filter: drop-shadow(0px 1px 2px rgba(0, 0, 0, 0.3));\n",
              "      fill: #FFFFFF;\n",
              "    }\n",
              "  </style>\n",
              "\n",
              "      <script>\n",
              "        const buttonEl =\n",
              "          document.querySelector('#df-54ec285f-cdb2-444a-acff-30cdd510f517 button.colab-df-convert');\n",
              "        buttonEl.style.display =\n",
              "          google.colab.kernel.accessAllowed ? 'block' : 'none';\n",
              "\n",
              "        async function convertToInteractive(key) {\n",
              "          const element = document.querySelector('#df-54ec285f-cdb2-444a-acff-30cdd510f517');\n",
              "          const dataTable =\n",
              "            await google.colab.kernel.invokeFunction('convertToInteractive',\n",
              "                                                     [key], {});\n",
              "          if (!dataTable) return;\n",
              "\n",
              "          const docLinkHtml = 'Like what you see? Visit the ' +\n",
              "            '<a target=\"_blank\" href=https://colab.research.google.com/notebooks/data_table.ipynb>data table notebook</a>'\n",
              "            + ' to learn more about interactive tables.';\n",
              "          element.innerHTML = '';\n",
              "          dataTable['output_type'] = 'display_data';\n",
              "          await google.colab.output.renderOutput(dataTable, element);\n",
              "          const docLink = document.createElement('div');\n",
              "          docLink.innerHTML = docLinkHtml;\n",
              "          element.appendChild(docLink);\n",
              "        }\n",
              "      </script>\n",
              "    </div>\n",
              "  </div>\n",
              "  "
            ]
          },
          "metadata": {},
          "execution_count": 60
        }
      ]
    },
    {
      "cell_type": "code",
      "source": [
        "df_profile.isnull().sum()"
      ],
      "metadata": {
        "id": "KSI6esP4lpmD"
      },
      "execution_count": null,
      "outputs": []
    },
    {
      "cell_type": "markdown",
      "source": [
        "## Tweet Data\n"
      ],
      "metadata": {
        "id": "QigHIThzKgjR"
      }
    },
    {
      "cell_type": "code",
      "source": [
        "df_tweet.sample(5)"
      ],
      "metadata": {
        "id": "uz4KeIROK9el"
      },
      "execution_count": null,
      "outputs": []
    },
    {
      "cell_type": "code",
      "source": [
        "df_tweet.shape"
      ],
      "metadata": {
        "colab": {
          "base_uri": "https://localhost:8080/"
        },
        "id": "AQ6jFqWUK_2-",
        "outputId": "6807d87d-ea37-4b77-ab16-74b58f230260"
      },
      "execution_count": null,
      "outputs": [
        {
          "output_type": "execute_result",
          "data": {
            "text/plain": [
              "(10867, 2)"
            ]
          },
          "metadata": {},
          "execution_count": 12
        }
      ]
    },
    {
      "cell_type": "code",
      "source": [
        "df_tweet.info()"
      ],
      "metadata": {
        "colab": {
          "base_uri": "https://localhost:8080/"
        },
        "id": "n4Q7Ps02LKoY",
        "outputId": "f9709c67-2b2d-44b4-dc26-89638e4adc18"
      },
      "execution_count": null,
      "outputs": [
        {
          "output_type": "stream",
          "name": "stdout",
          "text": [
            "<class 'pandas.core.frame.DataFrame'>\n",
            "RangeIndex: 10867 entries, 0 to 10866\n",
            "Data columns (total 2 columns):\n",
            " #   Column    Non-Null Count  Dtype \n",
            "---  ------    --------------  ----- \n",
            " 0   username  10867 non-null  object\n",
            " 1   tweet     10597 non-null  object\n",
            "dtypes: object(2)\n",
            "memory usage: 169.9+ KB\n"
          ]
        }
      ]
    },
    {
      "cell_type": "code",
      "source": [
        "df_tweet.isnull().sum()"
      ],
      "metadata": {
        "colab": {
          "base_uri": "https://localhost:8080/"
        },
        "id": "oEFhXnsPKjeY",
        "outputId": "9958cbe4-0acc-418c-928b-201190c13817"
      },
      "execution_count": null,
      "outputs": [
        {
          "output_type": "execute_result",
          "data": {
            "text/plain": [
              "username      0\n",
              "tweet       270\n",
              "dtype: int64"
            ]
          },
          "metadata": {},
          "execution_count": 14
        }
      ]
    },
    {
      "cell_type": "code",
      "source": [
        "df_tweet.describe()"
      ],
      "metadata": {
        "colab": {
          "base_uri": "https://localhost:8080/",
          "height": 175
        },
        "id": "qr9oW1c7LQE_",
        "outputId": "21056a0d-5381-43bc-f232-05463453b6bd"
      },
      "execution_count": null,
      "outputs": [
        {
          "output_type": "execute_result",
          "data": {
            "text/plain": [
              "             username                                              tweet\n",
              "count           10867                                              10597\n",
              "unique          10867                                              10597\n",
              "top     _atikamutiara  Why?<SEP>The weekend  https://t.co/l011C36osT<...\n",
              "freq                1                                                  1"
            ],
            "text/html": [
              "\n",
              "  <div id=\"df-840fb984-daf3-41d3-989e-2f04702a357c\">\n",
              "    <div class=\"colab-df-container\">\n",
              "      <div>\n",
              "<style scoped>\n",
              "    .dataframe tbody tr th:only-of-type {\n",
              "        vertical-align: middle;\n",
              "    }\n",
              "\n",
              "    .dataframe tbody tr th {\n",
              "        vertical-align: top;\n",
              "    }\n",
              "\n",
              "    .dataframe thead th {\n",
              "        text-align: right;\n",
              "    }\n",
              "</style>\n",
              "<table border=\"1\" class=\"dataframe\">\n",
              "  <thead>\n",
              "    <tr style=\"text-align: right;\">\n",
              "      <th></th>\n",
              "      <th>username</th>\n",
              "      <th>tweet</th>\n",
              "    </tr>\n",
              "  </thead>\n",
              "  <tbody>\n",
              "    <tr>\n",
              "      <th>count</th>\n",
              "      <td>10867</td>\n",
              "      <td>10597</td>\n",
              "    </tr>\n",
              "    <tr>\n",
              "      <th>unique</th>\n",
              "      <td>10867</td>\n",
              "      <td>10597</td>\n",
              "    </tr>\n",
              "    <tr>\n",
              "      <th>top</th>\n",
              "      <td>_atikamutiara</td>\n",
              "      <td>Why?&lt;SEP&gt;The weekend  https://t.co/l011C36osT&lt;...</td>\n",
              "    </tr>\n",
              "    <tr>\n",
              "      <th>freq</th>\n",
              "      <td>1</td>\n",
              "      <td>1</td>\n",
              "    </tr>\n",
              "  </tbody>\n",
              "</table>\n",
              "</div>\n",
              "      <button class=\"colab-df-convert\" onclick=\"convertToInteractive('df-840fb984-daf3-41d3-989e-2f04702a357c')\"\n",
              "              title=\"Convert this dataframe to an interactive table.\"\n",
              "              style=\"display:none;\">\n",
              "        \n",
              "  <svg xmlns=\"http://www.w3.org/2000/svg\" height=\"24px\"viewBox=\"0 0 24 24\"\n",
              "       width=\"24px\">\n",
              "    <path d=\"M0 0h24v24H0V0z\" fill=\"none\"/>\n",
              "    <path d=\"M18.56 5.44l.94 2.06.94-2.06 2.06-.94-2.06-.94-.94-2.06-.94 2.06-2.06.94zm-11 1L8.5 8.5l.94-2.06 2.06-.94-2.06-.94L8.5 2.5l-.94 2.06-2.06.94zm10 10l.94 2.06.94-2.06 2.06-.94-2.06-.94-.94-2.06-.94 2.06-2.06.94z\"/><path d=\"M17.41 7.96l-1.37-1.37c-.4-.4-.92-.59-1.43-.59-.52 0-1.04.2-1.43.59L10.3 9.45l-7.72 7.72c-.78.78-.78 2.05 0 2.83L4 21.41c.39.39.9.59 1.41.59.51 0 1.02-.2 1.41-.59l7.78-7.78 2.81-2.81c.8-.78.8-2.07 0-2.86zM5.41 20L4 18.59l7.72-7.72 1.47 1.35L5.41 20z\"/>\n",
              "  </svg>\n",
              "      </button>\n",
              "      \n",
              "  <style>\n",
              "    .colab-df-container {\n",
              "      display:flex;\n",
              "      flex-wrap:wrap;\n",
              "      gap: 12px;\n",
              "    }\n",
              "\n",
              "    .colab-df-convert {\n",
              "      background-color: #E8F0FE;\n",
              "      border: none;\n",
              "      border-radius: 50%;\n",
              "      cursor: pointer;\n",
              "      display: none;\n",
              "      fill: #1967D2;\n",
              "      height: 32px;\n",
              "      padding: 0 0 0 0;\n",
              "      width: 32px;\n",
              "    }\n",
              "\n",
              "    .colab-df-convert:hover {\n",
              "      background-color: #E2EBFA;\n",
              "      box-shadow: 0px 1px 2px rgba(60, 64, 67, 0.3), 0px 1px 3px 1px rgba(60, 64, 67, 0.15);\n",
              "      fill: #174EA6;\n",
              "    }\n",
              "\n",
              "    [theme=dark] .colab-df-convert {\n",
              "      background-color: #3B4455;\n",
              "      fill: #D2E3FC;\n",
              "    }\n",
              "\n",
              "    [theme=dark] .colab-df-convert:hover {\n",
              "      background-color: #434B5C;\n",
              "      box-shadow: 0px 1px 3px 1px rgba(0, 0, 0, 0.15);\n",
              "      filter: drop-shadow(0px 1px 2px rgba(0, 0, 0, 0.3));\n",
              "      fill: #FFFFFF;\n",
              "    }\n",
              "  </style>\n",
              "\n",
              "      <script>\n",
              "        const buttonEl =\n",
              "          document.querySelector('#df-840fb984-daf3-41d3-989e-2f04702a357c button.colab-df-convert');\n",
              "        buttonEl.style.display =\n",
              "          google.colab.kernel.accessAllowed ? 'block' : 'none';\n",
              "\n",
              "        async function convertToInteractive(key) {\n",
              "          const element = document.querySelector('#df-840fb984-daf3-41d3-989e-2f04702a357c');\n",
              "          const dataTable =\n",
              "            await google.colab.kernel.invokeFunction('convertToInteractive',\n",
              "                                                     [key], {});\n",
              "          if (!dataTable) return;\n",
              "\n",
              "          const docLinkHtml = 'Like what you see? Visit the ' +\n",
              "            '<a target=\"_blank\" href=https://colab.research.google.com/notebooks/data_table.ipynb>data table notebook</a>'\n",
              "            + ' to learn more about interactive tables.';\n",
              "          element.innerHTML = '';\n",
              "          dataTable['output_type'] = 'display_data';\n",
              "          await google.colab.output.renderOutput(dataTable, element);\n",
              "          const docLink = document.createElement('div');\n",
              "          docLink.innerHTML = docLinkHtml;\n",
              "          element.appendChild(docLink);\n",
              "        }\n",
              "      </script>\n",
              "    </div>\n",
              "  </div>\n",
              "  "
            ]
          },
          "metadata": {},
          "execution_count": 15
        }
      ]
    },
    {
      "cell_type": "markdown",
      "source": [
        "## Occupational Area Ratio\n"
      ],
      "metadata": {
        "id": "9maduivaNVZ3"
      }
    },
    {
      "cell_type": "code",
      "source": [
        "sns.countplot(y='occupation', data=df_profile)\n",
        "plt.show()"
      ],
      "metadata": {
        "colab": {
          "base_uri": "https://localhost:8080/",
          "height": 279
        },
        "id": "fahsobVWNYHu",
        "outputId": "41b8622c-fb13-40b1-c058-7ed14d5531ed"
      },
      "execution_count": null,
      "outputs": [
        {
          "output_type": "display_data",
          "data": {
            "text/plain": [
              "<Figure size 432x288 with 1 Axes>"
            ],
            "image/png": "[encoded data removed]"
          },
          "metadata": {
            "needs_background": "light"
          }
        }
      ]
    },
    {
      "cell_type": "code",
      "source": [
        "df_profile[\"occupation\"].value_counts()"
      ],
      "metadata": {
        "colab": {
          "base_uri": "https://localhost:8080/"
        },
        "id": "qovAOINljclE",
        "outputId": "60fc1291-2c22-4be3-81de-ba2057f7928a"
      },
      "execution_count": null,
      "outputs": [
        {
          "output_type": "execute_result",
          "data": {
            "text/plain": [
              "-                            9644\n",
              "hiburan                       703\n",
              "sosial kemasyarakatan         350\n",
              "pendidikan dan penelitian     277\n",
              "sains dan teknologi           263\n",
              "ekonomi dan bisnis            228\n",
              "media                         110\n",
              "olahraga                       83\n",
              "hospitality & tourism          37\n",
              "seni                           36\n",
              "kesehatan                      30\n",
              "hobi                           21\n",
              "Name: occupation, dtype: int64"
            ]
          },
          "metadata": {},
          "execution_count": 67
        }
      ]
    },
    {
      "cell_type": "markdown",
      "source": [
        "# Data Preprocessing"
      ],
      "metadata": {
        "id": "jPbrSn5_4sy8"
      }
    },
    {
      "cell_type": "markdown",
      "source": [
        "### User Profile"
      ],
      "metadata": {
        "id": "nslgSW85chOB"
      }
    },
    {
      "cell_type": "markdown",
      "source": [
        "<p>Melakukan pemrosesan data teks agar dapat dipelajari oleh model.</p>\n",
        "<p>Drop null/nana values pada fitur name dan description. </p>\n",
        "\n"
      ],
      "metadata": {
        "id": "0daHo0yFevAP"
      }
    },
    {
      "cell_type": "code",
      "source": [
        "no_name_idx = df_profile[df_profile['name'].isnull()].index\n",
        "df_profile.drop(no_name_idx, inplace=True)\n",
        "df_profile = df_profile.dropna(subset=['description'])\n",
        "df_profile.head()"
      ],
      "metadata": {
        "colab": {
          "base_uri": "https://localhost:8080/",
          "height": 206
        },
        "id": "U0Unhu0McfzA",
        "outputId": "99c3aed3-8b44-47ee-9ff9-83ca451638b0"
      },
      "execution_count": 7,
      "outputs": [
        {
          "output_type": "execute_result",
          "data": {
            "text/plain": [
              "                                         description                name  \\\n",
              "1  Fearfully and wonderfully made. A traveller bo...     Lolita Agustine   \n",
              "2  Penulis FILOSOFI TERAS. Ketua Umum Partai Kead...   Henry Manampiring   \n",
              "4  Founder of Drone Emprit and Media Kernels Indo...        Ismail Fahmi   \n",
              "6                               Dean at @FASILKOM_UI       Mirna Adriani   \n",
              "8  EDM Idol Anime Bootleg Man. @Alter_Synth Resid...  「Alter Synth」Magna   \n",
              "\n",
              "                  occupation  \n",
              "1        sains dan teknologi  \n",
              "2                    hiburan  \n",
              "4        sains dan teknologi  \n",
              "6  pendidikan dan penelitian  \n",
              "8        sains dan teknologi  "
            ],
            "text/html": [
              "\n",
              "  <div id=\"df-e36cb7b2-0c28-4950-a4be-21f510123b1a\">\n",
              "    <div class=\"colab-df-container\">\n",
              "      <div>\n",
              "<style scoped>\n",
              "    .dataframe tbody tr th:only-of-type {\n",
              "        vertical-align: middle;\n",
              "    }\n",
              "\n",
              "    .dataframe tbody tr th {\n",
              "        vertical-align: top;\n",
              "    }\n",
              "\n",
              "    .dataframe thead th {\n",
              "        text-align: right;\n",
              "    }\n",
              "</style>\n",
              "<table border=\"1\" class=\"dataframe\">\n",
              "  <thead>\n",
              "    <tr style=\"text-align: right;\">\n",
              "      <th></th>\n",
              "      <th>description</th>\n",
              "      <th>name</th>\n",
              "      <th>occupation</th>\n",
              "    </tr>\n",
              "  </thead>\n",
              "  <tbody>\n",
              "    <tr>\n",
              "      <th>1</th>\n",
              "      <td>Fearfully and wonderfully made. A traveller bo...</td>\n",
              "      <td>Lolita Agustine</td>\n",
              "      <td>sains dan teknologi</td>\n",
              "    </tr>\n",
              "    <tr>\n",
              "      <th>2</th>\n",
              "      <td>Penulis FILOSOFI TERAS. Ketua Umum Partai Kead...</td>\n",
              "      <td>Henry Manampiring</td>\n",
              "      <td>hiburan</td>\n",
              "    </tr>\n",
              "    <tr>\n",
              "      <th>4</th>\n",
              "      <td>Founder of Drone Emprit and Media Kernels Indo...</td>\n",
              "      <td>Ismail Fahmi</td>\n",
              "      <td>sains dan teknologi</td>\n",
              "    </tr>\n",
              "    <tr>\n",
              "      <th>6</th>\n",
              "      <td>Dean at @FASILKOM_UI</td>\n",
              "      <td>Mirna Adriani</td>\n",
              "      <td>pendidikan dan penelitian</td>\n",
              "    </tr>\n",
              "    <tr>\n",
              "      <th>8</th>\n",
              "      <td>EDM Idol Anime Bootleg Man. @Alter_Synth Resid...</td>\n",
              "      <td>「Alter Synth」Magna</td>\n",
              "      <td>sains dan teknologi</td>\n",
              "    </tr>\n",
              "  </tbody>\n",
              "</table>\n",
              "</div>\n",
              "      <button class=\"colab-df-convert\" onclick=\"convertToInteractive('df-e36cb7b2-0c28-4950-a4be-21f510123b1a')\"\n",
              "              title=\"Convert this dataframe to an interactive table.\"\n",
              "              style=\"display:none;\">\n",
              "        \n",
              "  <svg xmlns=\"http://www.w3.org/2000/svg\" height=\"24px\"viewBox=\"0 0 24 24\"\n",
              "       width=\"24px\">\n",
              "    <path d=\"M0 0h24v24H0V0z\" fill=\"none\"/>\n",
              "    <path d=\"M18.56 5.44l.94 2.06.94-2.06 2.06-.94-2.06-.94-.94-2.06-.94 2.06-2.06.94zm-11 1L8.5 8.5l.94-2.06 2.06-.94-2.06-.94L8.5 2.5l-.94 2.06-2.06.94zm10 10l.94 2.06.94-2.06 2.06-.94-2.06-.94-.94-2.06-.94 2.06-2.06.94z\"/><path d=\"M17.41 7.96l-1.37-1.37c-.4-.4-.92-.59-1.43-.59-.52 0-1.04.2-1.43.59L10.3 9.45l-7.72 7.72c-.78.78-.78 2.05 0 2.83L4 21.41c.39.39.9.59 1.41.59.51 0 1.02-.2 1.41-.59l7.78-7.78 2.81-2.81c.8-.78.8-2.07 0-2.86zM5.41 20L4 18.59l7.72-7.72 1.47 1.35L5.41 20z\"/>\n",
              "  </svg>\n",
              "      </button>\n",
              "      \n",
              "  <style>\n",
              "    .colab-df-container {\n",
              "      display:flex;\n",
              "      flex-wrap:wrap;\n",
              "      gap: 12px;\n",
              "    }\n",
              "\n",
              "    .colab-df-convert {\n",
              "      background-color: #E8F0FE;\n",
              "      border: none;\n",
              "      border-radius: 50%;\n",
              "      cursor: pointer;\n",
              "      display: none;\n",
              "      fill: #1967D2;\n",
              "      height: 32px;\n",
              "      padding: 0 0 0 0;\n",
              "      width: 32px;\n",
              "    }\n",
              "\n",
              "    .colab-df-convert:hover {\n",
              "      background-color: #E2EBFA;\n",
              "      box-shadow: 0px 1px 2px rgba(60, 64, 67, 0.3), 0px 1px 3px 1px rgba(60, 64, 67, 0.15);\n",
              "      fill: #174EA6;\n",
              "    }\n",
              "\n",
              "    [theme=dark] .colab-df-convert {\n",
              "      background-color: #3B4455;\n",
              "      fill: #D2E3FC;\n",
              "    }\n",
              "\n",
              "    [theme=dark] .colab-df-convert:hover {\n",
              "      background-color: #434B5C;\n",
              "      box-shadow: 0px 1px 3px 1px rgba(0, 0, 0, 0.15);\n",
              "      filter: drop-shadow(0px 1px 2px rgba(0, 0, 0, 0.3));\n",
              "      fill: #FFFFFF;\n",
              "    }\n",
              "  </style>\n",
              "\n",
              "      <script>\n",
              "        const buttonEl =\n",
              "          document.querySelector('#df-e36cb7b2-0c28-4950-a4be-21f510123b1a button.colab-df-convert');\n",
              "        buttonEl.style.display =\n",
              "          google.colab.kernel.accessAllowed ? 'block' : 'none';\n",
              "\n",
              "        async function convertToInteractive(key) {\n",
              "          const element = document.querySelector('#df-e36cb7b2-0c28-4950-a4be-21f510123b1a');\n",
              "          const dataTable =\n",
              "            await google.colab.kernel.invokeFunction('convertToInteractive',\n",
              "                                                     [key], {});\n",
              "          if (!dataTable) return;\n",
              "\n",
              "          const docLinkHtml = 'Like what you see? Visit the ' +\n",
              "            '<a target=\"_blank\" href=https://colab.research.google.com/notebooks/data_table.ipynb>data table notebook</a>'\n",
              "            + ' to learn more about interactive tables.';\n",
              "          element.innerHTML = '';\n",
              "          dataTable['output_type'] = 'display_data';\n",
              "          await google.colab.output.renderOutput(dataTable, element);\n",
              "          const docLink = document.createElement('div');\n",
              "          docLink.innerHTML = docLinkHtml;\n",
              "          element.appendChild(docLink);\n",
              "        }\n",
              "      </script>\n",
              "    </div>\n",
              "  </div>\n",
              "  "
            ]
          },
          "metadata": {},
          "execution_count": 7
        }
      ]
    },
    {
      "cell_type": "markdown",
      "source": [
        "## User Tweet"
      ],
      "metadata": {
        "id": "M4QFjSmyl7gW"
      }
    },
    {
      "cell_type": "markdown",
      "source": [
        "Memilih atribut yang akan diproses dan dipelajari oleh model."
      ],
      "metadata": {
        "id": "8fm0UNh5CVgS"
      }
    },
    {
      "cell_type": "code",
      "source": [
        "df_res_tweet = df_tweet[['tweet', 'occupation']]"
      ],
      "metadata": {
        "id": "KsGm2mEa4wtm"
      },
      "execution_count": 60,
      "outputs": []
    },
    {
      "cell_type": "code",
      "source": [
        "no_gender_idx = df_res_tweet[df_res_tweet['occupation'] == '-'].index\n",
        "df_res_tweet.drop(no_gender_idx, inplace=True)"
      ],
      "metadata": {
        "id": "CuwDFjSXmFHC"
      },
      "execution_count": null,
      "outputs": []
    },
    {
      "cell_type": "code",
      "source": [
        "no_tweet_idx = df_res_tweet[df_res_tweet['tweet'].isnull()].index\n",
        "df_res_tweet.drop(no_tweet_idx, inplace=True)"
      ],
      "metadata": {
        "id": "PsBubtOjolIq"
      },
      "execution_count": null,
      "outputs": []
    },
    {
      "cell_type": "code",
      "source": [
        "df_res_tweet['num_tweet'] = df_res_tweet['tweet'].apply(lambda tweet: len(tweet.split(\"<SEP>\")))"
      ],
      "metadata": {
        "id": "1T7tzntrmD37"
      },
      "execution_count": null,
      "outputs": []
    },
    {
      "cell_type": "code",
      "source": [
        "for idx, row in df_res_tweet.iterrows():\n",
        "\n",
        "  # split each tweet into a list of tweets\n",
        "  list_tweet = row['tweet'].split(\"<SEP>\")\n",
        "\n",
        "  # set the limit to max 250\n",
        "  if row['num_tweet'] > 250:\n",
        "    random_list_tweet = np.random.choice(list_tweet, 250, replace=False)\n",
        "    df_res_tweet.at[idx, 'tweet'] = ' '.join(random_list_tweet)\n",
        "  else:\n",
        "    df_res_tweet.at[idx, 'tweet'] =' '.join(list_tweet)"
      ],
      "metadata": {
        "id": "Mq6dpwq8mhtC"
      },
      "execution_count": null,
      "outputs": []
    },
    {
      "cell_type": "markdown",
      "source": [
        "## Cleaning Data"
      ],
      "metadata": {
        "id": "DcBY56pqhldF"
      }
    },
    {
      "cell_type": "code",
      "source": [
        "def clean_data(tweet):\n",
        "    # lowercase\n",
        "    normal_tw = tweet.lower()\n",
        "    # hapus b'\n",
        "    normal_tw = re.sub(r'^b\\'', '', normal_tw)\n",
        "    # hapus RT\n",
        "    normal_tw = re.sub(r'^rt ', '', normal_tw)\n",
        "    # hapus emoji\n",
        "    normal_tw = re.sub(r'\\\\x.{2}', '', normal_tw)\n",
        "    # hapus www.* atau https?://* (URL)\n",
        "    normal_tw = re.sub(r'((www\\.[^\\s]*)|(https?://[^\\s]*))', '', normal_tw)\n",
        "    # remove spasi berlebih\n",
        "    normal_tw = re.sub(r'\\s+', ' ', normal_tw)\n",
        "    # trim depan belakang\n",
        "    normal_tw = normal_tw.strip()\n",
        "    # regex huruf yang berulang kaya haiiii (untuk fitur unigram)\n",
        "    normal_regex = re.compile(r\"(.)\\1{1,}\")\n",
        "    # buang huruf yang berulang\n",
        "    normal_tw = normal_regex.sub(r\"\\1\\1\", normal_tw)\n",
        "    # hapus @username\n",
        "    normal_tw = re.sub(r'@[^\\s]+', '', normal_tw)\n",
        "    # hapus hashtag\n",
        "    normal_tw = re.sub(r'#[^\\s]+', '', normal_tw)\n",
        "    # hapus tanda baca\n",
        "    normal_tw = re.sub(r'[^\\w\\s]', '', normal_tw) \n",
        "    # hapus angka\n",
        "    normal_tw = re.sub(r'\\d+', ' ', normal_tw) \n",
        "    return normal_tw\n",
        "\n",
        "def remove_stopwords_and_normalize(tweet):\n",
        "    token = nltk.word_tokenize(tweet)\n",
        "    token_new = []\n",
        "    for k in token:\n",
        "        if k in df_kamus_singkatan['singkatan'].values:\n",
        "            k = df_kamus_singkatan.loc[df_kamus_singkatan['singkatan']\n",
        "                                       == k, 'asli'].values[0]\n",
        "        if k in df_kamus_alay['slang'].values:\n",
        "            k = df_kamus_alay.loc[df_kamus_alay['slang']\n",
        "                                  == k, 'formal'].values[0]\n",
        "        if k not in stopwords[0].values:\n",
        "            token_new.append(k)\n",
        "\n",
        "    str_clean = ' '.join(token_new)\n",
        "    return str_clean\n",
        "\n",
        "def pra_pemrosesan(list_tweet):\n",
        "    tweet_clean = []\n",
        "    for tw in tqdm(list_tweet):\n",
        "        normal_tweet = clean_data(tw)\n",
        "        normal_tweet = remove_stopwords_and_normalize(normal_tweet)\n",
        "        tweet_clean.append(normal_tweet)\n",
        "    return tweet_clean"
      ],
      "metadata": {
        "id": "o5uaBmxIDMNu"
      },
      "execution_count": 11,
      "outputs": []
    },
    {
      "cell_type": "code",
      "source": [
        "# Mengambil data\n",
        "!wget -q --no-check-certificate 'https://docs.google.com/uc?export=download&id=1rFLB_1QpZhKyWFGxqPo5znTEkh7dUhPf' -O dataset.csv\n",
        "!wget -q --no-check-certificate 'https://docs.google.com/uc?export=download&id=1xEIQwYre1SR71uRdQuez9MDmAUIysvAG' -O stopwordsID.csv\n",
        "!wget -q --no-check-certificate 'https://docs.google.com/uc?export=download&id=19NOzXA8Voturopg_DTuiMns3s4M2IAUz' -O kamus_singkatan.csv\n",
        "!wget -q --no-check-certificate 'https://docs.google.com/uc?export=download&id=1VjgivEr1pxyRCuyhVifPnaReFz0yd8Us' -O colloquial-indonesian-lexicon.csv"
      ],
      "metadata": {
        "id": "8iLppv7DFJnJ"
      },
      "execution_count": 12,
      "outputs": []
    },
    {
      "cell_type": "code",
      "source": [
        "stopwords = pd.read_csv(\"stopwordsID.csv\", header=None)\n",
        "df_kamus_singkatan = pd.read_csv('kamus_singkatan.csv')\n",
        "df_kamus_alay = pd.read_csv('colloquial-indonesian-lexicon.csv')"
      ],
      "metadata": {
        "id": "Jz3Voy3PhwQz"
      },
      "execution_count": 13,
      "outputs": []
    },
    {
      "cell_type": "code",
      "source": [
        "profile_name = df_profile['name']\n",
        "clean_tweet_name = np.array(pra_pemrosesan(profile_name))\n",
        "profile_desc = df_profile['description']\n",
        "clean_tweet_desc = np.array(pra_pemrosesan(profile_desc))"
      ],
      "metadata": {
        "colab": {
          "base_uri": "https://localhost:8080/"
        },
        "id": "GMvZ6R2khzYK",
        "outputId": "c5a39c61-315b-4236-e866-3d06efed14b0"
      },
      "execution_count": 11,
      "outputs": [
        {
          "output_type": "stream",
          "name": "stderr",
          "text": [
            "100%|██████████| 8221/8221 [00:09<00:00, 890.02it/s]\n",
            "100%|██████████| 8221/8221 [00:28<00:00, 283.66it/s]\n"
          ]
        }
      ]
    },
    {
      "cell_type": "code",
      "source": [
        "df_profile_clean = pd.DataFrame({\n",
        "    'name' : clean_tweet_name,\n",
        "    'description': clean_tweet_desc,\n",
        "    'occupation': df_profile['occupation'],\n",
        "})"
      ],
      "metadata": {
        "id": "Ev5p85einhS7"
      },
      "execution_count": 12,
      "outputs": []
    },
    {
      "cell_type": "code",
      "source": [
        "raw_tweet = df_res_tweet['tweet']\n",
        "clean_tweet = np.array(pra_pemrosesan(raw_tweet))"
      ],
      "metadata": {
        "id": "9xSfAF9LEYra",
        "colab": {
          "base_uri": "https://localhost:8080/"
        },
        "outputId": "fcf324c2-7d32-445b-e82e-aa066fb3fead"
      },
      "execution_count": null,
      "outputs": [
        {
          "output_type": "stream",
          "name": "stderr",
          "text": [
            "100%|██████████| 1090/1090 [24:31<00:00,  1.35s/it]\n"
          ]
        }
      ]
    },
    {
      "cell_type": "code",
      "source": [
        "df_res = pd.DataFrame({\n",
        "    'tweet': clean_tweet,\n",
        "    'occupation': df_res_tweet['occupation'],\n",
        "})"
      ],
      "metadata": {
        "id": "qmUPOPCOU1as"
      },
      "execution_count": null,
      "outputs": []
    },
    {
      "cell_type": "code",
      "source": [
        "df_res.to_csv(path+'CODE/df_clean_tweet_occupation.csv')"
      ],
      "metadata": {
        "id": "0AIxiUroXx1N"
      },
      "execution_count": null,
      "outputs": []
    },
    {
      "cell_type": "code",
      "source": [
        "# load clean data\n",
        "df_res_tweet = pd.read_csv(path+'df_clean_tweet_occupation.csv')"
      ],
      "metadata": {
        "id": "ZJgvtBpMYY66"
      },
      "execution_count": 4,
      "outputs": []
    },
    {
      "cell_type": "code",
      "source": [
        "na_tweet_idx = df_res_tweet[df_res_tweet['tweet'].isna()].index\n",
        "df_res_tweet.drop(na_tweet_idx, inplace=True)"
      ],
      "metadata": {
        "id": "uxNm_a6oP7h7"
      },
      "execution_count": 5,
      "outputs": []
    },
    {
      "cell_type": "code",
      "source": [
        "df_res_tweet[\"occupation\"].value_counts()"
      ],
      "metadata": {
        "id": "RAXj81XjtZO2",
        "colab": {
          "base_uri": "https://localhost:8080/"
        },
        "outputId": "9da45b22-0c4c-41f3-f9b8-a3e0716f94e1"
      },
      "execution_count": 6,
      "outputs": [
        {
          "output_type": "execute_result",
          "data": {
            "text/plain": [
              "hiburan                      541\n",
              "sains dan teknologi          164\n",
              "sosial kemasyarakatan        145\n",
              "pendidikan dan penelitian     81\n",
              "ekonomi dan bisnis            80\n",
              "media                         20\n",
              "hospitality & tourism         20\n",
              "seni                          19\n",
              "kesehatan                     19\n",
              "Name: occupation, dtype: int64"
            ]
          },
          "metadata": {},
          "execution_count": 6
        }
      ]
    },
    {
      "cell_type": "markdown",
      "source": [
        "> Dari hasil diatas terlihat bahwa aspek olahraga menghilang karena proses cleaning pada atribut tweet"
      ],
      "metadata": {
        "id": "hp6jwi1-kBeG"
      }
    },
    {
      "cell_type": "markdown",
      "source": [
        "## Load Additional Data"
      ],
      "metadata": {
        "id": "2c5roz9wHlVk"
      }
    },
    {
      "cell_type": "markdown",
      "source": [
        "### Load Additional Data Profile dengan menghitung kemunculan kata pada fitur description"
      ],
      "metadata": {
        "id": "UqQoA67ojQzX"
      }
    },
    {
      "cell_type": "markdown",
      "source": [
        "<p>Untuk mengatasi permaasalahan banyak nilai terbuang karena pada fitur occupation banyak memiliki nilai \"-\" maka kami mencoba menambah data training dengan mengisi nilai null pada atribut pekerjaan tersebut dengan mengambil suatu jenis pekerjaan berdasarkan nilai maksimal jumlah kata yang muncul pada fitur description pada list gabungan dari setiap jenis pekerjaan yang sudah ada</p>"
      ],
      "metadata": {
        "id": "ZX9Trwpci9Po"
      }
    },
    {
      "cell_type": "code",
      "source": [
        "df_profile_clean = df_profile_clean[df_profile_clean['occupation'] != 'hobi']\n",
        "df_profile_clean[\"occupation\"].value_counts()"
      ],
      "metadata": {
        "id": "fKQZ1LPGoAAD"
      },
      "execution_count": 7,
      "outputs": []
    },
    {
      "cell_type": "code",
      "source": [
        "df_without_empty = df_profile_clean.copy()\n",
        "no_occ_idx = df_without_empty[df_without_empty['occupation'] == '-'].index\n",
        "df_without_empty.drop(no_occ_idx, inplace=True)"
      ],
      "metadata": {
        "id": "VJZnan7bodQk"
      },
      "execution_count": 14,
      "outputs": []
    },
    {
      "cell_type": "code",
      "source": [
        "df_without_empty_join =  df_without_empty.groupby('occupation', as_index=False).agg(' '.join)\n",
        "df_without_empty_join[\"description\"] = df_without_empty_join[\"description\"].str.split(\" \")\n",
        "df_without_empty_join.head()"
      ],
      "metadata": {
        "colab": {
          "base_uri": "https://localhost:8080/",
          "height": 206
        },
        "id": "DcwdmRpNqy34",
        "outputId": "b91e3560-e2b0-4853-846f-b79268427f6d"
      },
      "execution_count": 15,
      "outputs": [
        {
          "output_type": "execute_result",
          "data": {
            "text/plain": [
              "              occupation                                               name  \\\n",
              "0     ekonomi dan bisnis  ᴏᴋᴛᴀᴠɪᴀɴᴜs geraldy jess jessica b michelle ima...   \n",
              "1                hiburan  henry manampiring sarah hadju ria winata ayu s...   \n",
              "2  hospitality & tourism  fellya hartono ariefpokto iqbalkautsarcom atan...   \n",
              "3              kesehatan  adibkhumaidi aminuddin hamzah hafiq arif sabta...   \n",
              "4                  media  helmi johannes christina helen stanley widiant...   \n",
              "\n",
              "                                         description  \n",
              "0  [yogyakarta, ig, misqueen, edgy, ceo, budaq, k...  \n",
              "1  [penulis, filosofi, teras, ketua, partai, kead...  \n",
              "2  [former, net, journalist, videographer, video,...  \n",
              "3  [president, elect, ima, idi, orthopedic, and, ...  \n",
              "4  [tv, journalist, world, traveler, license, pla...  "
            ],
            "text/html": [
              "\n",
              "  <div id=\"df-f1ed321d-aa6b-4d48-b4dc-b5c5108334cd\">\n",
              "    <div class=\"colab-df-container\">\n",
              "      <div>\n",
              "<style scoped>\n",
              "    .dataframe tbody tr th:only-of-type {\n",
              "        vertical-align: middle;\n",
              "    }\n",
              "\n",
              "    .dataframe tbody tr th {\n",
              "        vertical-align: top;\n",
              "    }\n",
              "\n",
              "    .dataframe thead th {\n",
              "        text-align: right;\n",
              "    }\n",
              "</style>\n",
              "<table border=\"1\" class=\"dataframe\">\n",
              "  <thead>\n",
              "    <tr style=\"text-align: right;\">\n",
              "      <th></th>\n",
              "      <th>occupation</th>\n",
              "      <th>name</th>\n",
              "      <th>description</th>\n",
              "    </tr>\n",
              "  </thead>\n",
              "  <tbody>\n",
              "    <tr>\n",
              "      <th>0</th>\n",
              "      <td>ekonomi dan bisnis</td>\n",
              "      <td>ᴏᴋᴛᴀᴠɪᴀɴᴜs geraldy jess jessica b michelle ima...</td>\n",
              "      <td>[yogyakarta, ig, misqueen, edgy, ceo, budaq, k...</td>\n",
              "    </tr>\n",
              "    <tr>\n",
              "      <th>1</th>\n",
              "      <td>hiburan</td>\n",
              "      <td>henry manampiring sarah hadju ria winata ayu s...</td>\n",
              "      <td>[penulis, filosofi, teras, ketua, partai, kead...</td>\n",
              "    </tr>\n",
              "    <tr>\n",
              "      <th>2</th>\n",
              "      <td>hospitality &amp; tourism</td>\n",
              "      <td>fellya hartono ariefpokto iqbalkautsarcom atan...</td>\n",
              "      <td>[former, net, journalist, videographer, video,...</td>\n",
              "    </tr>\n",
              "    <tr>\n",
              "      <th>3</th>\n",
              "      <td>kesehatan</td>\n",
              "      <td>adibkhumaidi aminuddin hamzah hafiq arif sabta...</td>\n",
              "      <td>[president, elect, ima, idi, orthopedic, and, ...</td>\n",
              "    </tr>\n",
              "    <tr>\n",
              "      <th>4</th>\n",
              "      <td>media</td>\n",
              "      <td>helmi johannes christina helen stanley widiant...</td>\n",
              "      <td>[tv, journalist, world, traveler, license, pla...</td>\n",
              "    </tr>\n",
              "  </tbody>\n",
              "</table>\n",
              "</div>\n",
              "      <button class=\"colab-df-convert\" onclick=\"convertToInteractive('df-f1ed321d-aa6b-4d48-b4dc-b5c5108334cd')\"\n",
              "              title=\"Convert this dataframe to an interactive table.\"\n",
              "              style=\"display:none;\">\n",
              "        \n",
              "  <svg xmlns=\"http://www.w3.org/2000/svg\" height=\"24px\"viewBox=\"0 0 24 24\"\n",
              "       width=\"24px\">\n",
              "    <path d=\"M0 0h24v24H0V0z\" fill=\"none\"/>\n",
              "    <path d=\"M18.56 5.44l.94 2.06.94-2.06 2.06-.94-2.06-.94-.94-2.06-.94 2.06-2.06.94zm-11 1L8.5 8.5l.94-2.06 2.06-.94-2.06-.94L8.5 2.5l-.94 2.06-2.06.94zm10 10l.94 2.06.94-2.06 2.06-.94-2.06-.94-.94-2.06-.94 2.06-2.06.94z\"/><path d=\"M17.41 7.96l-1.37-1.37c-.4-.4-.92-.59-1.43-.59-.52 0-1.04.2-1.43.59L10.3 9.45l-7.72 7.72c-.78.78-.78 2.05 0 2.83L4 21.41c.39.39.9.59 1.41.59.51 0 1.02-.2 1.41-.59l7.78-7.78 2.81-2.81c.8-.78.8-2.07 0-2.86zM5.41 20L4 18.59l7.72-7.72 1.47 1.35L5.41 20z\"/>\n",
              "  </svg>\n",
              "      </button>\n",
              "      \n",
              "  <style>\n",
              "    .colab-df-container {\n",
              "      display:flex;\n",
              "      flex-wrap:wrap;\n",
              "      gap: 12px;\n",
              "    }\n",
              "\n",
              "    .colab-df-convert {\n",
              "      background-color: #E8F0FE;\n",
              "      border: none;\n",
              "      border-radius: 50%;\n",
              "      cursor: pointer;\n",
              "      display: none;\n",
              "      fill: #1967D2;\n",
              "      height: 32px;\n",
              "      padding: 0 0 0 0;\n",
              "      width: 32px;\n",
              "    }\n",
              "\n",
              "    .colab-df-convert:hover {\n",
              "      background-color: #E2EBFA;\n",
              "      box-shadow: 0px 1px 2px rgba(60, 64, 67, 0.3), 0px 1px 3px 1px rgba(60, 64, 67, 0.15);\n",
              "      fill: #174EA6;\n",
              "    }\n",
              "\n",
              "    [theme=dark] .colab-df-convert {\n",
              "      background-color: #3B4455;\n",
              "      fill: #D2E3FC;\n",
              "    }\n",
              "\n",
              "    [theme=dark] .colab-df-convert:hover {\n",
              "      background-color: #434B5C;\n",
              "      box-shadow: 0px 1px 3px 1px rgba(0, 0, 0, 0.15);\n",
              "      filter: drop-shadow(0px 1px 2px rgba(0, 0, 0, 0.3));\n",
              "      fill: #FFFFFF;\n",
              "    }\n",
              "  </style>\n",
              "\n",
              "      <script>\n",
              "        const buttonEl =\n",
              "          document.querySelector('#df-f1ed321d-aa6b-4d48-b4dc-b5c5108334cd button.colab-df-convert');\n",
              "        buttonEl.style.display =\n",
              "          google.colab.kernel.accessAllowed ? 'block' : 'none';\n",
              "\n",
              "        async function convertToInteractive(key) {\n",
              "          const element = document.querySelector('#df-f1ed321d-aa6b-4d48-b4dc-b5c5108334cd');\n",
              "          const dataTable =\n",
              "            await google.colab.kernel.invokeFunction('convertToInteractive',\n",
              "                                                     [key], {});\n",
              "          if (!dataTable) return;\n",
              "\n",
              "          const docLinkHtml = 'Like what you see? Visit the ' +\n",
              "            '<a target=\"_blank\" href=https://colab.research.google.com/notebooks/data_table.ipynb>data table notebook</a>'\n",
              "            + ' to learn more about interactive tables.';\n",
              "          element.innerHTML = '';\n",
              "          dataTable['output_type'] = 'display_data';\n",
              "          await google.colab.output.renderOutput(dataTable, element);\n",
              "          const docLink = document.createElement('div');\n",
              "          docLink.innerHTML = docLinkHtml;\n",
              "          element.appendChild(docLink);\n",
              "        }\n",
              "      </script>\n",
              "    </div>\n",
              "  </div>\n",
              "  "
            ]
          },
          "metadata": {},
          "execution_count": 15
        }
      ]
    },
    {
      "cell_type": "code",
      "source": [
        "list_occ_words_dict = dict()\n",
        "\n",
        "for _, row in df_without_empty_join.iterrows():\n",
        "  list_occ_words_dict[row['occupation']] = row['description']"
      ],
      "metadata": {
        "id": "7aM7gQ2brzdu"
      },
      "execution_count": 16,
      "outputs": []
    },
    {
      "cell_type": "code",
      "source": [
        "list_unique_occ = list(list_occ_words_dict.keys())\n",
        "word_occ_counter_dict = dict()\n",
        "\n",
        "for occ in list_unique_occ:\n",
        "  list_counter = []\n",
        "  for _, row in df_profile_clean.iterrows():\n",
        "    list_tweet = row['description'].split(\" \")\n",
        "    counter = 0\n",
        "\n",
        "    for word in list_tweet:\n",
        "      if word in list_occ_words_dict[occ]:\n",
        "        counter += 1\n",
        "      else:\n",
        "        continue\n",
        "    \n",
        "    list_counter.append(counter)\n",
        "\n",
        "  word_occ_counter_dict[f\"{occ}\"] = list_counter"
      ],
      "metadata": {
        "id": "Swffj9T5r9gD"
      },
      "execution_count": 17,
      "outputs": []
    },
    {
      "cell_type": "code",
      "source": [
        "count = pd.DataFrame(word_occ_counter_dict)\n",
        "df_profile_clean= df_profile_clean.reset_index(inplace = False)\n",
        "df_profile_clean.drop(df_profile_clean.columns[[0]], axis=1, inplace=True)"
      ],
      "metadata": {
        "id": "aMQ_T4Q_uXGP"
      },
      "execution_count": 18,
      "outputs": []
    },
    {
      "cell_type": "code",
      "source": [
        "df_res_profile = pd.concat([df_profile_clean,count], axis=1)\n",
        "df_res_profile.head()"
      ],
      "metadata": {
        "colab": {
          "base_uri": "https://localhost:8080/",
          "height": 528
        },
        "id": "IMU3d4j9slku",
        "outputId": "ca624130-d046-4095-cb80-4bfac9754e87"
      },
      "execution_count": 19,
      "outputs": [
        {
          "output_type": "execute_result",
          "data": {
            "text/plain": [
              "                name                                        description  \\\n",
              "0    lolita agustine  fearfully and wonderfully made a traveller bot...   \n",
              "1  henry manampiring  penulis filosofi teras ketua partai keadilan k...   \n",
              "2       ismail fahmi  founder of drone emprit and media kernels indo...   \n",
              "3      mirna adriani                                            dean at   \n",
              "4   alter synthmagna  edm idol anime bootleg man resident spearhead ...   \n",
              "\n",
              "                  occupation  ekonomi dan bisnis  hiburan  \\\n",
              "0        sains dan teknologi                   3        5   \n",
              "1                    hiburan                   2        8   \n",
              "2        sains dan teknologi                   4        5   \n",
              "3  pendidikan dan penelitian                   1        1   \n",
              "4        sains dan teknologi                   4       10   \n",
              "\n",
              "   hospitality & tourism  kesehatan  media  olahraga  \\\n",
              "0                      5          4      1         4   \n",
              "1                      0          0      0         0   \n",
              "2                      4          3      3         3   \n",
              "3                      0          1      1         0   \n",
              "4                      3          4      4         4   \n",
              "\n",
              "   pendidikan dan penelitian  sains dan teknologi  seni  sosial kemasyarakatan  \n",
              "0                          3                   10     0                      3  \n",
              "1                          0                    0     0                      3  \n",
              "2                          5                    8     3                      5  \n",
              "3                          2                    1     0                      1  \n",
              "4                          5                   20     2                      5  "
            ],
            "text/html": [
              "\n",
              "  <div id=\"df-6cf19fe2-f065-4932-89a3-6c23a7258f0f\">\n",
              "    <div class=\"colab-df-container\">\n",
              "      <div>\n",
              "<style scoped>\n",
              "    .dataframe tbody tr th:only-of-type {\n",
              "        vertical-align: middle;\n",
              "    }\n",
              "\n",
              "    .dataframe tbody tr th {\n",
              "        vertical-align: top;\n",
              "    }\n",
              "\n",
              "    .dataframe thead th {\n",
              "        text-align: right;\n",
              "    }\n",
              "</style>\n",
              "<table border=\"1\" class=\"dataframe\">\n",
              "  <thead>\n",
              "    <tr style=\"text-align: right;\">\n",
              "      <th></th>\n",
              "      <th>name</th>\n",
              "      <th>description</th>\n",
              "      <th>occupation</th>\n",
              "      <th>ekonomi dan bisnis</th>\n",
              "      <th>hiburan</th>\n",
              "      <th>hospitality &amp; tourism</th>\n",
              "      <th>kesehatan</th>\n",
              "      <th>media</th>\n",
              "      <th>olahraga</th>\n",
              "      <th>pendidikan dan penelitian</th>\n",
              "      <th>sains dan teknologi</th>\n",
              "      <th>seni</th>\n",
              "      <th>sosial kemasyarakatan</th>\n",
              "    </tr>\n",
              "  </thead>\n",
              "  <tbody>\n",
              "    <tr>\n",
              "      <th>0</th>\n",
              "      <td>lolita agustine</td>\n",
              "      <td>fearfully and wonderfully made a traveller bot...</td>\n",
              "      <td>sains dan teknologi</td>\n",
              "      <td>3</td>\n",
              "      <td>5</td>\n",
              "      <td>5</td>\n",
              "      <td>4</td>\n",
              "      <td>1</td>\n",
              "      <td>4</td>\n",
              "      <td>3</td>\n",
              "      <td>10</td>\n",
              "      <td>0</td>\n",
              "      <td>3</td>\n",
              "    </tr>\n",
              "    <tr>\n",
              "      <th>1</th>\n",
              "      <td>henry manampiring</td>\n",
              "      <td>penulis filosofi teras ketua partai keadilan k...</td>\n",
              "      <td>hiburan</td>\n",
              "      <td>2</td>\n",
              "      <td>8</td>\n",
              "      <td>0</td>\n",
              "      <td>0</td>\n",
              "      <td>0</td>\n",
              "      <td>0</td>\n",
              "      <td>0</td>\n",
              "      <td>0</td>\n",
              "      <td>0</td>\n",
              "      <td>3</td>\n",
              "    </tr>\n",
              "    <tr>\n",
              "      <th>2</th>\n",
              "      <td>ismail fahmi</td>\n",
              "      <td>founder of drone emprit and media kernels indo...</td>\n",
              "      <td>sains dan teknologi</td>\n",
              "      <td>4</td>\n",
              "      <td>5</td>\n",
              "      <td>4</td>\n",
              "      <td>3</td>\n",
              "      <td>3</td>\n",
              "      <td>3</td>\n",
              "      <td>5</td>\n",
              "      <td>8</td>\n",
              "      <td>3</td>\n",
              "      <td>5</td>\n",
              "    </tr>\n",
              "    <tr>\n",
              "      <th>3</th>\n",
              "      <td>mirna adriani</td>\n",
              "      <td>dean at</td>\n",
              "      <td>pendidikan dan penelitian</td>\n",
              "      <td>1</td>\n",
              "      <td>1</td>\n",
              "      <td>0</td>\n",
              "      <td>1</td>\n",
              "      <td>1</td>\n",
              "      <td>0</td>\n",
              "      <td>2</td>\n",
              "      <td>1</td>\n",
              "      <td>0</td>\n",
              "      <td>1</td>\n",
              "    </tr>\n",
              "    <tr>\n",
              "      <th>4</th>\n",
              "      <td>alter synthmagna</td>\n",
              "      <td>edm idol anime bootleg man resident spearhead ...</td>\n",
              "      <td>sains dan teknologi</td>\n",
              "      <td>4</td>\n",
              "      <td>10</td>\n",
              "      <td>3</td>\n",
              "      <td>4</td>\n",
              "      <td>4</td>\n",
              "      <td>4</td>\n",
              "      <td>5</td>\n",
              "      <td>20</td>\n",
              "      <td>2</td>\n",
              "      <td>5</td>\n",
              "    </tr>\n",
              "  </tbody>\n",
              "</table>\n",
              "</div>\n",
              "      <button class=\"colab-df-convert\" onclick=\"convertToInteractive('df-6cf19fe2-f065-4932-89a3-6c23a7258f0f')\"\n",
              "              title=\"Convert this dataframe to an interactive table.\"\n",
              "              style=\"display:none;\">\n",
              "        \n",
              "  <svg xmlns=\"http://www.w3.org/2000/svg\" height=\"24px\"viewBox=\"0 0 24 24\"\n",
              "       width=\"24px\">\n",
              "    <path d=\"M0 0h24v24H0V0z\" fill=\"none\"/>\n",
              "    <path d=\"M18.56 5.44l.94 2.06.94-2.06 2.06-.94-2.06-.94-.94-2.06-.94 2.06-2.06.94zm-11 1L8.5 8.5l.94-2.06 2.06-.94-2.06-.94L8.5 2.5l-.94 2.06-2.06.94zm10 10l.94 2.06.94-2.06 2.06-.94-2.06-.94-.94-2.06-.94 2.06-2.06.94z\"/><path d=\"M17.41 7.96l-1.37-1.37c-.4-.4-.92-.59-1.43-.59-.52 0-1.04.2-1.43.59L10.3 9.45l-7.72 7.72c-.78.78-.78 2.05 0 2.83L4 21.41c.39.39.9.59 1.41.59.51 0 1.02-.2 1.41-.59l7.78-7.78 2.81-2.81c.8-.78.8-2.07 0-2.86zM5.41 20L4 18.59l7.72-7.72 1.47 1.35L5.41 20z\"/>\n",
              "  </svg>\n",
              "      </button>\n",
              "      \n",
              "  <style>\n",
              "    .colab-df-container {\n",
              "      display:flex;\n",
              "      flex-wrap:wrap;\n",
              "      gap: 12px;\n",
              "    }\n",
              "\n",
              "    .colab-df-convert {\n",
              "      background-color: #E8F0FE;\n",
              "      border: none;\n",
              "      border-radius: 50%;\n",
              "      cursor: pointer;\n",
              "      display: none;\n",
              "      fill: #1967D2;\n",
              "      height: 32px;\n",
              "      padding: 0 0 0 0;\n",
              "      width: 32px;\n",
              "    }\n",
              "\n",
              "    .colab-df-convert:hover {\n",
              "      background-color: #E2EBFA;\n",
              "      box-shadow: 0px 1px 2px rgba(60, 64, 67, 0.3), 0px 1px 3px 1px rgba(60, 64, 67, 0.15);\n",
              "      fill: #174EA6;\n",
              "    }\n",
              "\n",
              "    [theme=dark] .colab-df-convert {\n",
              "      background-color: #3B4455;\n",
              "      fill: #D2E3FC;\n",
              "    }\n",
              "\n",
              "    [theme=dark] .colab-df-convert:hover {\n",
              "      background-color: #434B5C;\n",
              "      box-shadow: 0px 1px 3px 1px rgba(0, 0, 0, 0.15);\n",
              "      filter: drop-shadow(0px 1px 2px rgba(0, 0, 0, 0.3));\n",
              "      fill: #FFFFFF;\n",
              "    }\n",
              "  </style>\n",
              "\n",
              "      <script>\n",
              "        const buttonEl =\n",
              "          document.querySelector('#df-6cf19fe2-f065-4932-89a3-6c23a7258f0f button.colab-df-convert');\n",
              "        buttonEl.style.display =\n",
              "          google.colab.kernel.accessAllowed ? 'block' : 'none';\n",
              "\n",
              "        async function convertToInteractive(key) {\n",
              "          const element = document.querySelector('#df-6cf19fe2-f065-4932-89a3-6c23a7258f0f');\n",
              "          const dataTable =\n",
              "            await google.colab.kernel.invokeFunction('convertToInteractive',\n",
              "                                                     [key], {});\n",
              "          if (!dataTable) return;\n",
              "\n",
              "          const docLinkHtml = 'Like what you see? Visit the ' +\n",
              "            '<a target=\"_blank\" href=https://colab.research.google.com/notebooks/data_table.ipynb>data table notebook</a>'\n",
              "            + ' to learn more about interactive tables.';\n",
              "          element.innerHTML = '';\n",
              "          dataTable['output_type'] = 'display_data';\n",
              "          await google.colab.output.renderOutput(dataTable, element);\n",
              "          const docLink = document.createElement('div');\n",
              "          docLink.innerHTML = docLinkHtml;\n",
              "          element.appendChild(docLink);\n",
              "        }\n",
              "      </script>\n",
              "    </div>\n",
              "  </div>\n",
              "  "
            ]
          },
          "metadata": {},
          "execution_count": 19
        }
      ]
    },
    {
      "cell_type": "code",
      "source": [
        "df_profile_fill_empty = df_res_profile[df_res_profile['occupation'] == '-']\n",
        "df_profile_fill_empty.rename(columns = {'ekonomi dan bisnis':'ekbis', 'hospitality & tourism':'hostour',\n",
        "'pendidikan dan penelitian':'pendidikan', 'sains dan teknologi':'sastek','sosial kemasyarakatan':'sosmas'}, inplace = True)\n",
        "df_profile_fill_empty['occupation']= df_profile_fill_empty.eq(df_profile_fill_empty.max(axis=1), axis=0).apply(lambda x: ' '.join(df_profile_fill_empty.columns[x]), axis=1)\n",
        "occ_1= df_profile_fill_empty['occupation'].str.strip().str.split(' ').str.len().eq(1)\n",
        "df_profile_fill_empty=df_profile_fill_empty[occ_1]\n",
        "df_profile_fill_empty.rename(columns = {'ekbis':'ekonomi dan bisnis','hostour':'hospitality & tourism',\n",
        "'pendidikan':'pendidikan dan penelitian', 'sastek':'sains dan teknologi','sosmas':'sosial kemasyarakatan'}, inplace = True)\n",
        "code = {\"ekbis\" :\"ekonomi dan bisnis\", \"sosmas\" : \"sosial kemasyarakatan\", \"hostour\":\"hospitality & tourism\",\"pendidikan\":\"pendidikan dan penelitian\",\n",
        "        \"sains\":\"sains dan teknologi\",\"hiburan\":\"hiburan\",\"seni\":\"seni\",\"media\":\"media\",\"kesehatan\":\"kesehatan\",\"olahraga\":\"olahraga\"}\n",
        "df_profile_fill_empty['occupation'] = df_profile_fill_empty['occupation'].map(code)\n",
        "df_profile_fill_empty.shape"
      ],
      "metadata": {
        "colab": {
          "base_uri": "https://localhost:8080/"
        },
        "id": "hEnttIxi0kbt",
        "outputId": "e4b9a379-0af8-4796-b290-d3de390f874f"
      },
      "execution_count": 20,
      "outputs": [
        {
          "output_type": "execute_result",
          "data": {
            "text/plain": [
              "(3304, 13)"
            ]
          },
          "metadata": {},
          "execution_count": 20
        }
      ]
    },
    {
      "cell_type": "code",
      "source": [
        "df_without_empty_count = df_res_profile.copy()\n",
        "no_occ_idx = df_res_profile[df_res_profile['occupation'] == '-'].index\n",
        "df_without_empty_count.drop(no_occ_idx, inplace=True)\n",
        "df_profile_count_fill = pd.concat([df_without_empty_count,df_profile_fill_empty])\n",
        "df_profile_count_fill = df_profile_count_fill.dropna(subset=['occupation'])\n",
        "df_profile_count_fill.shape"
      ],
      "metadata": {
        "colab": {
          "base_uri": "https://localhost:8080/"
        },
        "id": "3bycENM5w0bd",
        "outputId": "2782ff8c-9540-4e1a-e932-f4a9046c3c8d"
      },
      "execution_count": 21,
      "outputs": [
        {
          "output_type": "execute_result",
          "data": {
            "text/plain": [
              "(4120, 13)"
            ]
          },
          "metadata": {},
          "execution_count": 21
        }
      ]
    },
    {
      "cell_type": "code",
      "source": [
        "sns.countplot(y='occupation', data=df_profile_count_fill)\n",
        "plt.show()"
      ],
      "metadata": {
        "colab": {
          "base_uri": "https://localhost:8080/",
          "height": 279
        },
        "id": "rxdMyMLJ5Ezz",
        "outputId": "eefedcbb-badf-4432-9ff8-88b7a235de65"
      },
      "execution_count": 28,
      "outputs": [
        {
          "output_type": "display_data",
          "data": {
            "text/plain": [
              "<Figure size 432x288 with 1 Axes>"
            ],
            "image/png": "[encoded data removed]"
          },
          "metadata": {
            "needs_background": "light"
          }
        }
      ]
    },
    {
      "cell_type": "markdown",
      "source": [
        "### Load Additional Data Tweet dengan data olahraga"
      ],
      "metadata": {
        "id": "A4m_WUM5jT1Z"
      }
    },
    {
      "cell_type": "markdown",
      "source": [
        "Untuk mengatasi permasalahan aspek olahraga yang menghilang karena hasil proses cleaning maka kami menambahkan data olahraga menggunakan teknik crawling data tweet menggunakan tweepy(code berada pada file crawling_olahraga)"
      ],
      "metadata": {
        "id": "rZ95kZ8ajhRb"
      }
    },
    {
      "cell_type": "code",
      "source": [
        "sport_df = pd.read_csv(path+\"olahraga.csv\", header=None)\n",
        "sport_df.columns = ['username', 'tweet']"
      ],
      "metadata": {
        "id": "roVZZw7DHo3d"
      },
      "execution_count": 8,
      "outputs": []
    },
    {
      "cell_type": "code",
      "source": [
        "stopwords = pd.read_csv(\"stopwordsID.csv\", header=None)\n",
        "df_kamus_singkatan = pd.read_csv('kamus_singkatan.csv')\n",
        "df_kamus_alay = pd.read_csv('colloquial-indonesian-lexicon.csv')\n",
        "\n",
        "raw_sport_tweet = sport_df['tweet']\n",
        "clean_sport_tweet = np.array(pra_pemrosesan(raw_sport_tweet))"
      ],
      "metadata": {
        "colab": {
          "base_uri": "https://localhost:8080/"
        },
        "id": "l3Qued6UHu9v",
        "outputId": "3e89de63-9232-4472-b12e-59dca18d2842"
      },
      "execution_count": 14,
      "outputs": [
        {
          "output_type": "stream",
          "name": "stderr",
          "text": [
            "100%|██████████| 11/11 [00:07<00:00,  1.39it/s]\n"
          ]
        }
      ]
    },
    {
      "cell_type": "code",
      "source": [
        "clean_sport_tweet = np.delete(clean_sport_tweet, 0)\n",
        "clean_sport_tweet[:3]"
      ],
      "metadata": {
        "colab": {
          "base_uri": "https://localhost:8080/"
        },
        "id": "ZOALkkHHlAtV",
        "outputId": "4573c366-9c62-45f0-8d32-910b988a78c1"
      },
      "execution_count": 15,
      "outputs": [
        {
          "output_type": "execute_result",
          "data": {
            "text/plain": [
              "array(['bahasa samasama semangat belajar bahasa korea haha bahasa jepang gaess fyi f 그냥 항상 화이팅 mexico 에서 조심하세요 왜 안가 루이는 언니에게 간다고 말했어 f f f f 네 힘내 화이팅 인도네시아 만날수있어 축하해 루이 mengeditnya merinding kak nnmenurut konten terkeren sih hahahahannfull renungan malam kak kak apri f terima kasih kbri inggris tumpangannya nwhat a lovely time menikmati mingguminggu badan tersiksa for almost years been feeling like this wkwkwkwk pertanyaanku foto tersebar had a great time sharing the moments at the stage sih you again next time tim putri indonesia mengukir sejarah menjuarai badminton asia team championship mengerti speechless diam emas terima kasih diam f adikadik terimakasihh streaming live batc pleasee a message from your new bwf athletes commission chair served be a serving olympic champions and apriyani rahayu reveal how their unique relationship propelled them the biggest prize temans pelatnas ditahun alasan kepentingan pribadiku nnkalau memikirkan kepentingan pribadi mah tempatnya teman hahahaha ganya jersey botol minum pocari nbukan minuman kaleng bp nngitu duh semoga ba vivo china ba vivo indonesia dipertemukan kerjasama doain hahahaha awalawal giveaway jersey botol minuman kaleng kosong anyeong kim go eun pakai smartphone vivo space tuh juni bilang mencoba buka qampa instagram pekerjaan super duper sibuk puji tuhan maaf temanteman lupa password haha pindahin hp android lupa password baikbaik semangat f i back how are you guys hope you all doing fine introducing pocari sweat ml atlet bulu tangkis ryuki waida atlet selancar some big names have been voted onto the bwf athletes commission nnread tidak apa-apa mbak ketemu jungkook hahahaha the womens doubles portion of the tournament at the has reached the semifinals stagennthe indonesia from the depths of despair london through injury thoughts of retirement and the loss of her brother the lofties wow nfrom a black card the olympics gold medal the olympics ncongrats indonesian badminton player kak masuk atlet dibicarakan twitter global we hope you have the best birthday ever si marketing harvardnnendorsed by president nn presiden membeli produk sepatu milik seharga rp juta greysia the what ifs si life could have led her sok many directions but together with apriyani rahayu they mengejar olimpiade paris kejuaraan dunia tep terima kasih temanteman mengepoi google hehehe mbak army niat hahahahahaha habis menonton pulang langsung ketemu atlet starstruck ketemu oma gill gillian clark iya a legend a truly friendly and humble on kak habis pensiun mengapai hayoo jawabannya nnlink youtube hayoo mengarang kayaknya pakai kaca pembesar pas lihat foto keluarga hehehe balas berita hoax olympic champion was inspired by gold medalwinning mother find a balance between family life iya langsung cuss menonton langsung langsung hall moon maaf atlet menonton pelatih dibolehkan link livestreaming court rudy mencolong start duluan kasih kacang an やっとポリにおめでとう言えたーーn金メダル持って一緒に写真撮りたかったんだけどやっぱり最新の金メダルはピカピカで自分のがボロボロでちょっと恥ずかしかったu f 笑n色んな話ができて楽しかったなぁnコロナが落ち着いてまた会える日がくるといいな baby tata kenalan baby vega finally aunty greysia got meet you baby vega welcome our paradise selesai karantina langsung serbu keharusan this is mbak link makan malam nasi sapi sadeess sebulan lidah nyentuh rawit gilee pedas gilee idam pedess karantina habis eropa lengkap makan nasi uduk pandangan sih oh nomor she is sok adorable aunty greysia only sees vega on daddys ig too dilupakan geng ajak karirku kali foto piala thomas congrats boys percikan api juara dunia bulutangkis internasional di mana menaruh warisan kekayaan rohani jasmani generasi partai siapsiap tidur jam pagi kayak semalam tidur jam pagi coy sweet sih kong hee yong kali langsung anyonghaseo buka tangan lebar langsung peluk f shin seung chan kali ketemu langsung memeluk anak bahasa kasihnya physical touch obrolan kim mata bengkak tidur pakai bhsa formal diketawain berdua biar bando jepitan suka pakai pas tanding sih anak giant korea sih kong kerja woi kerja haha thailand edged out indonesia the uber cup quarterfinals last night but team captain can look back gue kuat lihatnya materazzi is here interisti indonesia dihati berjuang bangsa luntur ntapi tepuk tangan salut malaysia memberanikan menurunkan tim ratarata umur muda belajar mengeluh sih cape wooyy f pagi finlandia dirgahayu bangsaku indonesiaku score point persembahkan indonesia dikenal garagara masyarakat indonesia biar nama indonesia dikenal bangsa get well soon f f du blackpink the movie indonesia judul film karantina sahabat sih karan sih tina italia ok bicara piala dunia piala eropa pokoknya kejuaraan masuk semifinal pilih jagoan bos italy numero uno forza italia ngue menonton bangun tidur langsung lihat hasil piala eropa get well soon champ hahahaha healthy relationships include uncomfortable conversations bali indonesia badminton world nomor women doubles star and incheon asian games gold medallist greysia polii doubles ace talked bwf earlier this year about embarking on her new mixed doubles partnership nn love the smile skii studio presents vs series official trailer studio mempersembahkan serial animasi antologi vs titik dengarkan live kagel kali mbawidnndan caption kak ignso life we should strive be a good what a quality simply extraordinary terima kasih for alerting me about kamar rosi cowok ayo sis sangka gila hahaha bertumbuh badannya semester kali sangka melalang buana kesana kemari puji tuhan kesempatannya terpikirkan',\n",
              "       'happy good friday hahahah iya wkwkwkwk stres lahn nice try guys ncongrats malaysia team you deserved congratss ngas yuk team putra sore n baca eh tweet sih orang gaya n iya we will try next year pelajaran terlupakan ndan terima kasih tuhan kesempatan merasakan moment dimna team denmark merasakan team ekspresi berbeda bergembira merayakan kemenangan perasaan sedih gagal membawa piala thomas tanah air moment pas habis kalah final pulang makan bareng team hotel berbarengan team denmark aduh juara thomas cup china flashback jaman kepikiran moment lgndan puji tuhan terbayar respect congrats stay safe teman disna god bless dikasih bonus is one thing but saying that thomas cup is not a prestigious event 헐 that is some serious stuff that terima kasih billy apresiasi nbahkan cair langsung gimmick terima kasih apresiasi njadi salah scene film king perkataan piala isi kosong dianggap hug tightly cool izin save fokuslah padan bwf amp panitia becus menyelenggarakan all england n bwf amp panitia ketidakb salfokn bandingkan tim ina tim denmarkthailand ceritan positif salah pemerintah inggris laah pemerintah melindungi negara rakyatnyannyang salah bwf bandingkan orang positif tes ulang ulalala wawawaw mejik negatif i peraturan pemerintahnya diterapkan bertanggungjawab bwf covid kemarin last minute changes entry approval diterapkan negara lets sayang peraturan pemerintahnya munculnya dadakan google peraturan berlaku ribet turnamennyanngak biaya turnamennyannjangan oran organisasi bwf turnamen selegendaris all england persiapan precaution continge kejelasan kelanjutan keadilan benarbenar predik bwf bertanggungjawab amp peraturan pemerintah bwfnn menerapkan sistem karantina masalahnyann memangnya bwf memprediksi terjadinn memangnya bwf paham pera dibaca posting greysia polii pemainofisial inan tes orang tim ina hasilnya negatifn email pemerintah inggris beda pemainofisial negara dites positif retest negatifnn pernyataan pbsinn pernyataan bwfnn mari bahas kontingen ina dipaksa mundur all england biar pintar amp letak permasalahannya the moment youve all been waiting fornn foto bikin senyumsenyum malam peraih medali emas asian games sektor tunggal putra jonatan christie berulang si sukses berdampak orang mensyukuri nnthankyou for sharing us health above all else i hope we can all be of good impact the world we live today indonesias jonatan christie on international legend the true a leader n mari intropeksi hahahaha respect with risma nsemoga bencana sadar lingkungan membuang sampah sembarangan mengurangi penggunaan plastik terbahak-bahak happy new year everyone napanih resolusi bangga orang indonesia kekayaan ragam budaya my hope this tournament is the same as the batik i wear eagle and lets fly higher thank you god for your blessing membantu teman salah ibadah terima kasih for coming teman mohon bantuan link taro bio diucapin thank you adik mu du sulawesi tuh jo nndari terima kasih inspirasi pe orang kecewa kaliang idamkan besok teruslah berusaha berdoa puji tuhan kerja keras tuhan manusia butuhkan berusaha menyerah keras menangis lihat komen terima kasih berhenti support percaya wwooww keren hhmm hai teman galang dana bantu keluarga terkena musibah papua mohon bantuan semoga bantuan berdampak positif teman kerabat nlink on bio fan fan tersendiri hati jojo jojo senang dikenal b orang orang jonatan usaha kerja keras buka fisik hati semoga suka yess pakai semoga suka notice tenang hahahahha iya cakap mantap sebisa video mengganggu latihan hidupin reminder youtube cakap hehehe usahakan sabar nada video publish ganti okay semoga tuhan memberkati menunggu kayak berbagi hati nnterus berbuat ajak terlibat keb senang dengar membantu bilang bilang tuhan mengalahkan hadapi syukuri hidupmu seberat apapun hadapi sebanding hadapi happy weekend guys hehehe adik berkongsi nasi kucing jalanan lihat situasi percaya budak berja',\n",
              "       'setuju pemakaian kredit istimewa media wajib menyertakan nama penciptapemilik foto bercanda penempatan kredit nama fotografer gettynntp bob thomas fotografer disegani inggris memotret maradona argentina juara dunia nnjg susy juara all england usia tebakannya mayoritas jitunnong lien hiang aka susy susanti nn emas perunggu oimpiade n juara dunian juara piala dunia n uber cupn sudirman cup n emas sea games neks nomor duniannpahlawan olahraga perempuan terbesar sejarah indonesiannselamat kartini mengecek google manusia asia tenggara meraih emas olimpiade ketemu sih bilangnya minat pelatih penuh yoppy nambahin pemain pb djarum owi butet ahsan kevin memiliki status finansial aman bekal depannnmereka didampingi kapabel mengurus uangnya muda dipantau dibimbing ditemani klub mengajak sharing mencari sponsor perusahaan keuangan digali pendekatan klubnya berprestasi mendukung penuhnnketua pb djarum yoppy bonus pamer manas negatif mudah klub happy klub manajemen beda formula komitmen ketua pb djarum yoppy bonus ajari mengelola keuangannya ditabung diinvestasikan habis berbekas bagas training manajemen finansialnnketua pb djarum yoppy rosimin bonus sisi kompetitif atlet level senior junior meningkat berdampak positif prestasi bulu tangkis indonesia panggung dunia nnketua pb djarum yoppy rosimin dipahami bonus kemampuan finansial dukungan sponsor klub kemampuan finansial bonus menciptakan ekosistem bulu tangkis indonesia nnketua pb djarum yoppy rosimin bonusnya gas nnnabung beli rumah cas pb djarum resmi bonus bagas maulana juara all england total bonusnya rp juta cash rp juta voucher blibli rp juta motor listrik polytron evo rp jtnndi sisi sgs pln bandung klub shohibul fikri sinyal bonus kevinrian f sih artikel mengungkap betapa berharganya kevin sanjaya sukamuljo aset sektor ganda putra indonesia i bangun fokus serie a pertandingan mudah pemain posisi offside menyentuh bola mengganggu pandangan kiper offside final nnlumayaan coach herry ip partner kevin thomas cup background pemilihan kevindaniel md final thomas cup vs nnbonusnya coach herry ip alasan the daddies masuk skuad nn renang atletik senam artistik masuk olahraga priotitas sesuai perpres sepak bola masuk persaingan senam ritmik dunia olimpiade keras nnseorang pesenam dahsyat alat fokus alat pesenam terbaik lolos kekuatan utama duniannjika kondisinya mimpi sutji sulit diwujudkan bersimpati sutjinnmemang senam ritmik masuk cabor prioritas perpres nomor ttng desain olahraga nasional dikirim sea gamesnnbenar sutji akar anggaran struktur organisasi efisien usia termuda kontestan valentin lonteng raih emas nomor bergengsi putri singapore open nnvalentin catat detik pecahkan rekor remaja nasional bertahan thnnndia lolos world championship junior kolombiannharapan indonesia skuad indonesia piala uber nmayoritas pemain muda nnws n komang ayu n aisyah sativa n bilqis prasistan tasya farahnailahn siti azzahrannwd n nita violina n febriana dwipuji n amalia cahaya n jesita putri n lanny tria n tryola nadian melani mamahit catatan marcus berangkat tahap penyembuhan leodaniel chico aura masuk skuad juara difokuskan sea gamesnnposisi leodaniel digantikan bagasfikri posisi chico diisi syabda tegar breakingnnskuad indonesia piala thomas ditentukan nnms n anthony gintingn jonatan christien shesar hiren rhustaviton syabda perkasa belawan tegar sulistionmd n kevin sanjaya sukamuljo n hendraahsann fajarrian ardianton bagasfikri after read this article my opinion has changed this media served wholesome interview that basically just wawancara jawa pos enak dibaca alasan keren niatnya tuh aslinya kadang butuh kritik pedas sih sadar salahnya di mana semoga habis e taufik hidayat still being taufik hidayat ceplas ceplos amp love spilling the tea nndan warganet lovehate re bukber taufik hidayat kontroversial vokal kritik sport science degradasi pemainpelatih perhatian minim daerahnntaufik isu kepindahan pemain sgs bandung fajar alfiannnini kutipan wawancaranyann gagal semifinal nnbagasfikri vs okamuraonodera jepang nnsayang momentum bikin error poin penentuannnlawan ganda ulet defense solid butuh fisik primannterima kasih turnamen cepat bangkit n raket lepas genggaman masayuki onodera refleks mukul shuttlecock tangannyannada ngerekam sih staf ahli binpres diajak rapat masukan penentuan atlet pelatih pajangan mending pbsi taufik hidayat keputusannya mundur kepengurusan pp pbsi nnvia lolos qfnngame kalahnngame tertinggal lalui game pointnngame tertinggal menangnndua fikri bilang jenuh engap jalani turnamen beruntunnnjd kemenangan dramatis melawan musuh variatif latihan mental asst coach md pelatnas aryono miranat bilang kekalahan md kejenuhan pasca turnamen beruntunnntp tenang kontrol kritisnnpengembalian bola keras smash drivenya terserang baliknnvia pbsi wawancara luka modric mengaku sulit bicara kecilnya dihantui perang pembunuhan kakeknya hidup pengungsinntp lapangan manusia tubuh gentar menekel lawan visioner percaya pemberani liverpool vs manchester city aduh berani bilang ditempeleng mukanya conte maestronndia larang kulusevksi makan manis minum soda fokus kulusevksi meditasi yogannhasilnya gol assist laga eplnndi inter conte ngizinin lukaku makan jenis salad dada ayam pasta shirataki liga offside terima kasih maksudnya petenis putri kabar prancis nntim borong gelar adidas alpes international indonesia catat sejarah ciptakan allindonesian final nomor tunggal putra tunggal putri ganda putrinnsemoga tanda sektor wsnnvia pbsi ketinggalan berita baiknnutk kali kariernya aldila sutjiadi juara ajang wta tour astra sharma dila juara copa colsanitas bogotannpekan dila ranking dunia petenis indonesia tembus dunia mendorong wasit mengacungkan jari sikap terpuji profesional dewasa kebalik skornya selesai nnindonesia runnerup aff futsal championship nnft thailand vs indonesia pennnunggul kebobolan gol tempo menit jelang pertandingan nnnggak badminton futsal dicomeback model joke an eksis kriuk agresif agresivitas keagresifan nnbtw elon musk butuh edit button terima kasih koreksinya kapok final vs kangseo kor nnkangseo berlaga turnamen kalahkan unggulan juara kandang sendirinnfajarrian gagal agresifitas defense biasann pbsi waspada kulit pisang game final vs kangseo kor nntertinggal pelanpelan mengejar sabar taktis agresif mengunci keunggulan nnsemoga php mengecek wikipedia pertandingan selesai ditulis winner kayaknya nulisnya pas game badan tulisan tinggal bikin lead jelang game nnuntuk kali debut tingkat senior sembilan jonatan christie meraih gelar level super nnternyata f selesai nfinal christie vs weng hongyang nnmomen jonatan hilang unggul kehilangan game fokus goyah sabar unforced errornnambisi meraih gelar super karier tertunda semudah menuduhmempertanyakanmeragukan pertandingan ciri investigasinya berbulan mengacu duo md tiongkok disanksi main sabun cirinnterlihat main sungguh nunforced error kali gamencuma ganti shuttlecok gamensetelah umpire peringatan speed laga berubahnnjd menurutku laga normal match status bakri juara all englandnntp menurutku fajarrian on fire bakri underperform simpelnndi match situasinya samannsebetulnya fajarrian minim unforcerd error md bagus juara all england permainan sang juara bertahannnkali fajarrian bermain sempurna servis mematikan variasi pukulan kayak mendikte memaksa lawan nolobnnbacktoback final fajarrian tuntaskan juara final besok iya puasa medical treatment cederanya kambuh gagal allindonesian finalnnpenampilan kangseo hebat bersih eksplosif mudah matinntp suka menonton hendraahsan menikmati pertandingan tersenyum upaya menghasilkan angka gagalnnterima kasih hiburannya dads backtoback final tahunnnmungkin standar rudy hartono jonatan kaku atletis pukulan mematikannntp sebulan jonatan mengaktifkan senjata berbahaya fisik prima kesabaran fokus biasannkeren pelatih layaknya jenderal pemimpin sejarahnnmereka memiliki pengetahuan pemahaman mendalam manusianngimana rela mati lapangan dipimpin orang pemandangan indah angkatan ganda putra indonesia mendominasi semifinal menang straight game menampilkan ciri khas permainan indonesia skillful taktis kabar bangkoknntimnas futsal kesulitan menembus compact defense myanmar menang telak nnindonesia lolos final aff meraih tiket kejuaraan asia nnsemoga melesat merebut gelar asia tenggara lolos semifinal nnkemenangan menebalkan kepercayaan dirinnkali menang situasi poin ketat mengontrol ketenangan posisi kritisnnsemoga besok ketemu bagasfikri lolos semifinal nngame dihajar game tertinggal bangkit game tertinggal bangkit nnsebuah pertarungan mental intensnndan jonatan christie memenangkannya kesabaran permainan jelang laga jaga mental pelatih legendaris tong sin fu melarang pemainnya menonton sinetron sedihnnskrng media sosial bikin tantangan atlet beratnnmenurutku sih mengkritik atlet kontekstual menghujat memaki mengumpat suka permainan jonatan pertandingan ininnmelawan musuh ulet jonatan main bersih berpikir jernih sabar membongkar defense mengumbar serangan smes smes menghasilkan sesuatunnselanjutnya kunlavutnnmenarik menonton kelewatan sayang momen unggul game dituntaskannnmasih dinaikkan levelnya ketenangan power variasi senjata beradaptasi lawan mengubah polannpercaya proses pelatnas bagasfikri julukan pembunuh teman tangguh melawan pemain indonesiannfikri on fire latihan kerap menang pasangannyanntinggal tugas konsisten membawa hasil latihan pertandingan salah rekrutan terbaik realnnorang bikin modric benzema bugar berlari main menit usia nnorang bikin daftar cedera pemain real turun nnorang bikin fisik pemain puncak jelang musim karim mostafa benzema nomor terbaik dunia salah motivasi jonatan christie tampil bagus korea pasca juara swiss open cari poin nyannuntuk berjaga andai bwf mencabut sistem pembekuan rangking poin terlempar nnvia pbsi hormati pilihan atlet kondisi preferensi orang berbedannsesederhana korea open ganda indonesia beragama islam berpuasa pertandingan game memilih berpuasa nntp ahsan mengambil pilihan beda pertandingan berpuasa the daddies nyaman ronde meragukan bahayannsemoga pbsi menemukan solusi menyediakan psikolog olahraga kualitas terbaik sesi terapi jadwal rutin baiknnsehingga potensi ganteng diselamatkan latihan pukulan enak langsung kepikiran membuatnya percaya kemampuan miliki jatuhnya bebannnpelatih tunggal putra irwansyah kekalahan anthony ganteng ronde ininnvia pbsi suka md muda indonesia merespons keunggulan ketertinggalan melawan md ranking dunia rendahnnkerap temukan tekanan situasi sulit tenang agresif mendiktennmentalitas keren konsisten inkonsistensinnjadi unggulan langsung tumbang ronde pertamannbukan rahasia ganteng lambat panasnnseperti mengulangi pola tumbang ronde indonesia masters indonesia open twitter space regenerasi bulu tangkis mulainn penalti diulang shoot on goal terdominasi total babak keduannkemenangan kandang juve peluang scudetto hidup laginnlumayan aduh sakit tuh menonton pasang vs lorient ditotal aleix espargaro menang race kariernyannpantes terharu bangetnnnggak gampang sabar menjalani kekalahan kekalahan kesabaran ketekunan determinasi kerja keras terbayar lunasnnsetelah jalan pelik balapan aleix espargaro pemenang balapan motogpnnmakin manis kemenangan perdana aprilia era motogp nnapril penuh berkah aprilia tarawih ngejar juara nnselalu suka permainan putri kau teknik covering area variasi pukulannya taktik adaptasinyan nkalau main bersih minim error putri kau berbahayannpelan matang level melesat atasnn selamat om semoga pernikahannya ketentraman dilimpahi cinta kasih sayang rezeki mengalir tinggal ditambah lolos final nnmenikmati permainan rehanlisa tekniknya menjanjikan power visinya potensial komunikasinya okenndari rehan permainan impresif sang ayah tri kusnnfinal super modal perkuat mental berharap semoga meningkat menulis sumbernya psiscoid nyomotnya akhlak semoga lekas tobatu'],\n",
              "      dtype='<U12914')"
            ]
          },
          "metadata": {},
          "execution_count": 15
        }
      ]
    },
    {
      "cell_type": "code",
      "source": [
        "df_clean_sport = pd.DataFrame({\n",
        "    'tweet': clean_sport_tweet,\n",
        "    'occupation': np.array(['olahraga' for _ in range(10)])\n",
        "})"
      ],
      "metadata": {
        "id": "qXDACPEYJYgU"
      },
      "execution_count": 16,
      "outputs": []
    },
    {
      "cell_type": "code",
      "source": [
        "df_clean_sport"
      ],
      "metadata": {
        "colab": {
          "base_uri": "https://localhost:8080/",
          "height": 363
        },
        "id": "k_Dmx4v0NqnL",
        "outputId": "31d86c03-2a43-496d-838e-bb141036dbee"
      },
      "execution_count": 17,
      "outputs": [
        {
          "output_type": "execute_result",
          "data": {
            "text/plain": [
              "                                               tweet occupation\n",
              "0  bahasa samasama semangat belajar bahasa korea ...   olahraga\n",
              "1  happy good friday hahahah iya wkwkwkwk stres l...   olahraga\n",
              "2  setuju pemakaian kredit istimewa media wajib m...   olahraga\n",
              "3  sobatpora mengalami masamasa sulit percayalah ...   olahraga\n",
              "4  presenting the indian squad for the and after ...   olahraga\n",
              "5  robert simón ex del b el año pasado ha fichado...   olahraga\n",
              "6  kabar piala wali kota solo digelar ajang pramu...   olahraga\n",
              "7  part of mnc channelsnnjelang sea games nkita n...   olahraga\n",
              "8  chelsea vs arsenal eddie nketiah gemilang mike...   olahraga\n",
              "9  ubah pola hidup jantung sehat nselamat preside...   olahraga"
            ],
            "text/html": [
              "\n",
              "  <div id=\"df-93013347-e02c-4712-951e-6d795bade55f\">\n",
              "    <div class=\"colab-df-container\">\n",
              "      <div>\n",
              "<style scoped>\n",
              "    .dataframe tbody tr th:only-of-type {\n",
              "        vertical-align: middle;\n",
              "    }\n",
              "\n",
              "    .dataframe tbody tr th {\n",
              "        vertical-align: top;\n",
              "    }\n",
              "\n",
              "    .dataframe thead th {\n",
              "        text-align: right;\n",
              "    }\n",
              "</style>\n",
              "<table border=\"1\" class=\"dataframe\">\n",
              "  <thead>\n",
              "    <tr style=\"text-align: right;\">\n",
              "      <th></th>\n",
              "      <th>tweet</th>\n",
              "      <th>occupation</th>\n",
              "    </tr>\n",
              "  </thead>\n",
              "  <tbody>\n",
              "    <tr>\n",
              "      <th>0</th>\n",
              "      <td>bahasa samasama semangat belajar bahasa korea ...</td>\n",
              "      <td>olahraga</td>\n",
              "    </tr>\n",
              "    <tr>\n",
              "      <th>1</th>\n",
              "      <td>happy good friday hahahah iya wkwkwkwk stres l...</td>\n",
              "      <td>olahraga</td>\n",
              "    </tr>\n",
              "    <tr>\n",
              "      <th>2</th>\n",
              "      <td>setuju pemakaian kredit istimewa media wajib m...</td>\n",
              "      <td>olahraga</td>\n",
              "    </tr>\n",
              "    <tr>\n",
              "      <th>3</th>\n",
              "      <td>sobatpora mengalami masamasa sulit percayalah ...</td>\n",
              "      <td>olahraga</td>\n",
              "    </tr>\n",
              "    <tr>\n",
              "      <th>4</th>\n",
              "      <td>presenting the indian squad for the and after ...</td>\n",
              "      <td>olahraga</td>\n",
              "    </tr>\n",
              "    <tr>\n",
              "      <th>5</th>\n",
              "      <td>robert simón ex del b el año pasado ha fichado...</td>\n",
              "      <td>olahraga</td>\n",
              "    </tr>\n",
              "    <tr>\n",
              "      <th>6</th>\n",
              "      <td>kabar piala wali kota solo digelar ajang pramu...</td>\n",
              "      <td>olahraga</td>\n",
              "    </tr>\n",
              "    <tr>\n",
              "      <th>7</th>\n",
              "      <td>part of mnc channelsnnjelang sea games nkita n...</td>\n",
              "      <td>olahraga</td>\n",
              "    </tr>\n",
              "    <tr>\n",
              "      <th>8</th>\n",
              "      <td>chelsea vs arsenal eddie nketiah gemilang mike...</td>\n",
              "      <td>olahraga</td>\n",
              "    </tr>\n",
              "    <tr>\n",
              "      <th>9</th>\n",
              "      <td>ubah pola hidup jantung sehat nselamat preside...</td>\n",
              "      <td>olahraga</td>\n",
              "    </tr>\n",
              "  </tbody>\n",
              "</table>\n",
              "</div>\n",
              "      <button class=\"colab-df-convert\" onclick=\"convertToInteractive('df-93013347-e02c-4712-951e-6d795bade55f')\"\n",
              "              title=\"Convert this dataframe to an interactive table.\"\n",
              "              style=\"display:none;\">\n",
              "        \n",
              "  <svg xmlns=\"http://www.w3.org/2000/svg\" height=\"24px\"viewBox=\"0 0 24 24\"\n",
              "       width=\"24px\">\n",
              "    <path d=\"M0 0h24v24H0V0z\" fill=\"none\"/>\n",
              "    <path d=\"M18.56 5.44l.94 2.06.94-2.06 2.06-.94-2.06-.94-.94-2.06-.94 2.06-2.06.94zm-11 1L8.5 8.5l.94-2.06 2.06-.94-2.06-.94L8.5 2.5l-.94 2.06-2.06.94zm10 10l.94 2.06.94-2.06 2.06-.94-2.06-.94-.94-2.06-.94 2.06-2.06.94z\"/><path d=\"M17.41 7.96l-1.37-1.37c-.4-.4-.92-.59-1.43-.59-.52 0-1.04.2-1.43.59L10.3 9.45l-7.72 7.72c-.78.78-.78 2.05 0 2.83L4 21.41c.39.39.9.59 1.41.59.51 0 1.02-.2 1.41-.59l7.78-7.78 2.81-2.81c.8-.78.8-2.07 0-2.86zM5.41 20L4 18.59l7.72-7.72 1.47 1.35L5.41 20z\"/>\n",
              "  </svg>\n",
              "      </button>\n",
              "      \n",
              "  <style>\n",
              "    .colab-df-container {\n",
              "      display:flex;\n",
              "      flex-wrap:wrap;\n",
              "      gap: 12px;\n",
              "    }\n",
              "\n",
              "    .colab-df-convert {\n",
              "      background-color: #E8F0FE;\n",
              "      border: none;\n",
              "      border-radius: 50%;\n",
              "      cursor: pointer;\n",
              "      display: none;\n",
              "      fill: #1967D2;\n",
              "      height: 32px;\n",
              "      padding: 0 0 0 0;\n",
              "      width: 32px;\n",
              "    }\n",
              "\n",
              "    .colab-df-convert:hover {\n",
              "      background-color: #E2EBFA;\n",
              "      box-shadow: 0px 1px 2px rgba(60, 64, 67, 0.3), 0px 1px 3px 1px rgba(60, 64, 67, 0.15);\n",
              "      fill: #174EA6;\n",
              "    }\n",
              "\n",
              "    [theme=dark] .colab-df-convert {\n",
              "      background-color: #3B4455;\n",
              "      fill: #D2E3FC;\n",
              "    }\n",
              "\n",
              "    [theme=dark] .colab-df-convert:hover {\n",
              "      background-color: #434B5C;\n",
              "      box-shadow: 0px 1px 3px 1px rgba(0, 0, 0, 0.15);\n",
              "      filter: drop-shadow(0px 1px 2px rgba(0, 0, 0, 0.3));\n",
              "      fill: #FFFFFF;\n",
              "    }\n",
              "  </style>\n",
              "\n",
              "      <script>\n",
              "        const buttonEl =\n",
              "          document.querySelector('#df-93013347-e02c-4712-951e-6d795bade55f button.colab-df-convert');\n",
              "        buttonEl.style.display =\n",
              "          google.colab.kernel.accessAllowed ? 'block' : 'none';\n",
              "\n",
              "        async function convertToInteractive(key) {\n",
              "          const element = document.querySelector('#df-93013347-e02c-4712-951e-6d795bade55f');\n",
              "          const dataTable =\n",
              "            await google.colab.kernel.invokeFunction('convertToInteractive',\n",
              "                                                     [key], {});\n",
              "          if (!dataTable) return;\n",
              "\n",
              "          const docLinkHtml = 'Like what you see? Visit the ' +\n",
              "            '<a target=\"_blank\" href=https://colab.research.google.com/notebooks/data_table.ipynb>data table notebook</a>'\n",
              "            + ' to learn more about interactive tables.';\n",
              "          element.innerHTML = '';\n",
              "          dataTable['output_type'] = 'display_data';\n",
              "          await google.colab.output.renderOutput(dataTable, element);\n",
              "          const docLink = document.createElement('div');\n",
              "          docLink.innerHTML = docLinkHtml;\n",
              "          element.appendChild(docLink);\n",
              "        }\n",
              "      </script>\n",
              "    </div>\n",
              "  </div>\n",
              "  "
            ]
          },
          "metadata": {},
          "execution_count": 17
        }
      ]
    },
    {
      "cell_type": "code",
      "source": [
        "df_res_tweet = pd.concat([df_res_tweet, df_clean_sport], ignore_index=True)\n",
        "df_res_tweet['occupation'].value_counts()"
      ],
      "metadata": {
        "id": "iZQKceENJ9L3",
        "colab": {
          "base_uri": "https://localhost:8080/"
        },
        "outputId": "ec1dd36c-1d32-412b-a946-cd6e8a0d72cc"
      },
      "execution_count": 18,
      "outputs": [
        {
          "output_type": "execute_result",
          "data": {
            "text/plain": [
              "hiburan                      541\n",
              "sains dan teknologi          164\n",
              "sosial kemasyarakatan        145\n",
              "pendidikan dan penelitian     81\n",
              "ekonomi dan bisnis            80\n",
              "media                         20\n",
              "hospitality & tourism         20\n",
              "seni                          19\n",
              "kesehatan                     19\n",
              "olahraga                      10\n",
              "Name: occupation, dtype: int64"
            ]
          },
          "metadata": {},
          "execution_count": 18
        }
      ]
    },
    {
      "cell_type": "markdown",
      "source": [
        "## Spliting Data"
      ],
      "metadata": {
        "id": "8wi-B2YQuwYF"
      }
    },
    {
      "cell_type": "code",
      "source": [
        "#Schema 1 -> Fitur Description\n",
        "X_desc = df_without_empty['description']\n",
        "y_desc = df_without_empty['occupation']\n",
        "X_train_desc, X_test_desc, y_train_desc, y_test_desc = train_test_split(X_desc, y_desc, test_size=0.2, stratify=y_desc, random_state=42)"
      ],
      "metadata": {
        "id": "u84jNw3qkTOs"
      },
      "execution_count": null,
      "outputs": []
    },
    {
      "cell_type": "code",
      "source": [
        "#Schema 2-> Fitur description dengan count\n",
        "X_desc_count = df_without_empty_count['description']\n",
        "y_desc_count = df_without_empty_count['occupation']\n",
        "X_train_desc_count, X_test_desc_count, y_train_desc_count, y_test_desc_count = train_test_split(X_desc_count, y_desc_count, test_size=0.2, stratify=y_desc_count, random_state=42)"
      ],
      "metadata": {
        "id": "O5lo7fkCfONY"
      },
      "execution_count": null,
      "outputs": []
    },
    {
      "cell_type": "code",
      "source": [
        "#Schema 3-> Fitur description dengan fill null occupation dengan max count\n",
        "X_desc_fill = df_profile_count_fill['description']\n",
        "y_desc_fill = df_profile_count_fill['occupation']\n",
        "X_train_fill, X_test_fill, y_train_fill, y_test_fill = train_test_split(X_desc_fill, y_desc_fill, test_size=0.2, stratify=y_desc_fill, random_state=42)"
      ],
      "metadata": {
        "id": "Wpg2jNMvfOeg"
      },
      "execution_count": 22,
      "outputs": []
    },
    {
      "cell_type": "code",
      "source": [
        "#Schema 4-> Fitur tweet\n",
        "X_tweet = df_res_tweet['tweet']\n",
        "y_tweet = df_res_tweet['occupation']\n",
        "X_train_tweet, X_test_tweet, y_train_tweet, y_test_tweet = train_test_split(X_tweet, y_tweet, test_size=0.2, stratify=y_tweet, random_state=42)"
      ],
      "metadata": {
        "id": "_WBn056Du0T2"
      },
      "execution_count": 55,
      "outputs": []
    },
    {
      "cell_type": "markdown",
      "source": [
        "## Feature Extraction"
      ],
      "metadata": {
        "id": "P-rOfI-6s0-p"
      }
    },
    {
      "cell_type": "code",
      "source": [
        "from imblearn.over_sampling import SMOTE, BorderlineSMOTE, SVMSMOTE, ADASYN\n",
        "over = SMOTE()"
      ],
      "metadata": {
        "id": "YmEuMGvxiaIe"
      },
      "execution_count": 22,
      "outputs": []
    },
    {
      "cell_type": "markdown",
      "source": [
        "### Schema 1(Fitur Description)"
      ],
      "metadata": {
        "id": "qlKvTY2gcGR7"
      }
    },
    {
      "cell_type": "code",
      "source": [
        "vectorizer_desc_tfidf = TfidfVectorizer(ngram_range=(1,3), max_features=75000)\n",
        "vectorizer_desc_tfidf.fit(X_train_desc)\n",
        "\n",
        "X_train_desc = vectorizer_desc_tfidf.transform(X_train_desc).todense()\n",
        "X_test_desc = vectorizer_desc_tfidf.transform(X_test_desc).todense()"
      ],
      "metadata": {
        "id": "NOX2BMrTcE1R"
      },
      "execution_count": null,
      "outputs": []
    },
    {
      "cell_type": "code",
      "source": [
        "X_train_final_desc, y_train_ovs_desc = over.fit_resample(X_train_desc, y_train_desc)"
      ],
      "metadata": {
        "id": "7o33uGW89H-Z"
      },
      "execution_count": null,
      "outputs": []
    },
    {
      "cell_type": "code",
      "source": [
        "del X_train_desc , y_train_desc"
      ],
      "metadata": {
        "id": "myd4zYcj4r-r"
      },
      "execution_count": null,
      "outputs": []
    },
    {
      "cell_type": "markdown",
      "source": [
        "### Schema 2 (Fitur Description dan jumlah kata)"
      ],
      "metadata": {
        "id": "SiKWPkPaYAkW"
      }
    },
    {
      "cell_type": "code",
      "source": [
        "vectorizer_desc_count_tfidf = TfidfVectorizer(ngram_range=(1,3), max_features=75000)\n",
        "vectorizer_desc_count_tfidf.fit(X_train_desc_count)\n",
        "\n",
        "X_train_desc_count = vectorizer_desc_count_tfidf.transform(X_train_desc_count).todense()\n",
        "X_test_desc_count = vectorizer_desc_count_tfidf.transform(X_test_desc_count).todense()"
      ],
      "metadata": {
        "id": "8RGgb_gmYN0t"
      },
      "execution_count": null,
      "outputs": []
    },
    {
      "cell_type": "code",
      "source": [
        "X_train_final_desc_count, y_train_ovs_desc_count = over.fit_resample(X_train_desc_count, y_train_desc_count)"
      ],
      "metadata": {
        "id": "us6xn49dYi0C"
      },
      "execution_count": null,
      "outputs": []
    },
    {
      "cell_type": "code",
      "source": [
        "del X_train_desc_count , y_train_desc_count"
      ],
      "metadata": {
        "id": "-WE-GAuwYvhB"
      },
      "execution_count": null,
      "outputs": []
    },
    {
      "cell_type": "markdown",
      "source": [
        "### Schema 3 (Fitur Description dan fill null values)"
      ],
      "metadata": {
        "id": "WkX5WsoePKvN"
      }
    },
    {
      "cell_type": "code",
      "source": [
        "vectorizer_desc_fill_tfidf = TfidfVectorizer(ngram_range=(1,3), max_features=30000)\n",
        "vectorizer_desc_fill_tfidf.fit(X_train_fill)\n",
        "\n",
        "X_train_fill = vectorizer_desc_fill_tfidf.transform(X_train_fill).todense()\n",
        "X_test_fill = vectorizer_desc_fill_tfidf.transform(X_test_fill).todense()"
      ],
      "metadata": {
        "id": "9bBJcJzsPQe1"
      },
      "execution_count": 24,
      "outputs": []
    },
    {
      "cell_type": "code",
      "source": [
        "X_train_final_fill, y_train_ovs_fill = over.fit_resample(X_train_fill, y_train_fill)"
      ],
      "metadata": {
        "id": "a_JOBWxrPyku"
      },
      "execution_count": 25,
      "outputs": []
    },
    {
      "cell_type": "code",
      "source": [
        "del X_train_fill , y_train_fill"
      ],
      "metadata": {
        "id": "ebAzRkdjP7dV"
      },
      "execution_count": 26,
      "outputs": []
    },
    {
      "cell_type": "markdown",
      "source": [
        "### Schema 4 (Fitur tweet)"
      ],
      "metadata": {
        "id": "xua0XKv0WYhE"
      }
    },
    {
      "cell_type": "code",
      "source": [
        "vectorizer_tweet_tfidf = TfidfVectorizer(ngram_range=(1,3), max_features=75000)\n",
        "vectorizer_tweet_tfidf.fit(X_train_tweet)\n",
        "\n",
        "X_train_tweet = vectorizer_tweet_tfidf.transform(X_train_tweet).todense()\n",
        "X_test_tweet = vectorizer_tweet_tfidf.transform(X_test_tweet).todense()"
      ],
      "metadata": {
        "id": "Uu7hBDbWs3J5"
      },
      "execution_count": 58,
      "outputs": []
    },
    {
      "cell_type": "code",
      "source": [
        "X_train_final_tweet, y_train_ovs_tweet = over.fit_resample(X_train_tweet, y_train_tweet)"
      ],
      "metadata": {
        "id": "9QtT9Lylg0ew"
      },
      "execution_count": 23,
      "outputs": []
    },
    {
      "cell_type": "code",
      "source": [
        "del X_train_tweet , y_train_tweet"
      ],
      "metadata": {
        "id": "oWjfGXfWp5hV"
      },
      "execution_count": 24,
      "outputs": []
    },
    {
      "cell_type": "markdown",
      "source": [
        "# Data Modeling"
      ],
      "metadata": {
        "id": "uHpc77m94kDE"
      }
    },
    {
      "cell_type": "code",
      "source": [
        "# from sklearn.pipeline import Pipeline\n",
        "from sklearn.multiclass import OneVsRestClassifier, OneVsOneClassifier\n",
        "# from sklearn.metrics import accuracy_score"
      ],
      "metadata": {
        "id": "KTM5Jnlw2y0U"
      },
      "execution_count": 26,
      "outputs": []
    },
    {
      "cell_type": "markdown",
      "source": [
        "https://towardsdatascience.com/multi-label-text-classification-with-scikit-learn-30714b7819c5"
      ],
      "metadata": {
        "id": "wzYgHFiV4zli"
      }
    },
    {
      "cell_type": "markdown",
      "source": [
        "## Logistic Regression"
      ],
      "metadata": {
        "id": "cBZ-qQUwt-0i"
      }
    },
    {
      "cell_type": "markdown",
      "source": [
        "### Schema 1(Fitur Description)"
      ],
      "metadata": {
        "id": "nWKxxFmr6yGl"
      }
    },
    {
      "cell_type": "code",
      "source": [
        "logreg_clf = OneVsRestClassifier(LogisticRegression(solver='sag'))\n",
        "logreg_clf.fit(X_train_final_desc, y_train_ovs_desc)\n",
        "logreg_ypred = logreg_clf.predict(X_test_desc)"
      ],
      "metadata": {
        "id": "2aHzHVtV655M"
      },
      "execution_count": null,
      "outputs": []
    },
    {
      "cell_type": "code",
      "source": [
        "print(classification_report(logreg_ypred, y_test_desc))"
      ],
      "metadata": {
        "colab": {
          "base_uri": "https://localhost:8080/"
        },
        "id": "3BRcxFY27MRl",
        "outputId": "6fe8a9a9-d088-4862-bbbb-1ebf30dce9ab"
      },
      "execution_count": null,
      "outputs": [
        {
          "output_type": "stream",
          "name": "stdout",
          "text": [
            "                           precision    recall  f1-score   support\n",
            "\n",
            "       ekonomi dan bisnis       0.24      0.21      0.23        38\n",
            "                  hiburan       0.62      0.59      0.60       122\n",
            "    hospitality & tourism       0.43      0.75      0.55         4\n",
            "                kesehatan       0.20      1.00      0.33         1\n",
            "                    media       0.58      0.58      0.58        12\n",
            "                 olahraga       0.18      0.22      0.20         9\n",
            "pendidikan dan penelitian       0.38      0.65      0.48        23\n",
            "      sains dan teknologi       0.27      0.17      0.21        60\n",
            "                     seni       0.40      0.50      0.44         4\n",
            "    sosial kemasyarakatan       0.34      0.40      0.37        40\n",
            "\n",
            "                 accuracy                           0.43       313\n",
            "                macro avg       0.36      0.51      0.40       313\n",
            "             weighted avg       0.43      0.43      0.43       313\n",
            "\n"
          ]
        }
      ]
    },
    {
      "cell_type": "markdown",
      "source": [
        "### Schema 2 (Fitur Description dan jumlah kata)"
      ],
      "metadata": {
        "id": "agxhLQSdZIaR"
      }
    },
    {
      "cell_type": "code",
      "source": [
        "logreg_clf = OneVsRestClassifier(LogisticRegression(solver='sag'))\n",
        "logreg_clf.fit(X_train_final_desc_count, y_train_ovs_desc_count)\n",
        "logreg_ypred = logreg_clf.predict(X_test_desc_count)"
      ],
      "metadata": {
        "id": "xqxMrAV8ZHX5"
      },
      "execution_count": null,
      "outputs": []
    },
    {
      "cell_type": "code",
      "source": [
        "print(classification_report(logreg_ypred, y_test_desc_count))"
      ],
      "metadata": {
        "colab": {
          "base_uri": "https://localhost:8080/"
        },
        "id": "dt_4EwDIZSpP",
        "outputId": "b2eac787-a5e7-408f-baf2-ed1e227b7d75"
      },
      "execution_count": null,
      "outputs": [
        {
          "output_type": "stream",
          "name": "stdout",
          "text": [
            "                           precision    recall  f1-score   support\n",
            "\n",
            "       ekonomi dan bisnis       0.19      0.29      0.23        28\n",
            "                  hiburan       0.56      0.56      0.56       126\n",
            "    hospitality & tourism       0.43      0.75      0.55         4\n",
            "                kesehatan       0.33      1.00      0.50         2\n",
            "                    media       0.50      0.35      0.42        31\n",
            "                 olahraga       0.31      0.22      0.26        23\n",
            "pendidikan dan penelitian       0.48      0.59      0.53        41\n",
            "      sains dan teknologi       0.30      0.22      0.25        59\n",
            "                     seni       0.57      0.67      0.62         6\n",
            "    sosial kemasyarakatan       0.47      0.48      0.48        64\n",
            "\n",
            "                 accuracy                           0.45       384\n",
            "                macro avg       0.41      0.51      0.44       384\n",
            "             weighted avg       0.45      0.45      0.44       384\n",
            "\n"
          ]
        }
      ]
    },
    {
      "cell_type": "markdown",
      "source": [
        "### Schema 3 (Fitur Description dan fill null values)"
      ],
      "metadata": {
        "id": "PpQO7huMT_1_"
      }
    },
    {
      "cell_type": "code",
      "source": [
        "logreg_clf = OneVsRestClassifier(LogisticRegression(solver='sag'))\n",
        "logreg_clf.fit(X_train_final_fill, y_train_ovs_fill)\n",
        "logreg_ypred = logreg_clf.predict(X_test_fill)"
      ],
      "metadata": {
        "id": "e6-3g-YgUBWm"
      },
      "execution_count": 28,
      "outputs": []
    },
    {
      "cell_type": "code",
      "source": [
        "print(classification_report(logreg_ypred, y_test_fill))"
      ],
      "metadata": {
        "colab": {
          "base_uri": "https://localhost:8080/"
        },
        "id": "FUo1yfABULj6",
        "outputId": "57d87313-a448-4f9f-dbfe-78b6d3643828"
      },
      "execution_count": 29,
      "outputs": [
        {
          "output_type": "stream",
          "name": "stdout",
          "text": [
            "                           precision    recall  f1-score   support\n",
            "\n",
            "       ekonomi dan bisnis       0.73      0.62      0.67        39\n",
            "                  hiburan       0.84      0.87      0.85       520\n",
            "    hospitality & tourism       0.17      0.33      0.22         3\n",
            "                kesehatan       0.75      0.75      0.75         8\n",
            "                    media       0.50      1.00      0.67         3\n",
            "                 olahraga       0.29      1.00      0.44         2\n",
            "pendidikan dan penelitian       0.33      0.33      0.33        18\n",
            "      sains dan teknologi       0.33      0.15      0.21        67\n",
            "                     seni       0.20      0.50      0.29         2\n",
            "    sosial kemasyarakatan       0.76      0.81      0.79       162\n",
            "\n",
            "                 accuracy                           0.77       824\n",
            "                macro avg       0.49      0.64      0.52       824\n",
            "             weighted avg       0.76      0.77      0.76       824\n",
            "\n"
          ]
        }
      ]
    },
    {
      "cell_type": "markdown",
      "source": [
        "### Schema 4 (Fitur tweet)"
      ],
      "metadata": {
        "id": "rvMjQG6v6v9L"
      }
    },
    {
      "cell_type": "code",
      "source": [
        "logreg_clf = OneVsRestClassifier(LogisticRegression(solver='sag'))\n",
        "logreg_clf.fit(X_train_final_tweet, y_train_ovs_tweet)\n",
        "logreg_ypred = logreg_clf.predict(X_test_tweet)"
      ],
      "metadata": {
        "id": "56Gl5LuBhW2X"
      },
      "execution_count": 27,
      "outputs": []
    },
    {
      "cell_type": "code",
      "source": [
        "print(classification_report(logreg_ypred, y_test_tweet))"
      ],
      "metadata": {
        "colab": {
          "base_uri": "https://localhost:8080/"
        },
        "id": "3IJM7_PG4hlD",
        "outputId": "75697149-bd8b-4130-d484-6d23885a6986"
      },
      "execution_count": 28,
      "outputs": [
        {
          "output_type": "stream",
          "name": "stdout",
          "text": [
            "                           precision    recall  f1-score   support\n",
            "\n",
            "       ekonomi dan bisnis       0.19      0.23      0.21        13\n",
            "                  hiburan       0.82      0.74      0.78       120\n",
            "    hospitality & tourism       0.25      0.33      0.29         3\n",
            "                kesehatan       0.00      0.00      0.00         1\n",
            "                    media       0.00      0.00      0.00         0\n",
            "                 olahraga       1.00      1.00      1.00         2\n",
            "pendidikan dan penelitian       0.19      0.25      0.21        12\n",
            "      sains dan teknologi       0.27      0.29      0.28        31\n",
            "                     seni       0.50      1.00      0.67         2\n",
            "    sosial kemasyarakatan       0.55      0.44      0.49        36\n",
            "\n",
            "                 accuracy                           0.57       220\n",
            "                macro avg       0.38      0.43      0.39       220\n",
            "             weighted avg       0.62      0.57      0.59       220\n",
            "\n"
          ]
        }
      ]
    },
    {
      "cell_type": "code",
      "source": [
        "import pickle\n",
        "filename = 'model_occupation_logreg_tweet.sav'\n",
        "pickle.dump(logreg_clf , open(filename, 'wb'))"
      ],
      "metadata": {
        "id": "G6xX1cEP14dP"
      },
      "execution_count": null,
      "outputs": []
    },
    {
      "cell_type": "markdown",
      "source": [
        "## Multinomial NB"
      ],
      "metadata": {
        "id": "KYT4hOxxyHqx"
      }
    },
    {
      "cell_type": "markdown",
      "source": [
        "### Schema 1(Fitur Description)"
      ],
      "metadata": {
        "id": "7EY9Ubbv9Epd"
      }
    },
    {
      "cell_type": "code",
      "source": [
        "multinb_clf = OneVsRestClassifier(MultinomialNB(fit_prior=True, class_prior=None))\n",
        "\n",
        "multinb_clf.fit(X_train_final_desc, y_train_ovs_desc)\n",
        "\n",
        "mnb_ypred = multinb_clf.predict(X_test_desc)"
      ],
      "metadata": {
        "id": "ORPMV32y9LPc"
      },
      "execution_count": null,
      "outputs": []
    },
    {
      "cell_type": "code",
      "source": [
        "print(classification_report(mnb_ypred, y_test_desc))"
      ],
      "metadata": {
        "colab": {
          "base_uri": "https://localhost:8080/"
        },
        "id": "CxYuBy5R9SHR",
        "outputId": "39922845-6e72-4d4d-b1c9-1ba12adea41e"
      },
      "execution_count": null,
      "outputs": [
        {
          "output_type": "stream",
          "name": "stdout",
          "text": [
            "                           precision    recall  f1-score   support\n",
            "\n",
            "       ekonomi dan bisnis       0.12      0.21      0.15        19\n",
            "                  hiburan       0.37      0.72      0.49        60\n",
            "    hospitality & tourism       0.57      0.13      0.22        30\n",
            "                kesehatan       0.40      0.09      0.15        22\n",
            "                    media       0.75      0.26      0.39        34\n",
            "                 olahraga       0.36      0.21      0.27        19\n",
            "pendidikan dan penelitian       0.36      0.58      0.44        24\n",
            "      sains dan teknologi       0.05      0.11      0.07        19\n",
            "                     seni       0.40      0.09      0.14        23\n",
            "    sosial kemasyarakatan       0.51      0.38      0.44        63\n",
            "\n",
            "                 accuracy                           0.35       313\n",
            "                macro avg       0.39      0.28      0.28       313\n",
            "             weighted avg       0.43      0.35      0.33       313\n",
            "\n"
          ]
        }
      ]
    },
    {
      "cell_type": "markdown",
      "source": [
        "### Schema 2 (Fitur Description dan jumlah kata)"
      ],
      "metadata": {
        "id": "3VbmM-ohdLgr"
      }
    },
    {
      "cell_type": "code",
      "source": [
        "multinb_clf = OneVsRestClassifier(MultinomialNB(fit_prior=True, class_prior=None))\n",
        "\n",
        "multinb_clf.fit(X_train_final_desc_count, y_train_ovs_desc_count)\n",
        "\n",
        "mnb_ypred = multinb_clf.predict(X_test_desc_count)"
      ],
      "metadata": {
        "id": "rCuI6kCRdOLJ"
      },
      "execution_count": null,
      "outputs": []
    },
    {
      "cell_type": "code",
      "source": [
        "print(classification_report(mnb_ypred, y_test_desc_count))"
      ],
      "metadata": {
        "colab": {
          "base_uri": "https://localhost:8080/"
        },
        "id": "TAP0oJbkdVIj",
        "outputId": "1daa3a3c-64d8-4b69-b302-e6cab6177968"
      },
      "execution_count": null,
      "outputs": [
        {
          "output_type": "stream",
          "name": "stdout",
          "text": [
            "                           precision    recall  f1-score   support\n",
            "\n",
            "       ekonomi dan bisnis       0.14      0.33      0.20        18\n",
            "                  hiburan       0.35      0.62      0.45        71\n",
            "    hospitality & tourism       0.43      0.08      0.13        38\n",
            "                kesehatan       0.50      0.14      0.22        21\n",
            "                    media       0.59      0.35      0.44        37\n",
            "                 olahraga       0.44      0.18      0.25        39\n",
            "pendidikan dan penelitian       0.54      0.60      0.57        45\n",
            "      sains dan teknologi       0.11      0.38      0.18        13\n",
            "                     seni       0.86      0.21      0.34        28\n",
            "    sosial kemasyarakatan       0.48      0.43      0.46        74\n",
            "\n",
            "                 accuracy                           0.38       384\n",
            "                macro avg       0.45      0.33      0.32       384\n",
            "             weighted avg       0.47      0.38      0.37       384\n",
            "\n"
          ]
        }
      ]
    },
    {
      "cell_type": "markdown",
      "source": [
        "### Schema 3 (Fitur Description dan fill null values)"
      ],
      "metadata": {
        "id": "PHWlpoHLZ7mv"
      }
    },
    {
      "cell_type": "code",
      "source": [
        "multinb_clf = OneVsRestClassifier(MultinomialNB(fit_prior=True, class_prior=None))\n",
        "\n",
        "multinb_clf.fit(X_train_final_fill, y_train_ovs_fill)\n",
        "\n",
        "mnb_ypred = multinb_clf.predict(X_test_fill)"
      ],
      "metadata": {
        "id": "DMyyTto2Z9Hv"
      },
      "execution_count": 30,
      "outputs": []
    },
    {
      "cell_type": "code",
      "source": [
        "print(classification_report(mnb_ypred, y_test_fill))"
      ],
      "metadata": {
        "colab": {
          "base_uri": "https://localhost:8080/"
        },
        "id": "xML0N1hiaGI6",
        "outputId": "4f2944e4-034a-49ab-e256-7e574e59f0ea"
      },
      "execution_count": 31,
      "outputs": [
        {
          "output_type": "stream",
          "name": "stdout",
          "text": [
            "                           precision    recall  f1-score   support\n",
            "\n",
            "       ekonomi dan bisnis       0.73      0.73      0.73        33\n",
            "                  hiburan       0.70      0.93      0.80       404\n",
            "    hospitality & tourism       0.83      0.14      0.23        37\n",
            "                kesehatan       0.88      0.26      0.40        27\n",
            "                    media       1.00      0.35      0.52        17\n",
            "                 olahraga       0.86      0.18      0.30        33\n",
            "pendidikan dan penelitian       0.33      0.18      0.24        33\n",
            "      sains dan teknologi       0.17      0.18      0.17        28\n",
            "                     seni       0.60      0.13      0.21        23\n",
            "    sosial kemasyarakatan       0.79      0.72      0.76       189\n",
            "\n",
            "                 accuracy                           0.70       824\n",
            "                macro avg       0.69      0.38      0.44       824\n",
            "             weighted avg       0.71      0.70      0.66       824\n",
            "\n"
          ]
        }
      ]
    },
    {
      "cell_type": "markdown",
      "source": [
        "### Schema 4 (Fitur tweet)"
      ],
      "metadata": {
        "id": "msYzyPLB9KDw"
      }
    },
    {
      "cell_type": "code",
      "source": [
        "multinb_clf = OneVsRestClassifier(MultinomialNB(fit_prior=True, class_prior=None))\n",
        "\n",
        "multinb_clf.fit(X_train_final_tweet, y_train_ovs_tweet)\n",
        "\n",
        "mnb_ypred = multinb_clf.predict(X_test_tweet)"
      ],
      "metadata": {
        "id": "7uUCvm07jTl_"
      },
      "execution_count": 29,
      "outputs": []
    },
    {
      "cell_type": "code",
      "source": [
        "print(classification_report(mnb_ypred, y_test_tweet))"
      ],
      "metadata": {
        "colab": {
          "base_uri": "https://localhost:8080/"
        },
        "id": "DZz6SgvY5uyN",
        "outputId": "a55286b1-4de0-4b38-a3cf-096f7294b635"
      },
      "execution_count": 30,
      "outputs": [
        {
          "output_type": "stream",
          "name": "stdout",
          "text": [
            "                           precision    recall  f1-score   support\n",
            "\n",
            "       ekonomi dan bisnis       0.50      0.21      0.29        39\n",
            "                  hiburan       0.55      0.87      0.67        68\n",
            "    hospitality & tourism       0.50      0.15      0.24        13\n",
            "                kesehatan       0.50      0.50      0.50         4\n",
            "                    media       1.00      0.44      0.62         9\n",
            "                 olahraga       1.00      1.00      1.00         2\n",
            "pendidikan dan penelitian       0.06      0.11      0.08         9\n",
            "      sains dan teknologi       0.36      0.32      0.34        38\n",
            "                     seni       0.50      0.20      0.29        10\n",
            "    sosial kemasyarakatan       0.52      0.54      0.53        28\n",
            "\n",
            "                 accuracy                           0.49       220\n",
            "                macro avg       0.55      0.43      0.45       220\n",
            "             weighted avg       0.50      0.49      0.46       220\n",
            "\n"
          ]
        }
      ]
    },
    {
      "cell_type": "code",
      "source": [
        "filename = 'model_occupation_multinomialnb_tweet.sav'\n",
        "pickle.dump(multinb_clf , open(filename, 'wb'))"
      ],
      "metadata": {
        "id": "7mIt1jmelVPN"
      },
      "execution_count": null,
      "outputs": []
    },
    {
      "cell_type": "markdown",
      "source": [
        "## Random Forest Classifier"
      ],
      "metadata": {
        "id": "mob9XETJQvYH"
      }
    },
    {
      "cell_type": "markdown",
      "source": [
        "### Schema 1(Fitur Description)"
      ],
      "metadata": {
        "id": "oHB8eJdW9jpj"
      }
    },
    {
      "cell_type": "code",
      "source": [
        "rfc_clf = OneVsOneClassifier(RandomForestClassifier())\n",
        "\n",
        "rfc_clf.fit(X_train_final_desc, y_train_ovs_desc)\n",
        "\n",
        "rfc_ypred = rfc_clf.predict(X_test_desc)"
      ],
      "metadata": {
        "id": "BAsbSWE09wQd"
      },
      "execution_count": null,
      "outputs": []
    },
    {
      "cell_type": "code",
      "source": [
        "print(classification_report(rfc_ypred, y_test_desc))"
      ],
      "metadata": {
        "colab": {
          "base_uri": "https://localhost:8080/"
        },
        "id": "InpaMb1u9xdm",
        "outputId": "f33f75c7-4caa-4ef9-a530-52acda580e76"
      },
      "execution_count": null,
      "outputs": [
        {
          "output_type": "stream",
          "name": "stdout",
          "text": [
            "                           precision    recall  f1-score   support\n",
            "\n",
            "       ekonomi dan bisnis       0.27      0.13      0.17        70\n",
            "                  hiburan       0.62      0.44      0.51       167\n",
            "    hospitality & tourism       0.00      0.00      0.00         0\n",
            "                kesehatan       0.00      0.00      0.00         0\n",
            "                    media       0.00      0.00      0.00         1\n",
            "                 olahraga       0.00      0.00      0.00         1\n",
            "pendidikan dan penelitian       0.31      0.71      0.43        17\n",
            "      sains dan teknologi       0.14      0.13      0.13        38\n",
            "                     seni       0.00      0.00      0.00         0\n",
            "    sosial kemasyarakatan       0.26      0.63      0.36        19\n",
            "\n",
            "                 accuracy                           0.35       313\n",
            "                macro avg       0.16      0.20      0.16       313\n",
            "             weighted avg       0.44      0.35      0.37       313\n",
            "\n"
          ]
        }
      ]
    },
    {
      "cell_type": "markdown",
      "source": [
        "### Schema 2 (Fitur Description dan jumlah kata)"
      ],
      "metadata": {
        "id": "CIVmU6bcdgIn"
      }
    },
    {
      "cell_type": "code",
      "source": [
        "rfc_clf = OneVsOneClassifier(RandomForestClassifier())\n",
        "\n",
        "rfc_clf.fit(X_train_final_desc_count, y_train_ovs_desc_count)\n",
        "\n",
        "rfc_ypred = rfc_clf.predict(X_test_desc_count)"
      ],
      "metadata": {
        "id": "CGTwtQ-Pdn5z"
      },
      "execution_count": null,
      "outputs": []
    },
    {
      "cell_type": "code",
      "source": [
        "print(classification_report(rfc_ypred, y_test_desc_count))"
      ],
      "metadata": {
        "colab": {
          "base_uri": "https://localhost:8080/"
        },
        "id": "Xyi0oUWZdxjg",
        "outputId": "644dd017-48ea-47c1-9728-e7236afb041c"
      },
      "execution_count": null,
      "outputs": [
        {
          "output_type": "stream",
          "name": "stdout",
          "text": [
            "                           precision    recall  f1-score   support\n",
            "\n",
            "       ekonomi dan bisnis       0.14      0.21      0.17        29\n",
            "                  hiburan       0.62      0.44      0.51       176\n",
            "    hospitality & tourism       0.00      0.00      0.00         0\n",
            "                kesehatan       0.00      0.00      0.00         0\n",
            "                    media       0.09      0.50      0.15         4\n",
            "                 olahraga       0.12      0.67      0.21         3\n",
            "pendidikan dan penelitian       0.38      0.83      0.52        23\n",
            "      sains dan teknologi       0.43      0.17      0.25       111\n",
            "                     seni       0.00      0.00      0.00         0\n",
            "    sosial kemasyarakatan       0.44      0.76      0.56        38\n",
            "\n",
            "                 accuracy                           0.40       384\n",
            "                macro avg       0.22      0.36      0.24       384\n",
            "             weighted avg       0.49      0.40      0.41       384\n",
            "\n"
          ]
        }
      ]
    },
    {
      "cell_type": "markdown",
      "source": [
        "### Schema 3 (Fitur Description dan fill null values)"
      ],
      "metadata": {
        "id": "pIxdLMspbtzZ"
      }
    },
    {
      "cell_type": "code",
      "source": [
        "rfc_clf = OneVsOneClassifier(RandomForestClassifier())\n",
        "\n",
        "rfc_clf.fit(X_train_final_fill, y_train_ovs_fill)\n",
        "\n",
        "rfc_ypred = rfc_clf.predict(X_test_fill)"
      ],
      "metadata": {
        "id": "ZK5r00iKbulc"
      },
      "execution_count": 32,
      "outputs": []
    },
    {
      "cell_type": "code",
      "source": [
        "print(classification_report(rfc_ypred, y_test_fill))"
      ],
      "metadata": {
        "colab": {
          "base_uri": "https://localhost:8080/"
        },
        "id": "7FW5QgBqcZ98",
        "outputId": "3764d5a4-17d4-4349-d063-8d5ed4fefd3b"
      },
      "execution_count": 33,
      "outputs": [
        {
          "metadata": {
            "tags": null
          },
          "name": "stdout",
          "output_type": "stream",
          "text": [
            "                           precision    recall  f1-score   support\n",
            "\n",
            "       ekonomi dan bisnis       0.36      0.50      0.42        24\n",
            "                  hiburan       0.79      0.83      0.81       510\n",
            "    hospitality & tourism       0.00      0.00      0.00         0\n",
            "                kesehatan       0.25      1.00      0.40         2\n",
            "                    media       0.00      0.00      0.00         0\n",
            "                 olahraga       0.00      0.00      0.00         0\n",
            "pendidikan dan penelitian       0.11      0.29      0.16         7\n",
            "      sains dan teknologi       0.57      0.11      0.18       158\n",
            "                     seni       0.20      1.00      0.33         1\n",
            "    sosial kemasyarakatan       0.63      0.89      0.74       122\n",
            "\n",
            "                 accuracy                           0.69       824\n",
            "                macro avg       0.29      0.46      0.30       824\n",
            "             weighted avg       0.70      0.69      0.66       824\n",
            "\n"
          ]
        }
      ]
    },
    {
      "cell_type": "markdown",
      "source": [
        "### Schema 4 (Fitur tweet)"
      ],
      "metadata": {
        "id": "Zmy7XkA_9pmO"
      }
    },
    {
      "cell_type": "code",
      "source": [
        "rfc_clf = OneVsOneClassifier(RandomForestClassifier())\n",
        "\n",
        "rfc_clf.fit(X_train_final_tweet, y_train_ovs_tweet)\n",
        "\n",
        "rfc_ypred = rfc_clf.predict(X_test_tweet)"
      ],
      "metadata": {
        "id": "FOxzHsLvwX7U"
      },
      "execution_count": 31,
      "outputs": []
    },
    {
      "cell_type": "code",
      "source": [
        "print(classification_report(rfc_ypred, y_test_tweet))"
      ],
      "metadata": {
        "colab": {
          "base_uri": "https://localhost:8080/"
        },
        "id": "fnIMnpMcwZDD",
        "outputId": "33ddae45-81a1-4bea-9699-08f8f9fe7f16"
      },
      "execution_count": 32,
      "outputs": [
        {
          "output_type": "stream",
          "name": "stdout",
          "text": [
            "                           precision    recall  f1-score   support\n",
            "\n",
            "       ekonomi dan bisnis       0.00      0.00      0.00         0\n",
            "                  hiburan       0.94      0.57      0.71       180\n",
            "    hospitality & tourism       0.00      0.00      0.00         0\n",
            "                kesehatan       0.00      0.00      0.00         0\n",
            "                    media       0.00      0.00      0.00         0\n",
            "                 olahraga       0.00      0.00      0.00         0\n",
            "pendidikan dan penelitian       0.00      0.00      0.00         0\n",
            "      sains dan teknologi       0.15      0.38      0.22        13\n",
            "                     seni       0.50      1.00      0.67         2\n",
            "    sosial kemasyarakatan       0.45      0.52      0.48        25\n",
            "\n",
            "                 accuracy                           0.55       220\n",
            "                macro avg       0.20      0.25      0.21       220\n",
            "             weighted avg       0.84      0.55      0.65       220\n",
            "\n"
          ]
        }
      ]
    },
    {
      "cell_type": "code",
      "source": [
        "filename = 'model_occupation_rf_tweet.sav'\n",
        "pickle.dump(rfc_clf , open(filename, 'wb'))"
      ],
      "metadata": {
        "id": "qUvJKWY_4qvt"
      },
      "execution_count": null,
      "outputs": []
    },
    {
      "cell_type": "markdown",
      "source": [
        "##LGBM Classifier"
      ],
      "metadata": {
        "id": "36bdFYmcTSWu"
      }
    },
    {
      "cell_type": "markdown",
      "source": [
        "### Schema 1(Fitur Description)"
      ],
      "metadata": {
        "id": "KffeP2ha_c0x"
      }
    },
    {
      "cell_type": "code",
      "source": [
        "from lightgbm import LGBMClassifier"
      ],
      "metadata": {
        "id": "_dd526lQqHJL"
      },
      "execution_count": 34,
      "outputs": []
    },
    {
      "cell_type": "code",
      "source": [
        "lgb_clf = LGBMClassifier()\n",
        "\n",
        "lgb_clf.fit(X_train_final_desc, y_train_ovs_desc)\n",
        "\n",
        "lgb_ypred = lgb_clf.predict(X_test_desc)"
      ],
      "metadata": {
        "id": "-IOxfu5q_hYV"
      },
      "execution_count": null,
      "outputs": []
    },
    {
      "cell_type": "code",
      "source": [
        "print(classification_report(lgb_ypred, y_test_desc))"
      ],
      "metadata": {
        "colab": {
          "base_uri": "https://localhost:8080/"
        },
        "id": "rDIHegzd_qZa",
        "outputId": "78a7b010-ad16-4b81-d3a9-a085aff244f7"
      },
      "execution_count": null,
      "outputs": [
        {
          "output_type": "stream",
          "name": "stdout",
          "text": [
            "                           precision    recall  f1-score   support\n",
            "\n",
            "       ekonomi dan bisnis       0.18      0.25      0.21        24\n",
            "                  hiburan       0.54      0.49      0.51       129\n",
            "    hospitality & tourism       0.29      0.67      0.40         3\n",
            "                kesehatan       0.20      0.33      0.25         3\n",
            "                    media       0.50      0.55      0.52        11\n",
            "                 olahraga       0.00      0.00      0.00         0\n",
            "pendidikan dan penelitian       0.38      0.45      0.42        33\n",
            "      sains dan teknologi       0.24      0.12      0.16        76\n",
            "                     seni       0.20      0.20      0.20         5\n",
            "    sosial kemasyarakatan       0.32      0.52      0.39        29\n",
            "\n",
            "                 accuracy                           0.38       313\n",
            "                macro avg       0.29      0.36      0.31       313\n",
            "             weighted avg       0.39      0.38      0.37       313\n",
            "\n"
          ]
        }
      ]
    },
    {
      "cell_type": "markdown",
      "source": [
        "### Schema 2 (Fitur Description dan jumlah kata)"
      ],
      "metadata": {
        "id": "uinp3mzRdiFn"
      }
    },
    {
      "cell_type": "code",
      "source": [
        "lgb_clf = LGBMClassifier()\n",
        "\n",
        "lgb_clf.fit(X_train_final_desc_count, y_train_ovs_desc_count)\n",
        "\n",
        "lgb_ypred = lgb_clf.predict(X_test_desc_count)"
      ],
      "metadata": {
        "id": "5IkI1v77hgJI"
      },
      "execution_count": null,
      "outputs": []
    },
    {
      "cell_type": "code",
      "source": [
        "print(classification_report(lgb_ypred, y_test_desc_count))"
      ],
      "metadata": {
        "colab": {
          "base_uri": "https://localhost:8080/"
        },
        "id": "4oTnnCRyhnAN",
        "outputId": "03ce11e2-4710-4a1a-a0f4-105702ef708a"
      },
      "execution_count": null,
      "outputs": [
        {
          "output_type": "stream",
          "name": "stdout",
          "text": [
            "                           precision    recall  f1-score   support\n",
            "\n",
            "       ekonomi dan bisnis       0.19      0.35      0.25        23\n",
            "                  hiburan       0.59      0.49      0.53       149\n",
            "    hospitality & tourism       0.14      1.00      0.25         1\n",
            "                kesehatan       0.17      0.25      0.20         4\n",
            "                    media       0.55      0.57      0.56        21\n",
            "                 olahraga       0.19      0.27      0.22        11\n",
            "pendidikan dan penelitian       0.50      0.52      0.51        48\n",
            "      sains dan teknologi       0.34      0.20      0.25        75\n",
            "                     seni       0.57      0.67      0.62         6\n",
            "    sosial kemasyarakatan       0.38      0.54      0.45        46\n",
            "\n",
            "                 accuracy                           0.43       384\n",
            "                macro avg       0.36      0.49      0.38       384\n",
            "             weighted avg       0.46      0.43      0.44       384\n",
            "\n"
          ]
        }
      ]
    },
    {
      "cell_type": "markdown",
      "source": [
        "### Schema 3 (Fitur Description dan fill null values)"
      ],
      "metadata": {
        "id": "2LU_SOXCj1t5"
      }
    },
    {
      "cell_type": "code",
      "source": [
        "lgb_clf = LGBMClassifier()\n",
        "\n",
        "lgb_clf.fit(X_train_final_fill, y_train_ovs_fill)\n",
        "\n",
        "lgb_ypred = lgb_clf.predict(X_test_fill)"
      ],
      "metadata": {
        "id": "1fpAUy0Jj3MG"
      },
      "execution_count": 36,
      "outputs": []
    },
    {
      "cell_type": "code",
      "source": [
        "print(classification_report(lgb_ypred, y_test_fill))"
      ],
      "metadata": {
        "colab": {
          "base_uri": "https://localhost:8080/"
        },
        "id": "XOLVwMv-kBU6",
        "outputId": "867fea95-d0b3-4d78-d67a-f09602e60bfa"
      },
      "execution_count": 37,
      "outputs": [
        {
          "output_type": "stream",
          "name": "stdout",
          "text": [
            "                           precision    recall  f1-score   support\n",
            "\n",
            "       ekonomi dan bisnis       0.48      0.44      0.46        36\n",
            "                  hiburan       0.86      0.81      0.84       573\n",
            "    hospitality & tourism       0.17      0.33      0.22         3\n",
            "                kesehatan       0.62      0.62      0.62         8\n",
            "                    media       0.33      1.00      0.50         2\n",
            "                 olahraga       0.29      0.50      0.36         4\n",
            "pendidikan dan penelitian       0.28      0.71      0.40         7\n",
            "      sains dan teknologi       0.20      0.14      0.16        44\n",
            "                     seni       0.20      0.25      0.22         4\n",
            "    sosial kemasyarakatan       0.66      0.80      0.73       143\n",
            "\n",
            "                 accuracy                           0.75       824\n",
            "                macro avg       0.41      0.56      0.45       824\n",
            "             weighted avg       0.76      0.75      0.75       824\n",
            "\n"
          ]
        }
      ]
    },
    {
      "cell_type": "markdown",
      "source": [
        "### Schema 4 (Fitur tweet)"
      ],
      "metadata": {
        "id": "h7MgcvV5_bu1"
      }
    },
    {
      "cell_type": "code",
      "source": [
        "lgb_clf = LGBMClassifier()\n",
        "\n",
        "lgb_clf.fit(X_train_final_tweet, y_train_ovs_tweet)\n",
        "\n",
        "lgb_ypred = lgb_clf.predict(X_test_tweet)"
      ],
      "metadata": {
        "id": "XvL4Q-v7TRoL"
      },
      "execution_count": 35,
      "outputs": []
    },
    {
      "cell_type": "code",
      "source": [
        "print(classification_report(lgb_ypred, y_test_tweet))"
      ],
      "metadata": {
        "id": "WVBct_xFTcNL",
        "colab": {
          "base_uri": "https://localhost:8080/"
        },
        "outputId": "1b65d97a-51ba-4a9f-950e-2ca577cc720c"
      },
      "execution_count": 36,
      "outputs": [
        {
          "output_type": "stream",
          "name": "stdout",
          "text": [
            "                           precision    recall  f1-score   support\n",
            "\n",
            "       ekonomi dan bisnis       0.06      0.20      0.10         5\n",
            "                  hiburan       0.94      0.65      0.77       156\n",
            "    hospitality & tourism       0.25      1.00      0.40         1\n",
            "                kesehatan       0.50      1.00      0.67         2\n",
            "                    media       0.00      0.00      0.00         0\n",
            "                 olahraga       0.50      1.00      0.67         1\n",
            "pendidikan dan penelitian       0.06      0.17      0.09         6\n",
            "      sains dan teknologi       0.24      0.40      0.30        20\n",
            "                     seni       0.50      0.67      0.57         3\n",
            "    sosial kemasyarakatan       0.48      0.54      0.51        26\n",
            "\n",
            "                 accuracy                           0.60       220\n",
            "                macro avg       0.35      0.56      0.41       220\n",
            "             weighted avg       0.76      0.60      0.65       220\n",
            "\n"
          ]
        }
      ]
    },
    {
      "cell_type": "code",
      "source": [
        "filename = 'model_occupation_lgbm_tweet.sav'\n",
        "pickle.dump(lgb_clf , open(filename, 'wb'))"
      ],
      "metadata": {
        "id": "fmpB5CVw5u4Z"
      },
      "execution_count": 62,
      "outputs": []
    },
    {
      "cell_type": "markdown",
      "source": [
        "# Model Evaluation"
      ],
      "metadata": {
        "id": "noTL56kD4g3t"
      }
    },
    {
      "cell_type": "markdown",
      "source": [
        "Karena model Random forest banyak menghasilkan nilai 0 dalam aspek pekerjaan tertentu dibandingkan model lainnya maka tim peneliti memutuskan hanya membandingkan 3 model saja untuk dievaluasi lebih lanjut"
      ],
      "metadata": {
        "id": "a_HwWi5U-7HJ"
      }
    },
    {
      "cell_type": "code",
      "source": [
        "from sklearn.metrics import accuracy_score, f1_score, precision_score, recall_score"
      ],
      "metadata": {
        "id": "jaJJ7Ld14jj3"
      },
      "execution_count": 39,
      "outputs": []
    },
    {
      "cell_type": "markdown",
      "source": [
        "## Schema 1"
      ],
      "metadata": {
        "id": "TGh7xGfrA2LH"
      }
    },
    {
      "cell_type": "markdown",
      "source": [
        "**Logistic Regression**"
      ],
      "metadata": {
        "id": "gJ6yDTGbBZF9"
      }
    },
    {
      "cell_type": "code",
      "source": [
        "print(f\"Accuracy score: {round(accuracy_score(logreg_ypred, y_test_desc), 4)}\")\n",
        "print(f\"Precision score: {round(precision_score(logreg_ypred, y_test_desc,average='macro'), 4)}\")\n",
        "print(f\"Recall score: {round(recall_score(logreg_ypred, y_test_desc, average='macro'), 4)}\")\n",
        "print(f\"F1 score: {round(f1_score(logreg_ypred, y_test_desc, average='macro'), 4)}\")"
      ],
      "metadata": {
        "colab": {
          "base_uri": "https://localhost:8080/"
        },
        "id": "CqTSZFesBYar",
        "outputId": "1fe6da60-ff2b-4670-dbda-9f6e8d4acd7d"
      },
      "execution_count": null,
      "outputs": [
        {
          "output_type": "stream",
          "name": "stdout",
          "text": [
            "Accuracy score: 0.4345\n",
            "Precision score: 0.3647\n",
            "Recall score: 0.5075\n",
            "F1 score: 0.3992\n"
          ]
        }
      ]
    },
    {
      "cell_type": "markdown",
      "source": [
        "**Multinomial Naive Bayes**"
      ],
      "metadata": {
        "id": "I2duyEp0Bin5"
      }
    },
    {
      "cell_type": "code",
      "source": [
        "print(f\"Accuracy score: {round(accuracy_score(mnb_ypred,  y_test_desc), 4)}\")\n",
        "print(f\"Precision score: {round(precision_score(mnb_ypred,  y_test_desc,average='macro'), 4)}\")\n",
        "print(f\"Recall score: {round(recall_score(mnb_ypred,  y_test_desc, average='macro'), 4)}\")\n",
        "print(f\"F1 score: {round(f1_score(mnb_ypred,  y_test_desc, average='macro'), 4)}\")"
      ],
      "metadata": {
        "colab": {
          "base_uri": "https://localhost:8080/"
        },
        "id": "xKfo7JCvBmXo",
        "outputId": "487aacf6-d15d-40a4-f135-cced29c59419"
      },
      "execution_count": null,
      "outputs": [
        {
          "output_type": "stream",
          "name": "stdout",
          "text": [
            "Accuracy score: 0.345\n",
            "Precision score: 0.3897\n",
            "Recall score: 0.2783\n",
            "F1 score: 0.2757\n"
          ]
        }
      ]
    },
    {
      "cell_type": "markdown",
      "source": [
        "**LightGBM**"
      ],
      "metadata": {
        "id": "4KjgChz7Bu-G"
      }
    },
    {
      "cell_type": "code",
      "source": [
        "print(f\"Accuracy score: {round(accuracy_score(lgb_ypred, y_test_desc), 4)}\")\n",
        "print(f\"Precision score: {round(precision_score(lgb_ypred, y_test_desc,average='macro'), 4)}\")\n",
        "print(f\"Recall score: {round(recall_score(lgb_ypred, y_test_desc,average='macro'), 4)}\")\n",
        "print(f\"F1 score: {round(f1_score(lgb_ypred, y_test_desc,average='macro'), 4)}\")"
      ],
      "metadata": {
        "colab": {
          "base_uri": "https://localhost:8080/"
        },
        "id": "TLVd8wgpBycl",
        "outputId": "71d195c7-df37-4e47-98c9-c5a27feeb962"
      },
      "execution_count": null,
      "outputs": [
        {
          "output_type": "stream",
          "name": "stdout",
          "text": [
            "Accuracy score: 0.377\n",
            "Precision score: 0.2853\n",
            "Recall score: 0.3574\n",
            "F1 score: 0.3065\n"
          ]
        }
      ]
    },
    {
      "cell_type": "markdown",
      "source": [
        "**Result**"
      ],
      "metadata": {
        "id": "wupTnbzmB5-H"
      }
    },
    {
      "cell_type": "code",
      "source": [
        "df_result = pd.DataFrame({\n",
        "    \"model\": [\"Logistic Regression\", \"Multinomial Naive Bayes\", \"LightGBM\"]*4,\n",
        "    \"score\": [0.4345, 0.345, 0.377,\n",
        "              0.3647, 0.3897, 0.2853,\n",
        "              0.5075,  0.2783, 0.3574,\n",
        "              0.3992, 0.2757, 0.3065],\n",
        "    \"metric\": [\"accuracy\"]*3 + [\"precision\"]*3 + [\"recall\"]*3 + [\"f1-score\"]*3\n",
        "})"
      ],
      "metadata": {
        "id": "wdOJP0-XCbp6"
      },
      "execution_count": null,
      "outputs": []
    },
    {
      "cell_type": "code",
      "source": [
        "fig, ax = plt.subplots(figsize=(8, 4))\n",
        "\n",
        "sns.barplot(x=\"metric\", y=\"score\", hue=\"model\", data=df_result)\n",
        "\n",
        "plt.legend(bbox_to_anchor=(1.02, 1), loc='upper left', borderaxespad=0)\n",
        "plt.title(\"Performance of Each Models for Schema 1\")\n",
        "plt.show()"
      ],
      "metadata": {
        "colab": {
          "base_uri": "https://localhost:8080/",
          "height": 295
        },
        "id": "D_phaNp5Drra",
        "outputId": "10bb1c3c-d3c2-44ba-92a8-8b5b6a608560"
      },
      "execution_count": null,
      "outputs": [
        {
          "output_type": "display_data",
          "data": {
            "text/plain": [
              "<Figure size 576x288 with 1 Axes>"
            ],
            "image/png": "[encoded data removed]"
          },
          "metadata": {
            "needs_background": "light"
          }
        }
      ]
    },
    {
      "cell_type": "markdown",
      "source": [
        "## Schema 2"
      ],
      "metadata": {
        "id": "SQcmw0KClM2d"
      }
    },
    {
      "cell_type": "markdown",
      "source": [
        "**Logistic Regression**"
      ],
      "metadata": {
        "id": "7AIB3pJxlR0b"
      }
    },
    {
      "cell_type": "code",
      "source": [
        "print(f\"Accuracy score: {round(accuracy_score(logreg_ypred, y_test_desc_count), 4)}\")\n",
        "print(f\"Precision score: {round(precision_score(logreg_ypred, y_test_desc_count,average='macro'), 4)}\")\n",
        "print(f\"Recall score: {round(recall_score(logreg_ypred, y_test_desc_count, average='macro'), 4)}\")\n",
        "print(f\"F1 score: {round(f1_score(logreg_ypred, y_test_desc_count, average='macro'), 4)}\")"
      ],
      "metadata": {
        "colab": {
          "base_uri": "https://localhost:8080/"
        },
        "id": "JNt_Mc0jlTsQ",
        "outputId": "8ddfb293-52a9-490c-a4c6-a8b36c60b072"
      },
      "execution_count": null,
      "outputs": [
        {
          "output_type": "stream",
          "name": "stdout",
          "text": [
            "Accuracy score: 0.4453\n",
            "Precision score: 0.4146\n",
            "Recall score: 0.512\n",
            "F1 score: 0.4378\n"
          ]
        }
      ]
    },
    {
      "cell_type": "markdown",
      "source": [
        "**Multinomial Naive Bayes**"
      ],
      "metadata": {
        "id": "aXmrGiCtlcSH"
      }
    },
    {
      "cell_type": "code",
      "source": [
        "print(f\"Accuracy score: {round(accuracy_score(mnb_ypred,  y_test_desc_count), 4)}\")\n",
        "print(f\"Precision score: {round(precision_score(mnb_ypred,  y_test_desc_count,average='macro'), 4)}\")\n",
        "print(f\"Recall score: {round(recall_score(mnb_ypred,  y_test_desc_count, average='macro'), 4)}\")\n",
        "print(f\"F1 score: {round(f1_score(mnb_ypred,  y_test_desc_count, average='macro'), 4)}\")"
      ],
      "metadata": {
        "colab": {
          "base_uri": "https://localhost:8080/"
        },
        "id": "rcfQvzVvlbDv",
        "outputId": "01e8273a-3c19-4241-f659-cf2c9503dd39"
      },
      "execution_count": null,
      "outputs": [
        {
          "output_type": "stream",
          "name": "stdout",
          "text": [
            "Accuracy score: 0.3802\n",
            "Precision score: 0.445\n",
            "Recall score: 0.3337\n",
            "F1 score: 0.3246\n"
          ]
        }
      ]
    },
    {
      "cell_type": "markdown",
      "source": [
        "**LightGBM**"
      ],
      "metadata": {
        "id": "qVDRWK5Il26m"
      }
    },
    {
      "cell_type": "code",
      "source": [
        "print(f\"Accuracy score: {round(accuracy_score(lgb_ypred, y_test_desc_count), 4)}\")\n",
        "print(f\"Precision score: {round(precision_score(lgb_ypred, y_test_desc_count,average='macro'), 4)}\")\n",
        "print(f\"Recall score: {round(recall_score(lgb_ypred, y_test_desc_count,average='macro'), 4)}\")\n",
        "print(f\"F1 score: {round(f1_score(lgb_ypred, y_test_desc_count,average='macro'), 4)}\")"
      ],
      "metadata": {
        "colab": {
          "base_uri": "https://localhost:8080/"
        },
        "id": "0jKgoNOnl7uW",
        "outputId": "be4dbd90-00d5-4877-a19f-bcd979253663"
      },
      "execution_count": null,
      "outputs": [
        {
          "output_type": "stream",
          "name": "stdout",
          "text": [
            "Accuracy score: 0.4349\n",
            "Precision score: 0.3613\n",
            "Recall score: 0.4863\n",
            "F1 score: 0.3835\n"
          ]
        }
      ]
    },
    {
      "cell_type": "markdown",
      "source": [
        "**Result**"
      ],
      "metadata": {
        "id": "0wlGzPPRm1wG"
      }
    },
    {
      "cell_type": "code",
      "source": [
        "df_result = pd.DataFrame({\n",
        "    \"model\": [\"Logistic Regression\", \"Multinomial Naive Bayes\", \"LightGBM\"]*4,\n",
        "    \"score\": [0.4453, 0.3802, 0.4349,\n",
        "              0.4146, 0.445, 0.3613,\n",
        "               0.512, 0.3337, 0.4863,\n",
        "              0.4378, 0.3246, 0.3835],\n",
        "    \"metric\": [\"accuracy\"]*3 + [\"precision\"]*3 + [\"recall\"]*3 + [\"f1-score\"]*3\n",
        "})"
      ],
      "metadata": {
        "id": "Sq5SVwEum3SZ"
      },
      "execution_count": null,
      "outputs": []
    },
    {
      "cell_type": "code",
      "source": [
        "fig, ax = plt.subplots(figsize=(8, 4))\n",
        "\n",
        "sns.barplot(x=\"metric\", y=\"score\", hue=\"model\", data=df_result)\n",
        "\n",
        "plt.legend(bbox_to_anchor=(1.02, 1), loc='upper left', borderaxespad=0)\n",
        "plt.title(\"Performance of Each Models for Schema 2\")\n",
        "plt.show()"
      ],
      "metadata": {
        "colab": {
          "base_uri": "https://localhost:8080/",
          "height": 295
        },
        "id": "55BtUt4NnqtB",
        "outputId": "0574575f-f168-4883-f20f-aedc6a828f12"
      },
      "execution_count": null,
      "outputs": [
        {
          "output_type": "display_data",
          "data": {
            "text/plain": [
              "<Figure size 576x288 with 1 Axes>"
            ],
            "image/png": "[encoded data removed]"
          },
          "metadata": {
            "needs_background": "light"
          }
        }
      ]
    },
    {
      "cell_type": "markdown",
      "source": [
        "## Schema 3"
      ],
      "metadata": {
        "id": "uj-ynDyVlDyG"
      }
    },
    {
      "cell_type": "markdown",
      "source": [
        "**Logistic Regression**"
      ],
      "metadata": {
        "id": "5b54-phSlTmr"
      }
    },
    {
      "cell_type": "code",
      "source": [
        "print(f\"Accuracy score: {round(accuracy_score(logreg_ypred, y_test_fill), 4)}\")\n",
        "print(f\"Precision score: {round(precision_score(logreg_ypred, y_test_fill,average='macro'), 4)}\")\n",
        "print(f\"Recall score: {round(recall_score(logreg_ypred, y_test_fill, average='macro'), 4)}\")\n",
        "print(f\"F1 score: {round(f1_score(logreg_ypred, y_test_fill, average='macro'), 4)}\")"
      ],
      "metadata": {
        "colab": {
          "base_uri": "https://localhost:8080/"
        },
        "id": "MOoxMpellMjM",
        "outputId": "969b625e-b48c-4144-f0af-e694f7ddec5f"
      },
      "execution_count": 40,
      "outputs": [
        {
          "output_type": "stream",
          "name": "stdout",
          "text": [
            "Accuracy score: 0.7718\n",
            "Precision score: 0.4898\n",
            "Recall score: 0.6363\n",
            "F1 score: 0.5216\n"
          ]
        }
      ]
    },
    {
      "cell_type": "markdown",
      "source": [
        "**Multinomial Naive Bayes**"
      ],
      "metadata": {
        "id": "H3-X5ySBmK8f"
      }
    },
    {
      "cell_type": "code",
      "source": [
        "print(f\"Accuracy score: {round(accuracy_score(mnb_ypred,  y_test_fill), 4)}\")\n",
        "print(f\"Precision score: {round(precision_score(mnb_ypred,  y_test_fill,average='macro'), 4)}\")\n",
        "print(f\"Recall score: {round(recall_score(mnb_ypred,  y_test_fill, average='macro'), 4)}\")\n",
        "print(f\"F1 score: {round(f1_score(mnb_ypred,  y_test_fill, average='macro'), 4)}\")"
      ],
      "metadata": {
        "colab": {
          "base_uri": "https://localhost:8080/"
        },
        "id": "S_VqhfkHmPNf",
        "outputId": "e02675d7-b589-4899-a95f-965a8f43b861"
      },
      "execution_count": 41,
      "outputs": [
        {
          "output_type": "stream",
          "name": "stdout",
          "text": [
            "Accuracy score: 0.699\n",
            "Precision score: 0.6885\n",
            "Recall score: 0.3805\n",
            "F1 score: 0.4361\n"
          ]
        }
      ]
    },
    {
      "cell_type": "markdown",
      "source": [
        "**LightGBM**"
      ],
      "metadata": {
        "id": "Dx5MxcPSmUG4"
      }
    },
    {
      "cell_type": "code",
      "source": [
        "print(f\"Accuracy score: {round(accuracy_score(lgb_ypred, y_test_fill), 4)}\")\n",
        "print(f\"Precision score: {round(precision_score(lgb_ypred, y_test_fill,average='macro'), 4)}\")\n",
        "print(f\"Recall score: {round(recall_score(lgb_ypred, y_test_fill,average='macro'), 4)}\")\n",
        "print(f\"F1 score: {round(f1_score(lgb_ypred, y_test_fill,average='macro'), 4)}\")"
      ],
      "metadata": {
        "colab": {
          "base_uri": "https://localhost:8080/"
        },
        "id": "_qJcYAljmXv0",
        "outputId": "0bfbfb20-56eb-4d2b-e0b8-d5a7abcd013a"
      },
      "execution_count": 42,
      "outputs": [
        {
          "output_type": "stream",
          "name": "stdout",
          "text": [
            "Accuracy score: 0.7488\n",
            "Precision score: 0.4101\n",
            "Recall score: 0.5617\n",
            "F1 score: 0.4522\n"
          ]
        }
      ]
    },
    {
      "cell_type": "markdown",
      "source": [
        "**Result**"
      ],
      "metadata": {
        "id": "1TARg5ZRm0yh"
      }
    },
    {
      "cell_type": "code",
      "source": [
        "df_result = pd.DataFrame({\n",
        "    \"model\": [\"Logistic Regression\", \"Multinomial Naive Bayes\", \"LightGBM\"]*4,\n",
        "    \"score\": [0.7718, 0.699, 0.7488,\n",
        "              0.4898, 0.6885,  0.4101,\n",
        "               0.6363, 0.3805, 0.5617,\n",
        "              0.5216, 0.4361, 0.4522],\n",
        "    \"metric\": [\"accuracy\"]*3 + [\"precision\"]*3 + [\"recall\"]*3 + [\"f1-score\"]*3\n",
        "})"
      ],
      "metadata": {
        "id": "ty4yJrvZm4or"
      },
      "execution_count": 43,
      "outputs": []
    },
    {
      "cell_type": "code",
      "source": [
        "fig, ax = plt.subplots(figsize=(8, 4))\n",
        "\n",
        "sns.barplot(x=\"metric\", y=\"score\", hue=\"model\", data=df_result)\n",
        "\n",
        "plt.legend(bbox_to_anchor=(1.02, 1), loc='upper left', borderaxespad=0)\n",
        "plt.title(\"Performance of Each Models for Schema 3\")\n",
        "plt.show()"
      ],
      "metadata": {
        "colab": {
          "base_uri": "https://localhost:8080/",
          "height": 295
        },
        "id": "eIANjswWnfFs",
        "outputId": "24e680b0-3122-4fb5-b2a2-24563c0314ef"
      },
      "execution_count": 44,
      "outputs": [
        {
          "output_type": "display_data",
          "data": {
            "text/plain": [
              "<Figure size 576x288 with 1 Axes>"
            ],
            "image/png": "[encoded data removed]"
          },
          "metadata": {
            "needs_background": "light"
          }
        }
      ]
    },
    {
      "cell_type": "markdown",
      "source": [
        "## Schema 4"
      ],
      "metadata": {
        "id": "DcfSv0w8v4NW"
      }
    },
    {
      "cell_type": "markdown",
      "source": [
        "**Logistic Regression**"
      ],
      "metadata": {
        "id": "0eIlTKY2wjka"
      }
    },
    {
      "cell_type": "code",
      "source": [
        "print(f\"Accuracy score: {round(accuracy_score(logreg_ypred, y_test_tweet), 4)}\")\n",
        "print(f\"Precision score: {round(precision_score(logreg_ypred, y_test_tweet,average='macro'), 4)}\")\n",
        "print(f\"Recall score: {round(recall_score(logreg_ypred, y_test_tweet, average='macro'), 4)}\")\n",
        "print(f\"F1 score: {round(f1_score(logreg_ypred, y_test_tweet, average='macro'), 4)}\")"
      ],
      "metadata": {
        "colab": {
          "base_uri": "https://localhost:8080/"
        },
        "id": "7HJVOKoBvwP_",
        "outputId": "f7856dae-37ed-4da6-e189-14f80ec82d80"
      },
      "execution_count": 40,
      "outputs": [
        {
          "output_type": "stream",
          "name": "stdout",
          "text": [
            "Accuracy score: 0.5682\n",
            "Precision score: 0.3774\n",
            "Recall score: 0.4291\n",
            "F1 score: 0.3928\n"
          ]
        }
      ]
    },
    {
      "cell_type": "markdown",
      "source": [
        "**Multinomial Naive Bayes**"
      ],
      "metadata": {
        "id": "fnVZarx2xI3p"
      }
    },
    {
      "cell_type": "code",
      "source": [
        "print(f\"Accuracy score: {round(accuracy_score(mnb_ypred,  y_test_tweet), 4)}\")\n",
        "print(f\"Precision score: {round(precision_score(mnb_ypred,  y_test_tweet,average='macro'), 4)}\")\n",
        "print(f\"Recall score: {round(recall_score(mnb_ypred,  y_test_tweet, average='macro'), 4)}\")\n",
        "print(f\"F1 score: {round(f1_score(mnb_ypred,  y_test_tweet, average='macro'), 4)}\")"
      ],
      "metadata": {
        "colab": {
          "base_uri": "https://localhost:8080/"
        },
        "id": "O8mWDxA3xH_I",
        "outputId": "ace692af-a04b-4c65-ba07-904d473c451f"
      },
      "execution_count": 41,
      "outputs": [
        {
          "output_type": "stream",
          "name": "stdout",
          "text": [
            "Accuracy score: 0.4864\n",
            "Precision score: 0.549\n",
            "Recall score: 0.4334\n",
            "F1 score: 0.4542\n"
          ]
        }
      ]
    },
    {
      "cell_type": "markdown",
      "source": [
        "**LightGBM**"
      ],
      "metadata": {
        "id": "gt5BKfi2yMj0"
      }
    },
    {
      "cell_type": "code",
      "source": [
        "print(f\"Accuracy score: {round(accuracy_score(lgb_ypred, y_test_tweet), 4)}\")\n",
        "print(f\"Precision score: {round(precision_score(lgb_ypred, y_test_tweet,average='macro'), 4)}\")\n",
        "print(f\"Recall score: {round(recall_score(lgb_ypred, y_test_tweet,average='macro'), 4)}\")\n",
        "print(f\"F1 score: {round(f1_score(lgb_ypred, y_test_tweet,average='macro'), 4)}\")"
      ],
      "metadata": {
        "colab": {
          "base_uri": "https://localhost:8080/"
        },
        "id": "3y3QLiMux7Kf",
        "outputId": "da52044f-feb5-49ab-d4e0-c8394adf4f98"
      },
      "execution_count": 42,
      "outputs": [
        {
          "output_type": "stream",
          "name": "stdout",
          "text": [
            "Accuracy score: 0.5955\n",
            "Precision score: 0.3535\n",
            "Recall score: 0.5619\n",
            "F1 score: 0.4067\n"
          ]
        }
      ]
    },
    {
      "cell_type": "markdown",
      "source": [
        "**Result**"
      ],
      "metadata": {
        "id": "wjo_I9G_z7oT"
      }
    },
    {
      "cell_type": "code",
      "source": [
        "df_result = pd.DataFrame({\n",
        "    \"model\": [\"Logistic Regression\", \"Multinomial Naive Bayes\", \"LightGBM\"]*4,\n",
        "    \"score\": [0.5682, 0.4864, 0.5955,\n",
        "              0.3774, 0.549, 0.5955,\n",
        "               0.4291, 0.4334, 0.5619,\n",
        "              0.3928, 0.4542, 0.4067],\n",
        "    \"metric\": [\"accuracy\"]*3 + [\"precision\"]*3 + [\"recall\"]*3 + [\"f1-score\"]*3\n",
        "})"
      ],
      "metadata": {
        "id": "iDiflbthz6am"
      },
      "execution_count": 43,
      "outputs": []
    },
    {
      "cell_type": "code",
      "source": [
        "fig, ax = plt.subplots(figsize=(8, 4))\n",
        "\n",
        "sns.barplot(x=\"metric\", y=\"score\", hue=\"model\", data=df_result)\n",
        "\n",
        "plt.legend(bbox_to_anchor=(1.02, 1), loc='upper left', borderaxespad=0)\n",
        "plt.title(\"Performance of Each Models for Schema 4\")\n",
        "plt.show()"
      ],
      "metadata": {
        "colab": {
          "base_uri": "https://localhost:8080/",
          "height": 295
        },
        "id": "YxbpWNK51PBF",
        "outputId": "1f57f085-6b03-4d54-fd6a-d87212bafc87"
      },
      "execution_count": 44,
      "outputs": [
        {
          "output_type": "display_data",
          "data": {
            "text/plain": [
              "<Figure size 576x288 with 1 Axes>"
            ],
            "image/png": "[encoded data removed]"
          },
          "metadata": {
            "needs_background": "light"
          }
        }
      ]
    },
    {
      "cell_type": "markdown",
      "source": [
        "# Occupational Area Classification"
      ],
      "metadata": {
        "id": "b-u912gdldQm"
      }
    },
    {
      "cell_type": "markdown",
      "source": [
        "## Data testing profile"
      ],
      "metadata": {
        "id": "fDb1YGTnxdAf"
      }
    },
    {
      "cell_type": "code",
      "source": [
        "X_train_final, X_test, y_train_ovs, y_test = [], [], [], []"
      ],
      "metadata": {
        "id": "DWA5C1eaj6Sm"
      },
      "execution_count": 46,
      "outputs": []
    },
    {
      "cell_type": "code",
      "source": [
        "X, y = [], []"
      ],
      "metadata": {
        "id": "N6MfqljqkH47"
      },
      "execution_count": 47,
      "outputs": []
    },
    {
      "cell_type": "code",
      "source": [
        "df_test = pd.read_excel(dataset_path+\"df_testing_structured.xlsx\")\n",
        "df_test.head()"
      ],
      "metadata": {
        "colab": {
          "base_uri": "https://localhost:8080/",
          "height": 496
        },
        "id": "hINp03xsxmcV",
        "outputId": "9cae6349-8ae3-4798-c809-bf4d758f9389"
      },
      "execution_count": 49,
      "outputs": [
        {
          "output_type": "execute_result",
          "data": {
            "text/plain": [
              "    id created_at                                        description  \\\n",
              "0  1.0 2017-05-12  A place to record the insights I receive on th...   \n",
              "1  2.0 2012-03-09  Official Twitter of Mario Teguh. \\nAdmin@exnal...   \n",
              "2  3.0 2019-11-15  Apprentice Python programmer :)\\n\\nhttps://t.c...   \n",
              "3  4.0 2013-04-10              A proud Indonesian. Bangga Berbangsa.   \n",
              "4  5.0 2012-01-11  Chairman MNC Group | Ketum Partai Perindo | Ke...   \n",
              "\n",
              "   followers_count  following_count  listed_count  \\\n",
              "0          94952.0            427.0          59.0   \n",
              "1        9181064.0              0.0        3007.0   \n",
              "2             25.0            217.0           1.0   \n",
              "3        1049638.0            309.0         402.0   \n",
              "4         551980.0            374.0         375.0   \n",
              "\n",
              "                        location                         name  tweet_count  \\\n",
              "0  Inquiry: aisykaspol@gmail.com                           ‏َ      26004.0   \n",
              "1             Jakarta, Indonesia                  Mario Teguh      55031.0   \n",
              "2                            NaN  Florentin Anggraini Purnama         51.0   \n",
              "3                      Indonesia                Gita Wirjawan      17653.0   \n",
              "4         Jakarta Capital Region           Hary Tanoesoedibjo       9185.0   \n",
              "\n",
              "         username  verified  \n",
              "0       lilithkis       0.0  \n",
              "1      marioteguh       1.0  \n",
              "2  flo_and_behold       0.0  \n",
              "3       gwirjawan       1.0  \n",
              "4      hary_tanoe       1.0  "
            ],
            "text/html": [
              "\n",
              "  <div id=\"df-16c9f3f0-9c8e-4b80-ad8a-de247ad732da\">\n",
              "    <div class=\"colab-df-container\">\n",
              "      <div>\n",
              "<style scoped>\n",
              "    .dataframe tbody tr th:only-of-type {\n",
              "        vertical-align: middle;\n",
              "    }\n",
              "\n",
              "    .dataframe tbody tr th {\n",
              "        vertical-align: top;\n",
              "    }\n",
              "\n",
              "    .dataframe thead th {\n",
              "        text-align: right;\n",
              "    }\n",
              "</style>\n",
              "<table border=\"1\" class=\"dataframe\">\n",
              "  <thead>\n",
              "    <tr style=\"text-align: right;\">\n",
              "      <th></th>\n",
              "      <th>id</th>\n",
              "      <th>created_at</th>\n",
              "      <th>description</th>\n",
              "      <th>followers_count</th>\n",
              "      <th>following_count</th>\n",
              "      <th>listed_count</th>\n",
              "      <th>location</th>\n",
              "      <th>name</th>\n",
              "      <th>tweet_count</th>\n",
              "      <th>username</th>\n",
              "      <th>verified</th>\n",
              "    </tr>\n",
              "  </thead>\n",
              "  <tbody>\n",
              "    <tr>\n",
              "      <th>0</th>\n",
              "      <td>1.0</td>\n",
              "      <td>2017-05-12</td>\n",
              "      <td>A place to record the insights I receive on th...</td>\n",
              "      <td>94952.0</td>\n",
              "      <td>427.0</td>\n",
              "      <td>59.0</td>\n",
              "      <td>Inquiry: aisykaspol@gmail.com</td>\n",
              "      <td>‏َ</td>\n",
              "      <td>26004.0</td>\n",
              "      <td>lilithkis</td>\n",
              "      <td>0.0</td>\n",
              "    </tr>\n",
              "    <tr>\n",
              "      <th>1</th>\n",
              "      <td>2.0</td>\n",
              "      <td>2012-03-09</td>\n",
              "      <td>Official Twitter of Mario Teguh. \\nAdmin@exnal...</td>\n",
              "      <td>9181064.0</td>\n",
              "      <td>0.0</td>\n",
              "      <td>3007.0</td>\n",
              "      <td>Jakarta, Indonesia</td>\n",
              "      <td>Mario Teguh</td>\n",
              "      <td>55031.0</td>\n",
              "      <td>marioteguh</td>\n",
              "      <td>1.0</td>\n",
              "    </tr>\n",
              "    <tr>\n",
              "      <th>2</th>\n",
              "      <td>3.0</td>\n",
              "      <td>2019-11-15</td>\n",
              "      <td>Apprentice Python programmer :)\\n\\nhttps://t.c...</td>\n",
              "      <td>25.0</td>\n",
              "      <td>217.0</td>\n",
              "      <td>1.0</td>\n",
              "      <td>NaN</td>\n",
              "      <td>Florentin Anggraini Purnama</td>\n",
              "      <td>51.0</td>\n",
              "      <td>flo_and_behold</td>\n",
              "      <td>0.0</td>\n",
              "    </tr>\n",
              "    <tr>\n",
              "      <th>3</th>\n",
              "      <td>4.0</td>\n",
              "      <td>2013-04-10</td>\n",
              "      <td>A proud Indonesian. Bangga Berbangsa.</td>\n",
              "      <td>1049638.0</td>\n",
              "      <td>309.0</td>\n",
              "      <td>402.0</td>\n",
              "      <td>Indonesia</td>\n",
              "      <td>Gita Wirjawan</td>\n",
              "      <td>17653.0</td>\n",
              "      <td>gwirjawan</td>\n",
              "      <td>1.0</td>\n",
              "    </tr>\n",
              "    <tr>\n",
              "      <th>4</th>\n",
              "      <td>5.0</td>\n",
              "      <td>2012-01-11</td>\n",
              "      <td>Chairman MNC Group | Ketum Partai Perindo | Ke...</td>\n",
              "      <td>551980.0</td>\n",
              "      <td>374.0</td>\n",
              "      <td>375.0</td>\n",
              "      <td>Jakarta Capital Region</td>\n",
              "      <td>Hary Tanoesoedibjo</td>\n",
              "      <td>9185.0</td>\n",
              "      <td>hary_tanoe</td>\n",
              "      <td>1.0</td>\n",
              "    </tr>\n",
              "  </tbody>\n",
              "</table>\n",
              "</div>\n",
              "      <button class=\"colab-df-convert\" onclick=\"convertToInteractive('df-16c9f3f0-9c8e-4b80-ad8a-de247ad732da')\"\n",
              "              title=\"Convert this dataframe to an interactive table.\"\n",
              "              style=\"display:none;\">\n",
              "        \n",
              "  <svg xmlns=\"http://www.w3.org/2000/svg\" height=\"24px\"viewBox=\"0 0 24 24\"\n",
              "       width=\"24px\">\n",
              "    <path d=\"M0 0h24v24H0V0z\" fill=\"none\"/>\n",
              "    <path d=\"M18.56 5.44l.94 2.06.94-2.06 2.06-.94-2.06-.94-.94-2.06-.94 2.06-2.06.94zm-11 1L8.5 8.5l.94-2.06 2.06-.94-2.06-.94L8.5 2.5l-.94 2.06-2.06.94zm10 10l.94 2.06.94-2.06 2.06-.94-2.06-.94-.94-2.06-.94 2.06-2.06.94z\"/><path d=\"M17.41 7.96l-1.37-1.37c-.4-.4-.92-.59-1.43-.59-.52 0-1.04.2-1.43.59L10.3 9.45l-7.72 7.72c-.78.78-.78 2.05 0 2.83L4 21.41c.39.39.9.59 1.41.59.51 0 1.02-.2 1.41-.59l7.78-7.78 2.81-2.81c.8-.78.8-2.07 0-2.86zM5.41 20L4 18.59l7.72-7.72 1.47 1.35L5.41 20z\"/>\n",
              "  </svg>\n",
              "      </button>\n",
              "      \n",
              "  <style>\n",
              "    .colab-df-container {\n",
              "      display:flex;\n",
              "      flex-wrap:wrap;\n",
              "      gap: 12px;\n",
              "    }\n",
              "\n",
              "    .colab-df-convert {\n",
              "      background-color: #E8F0FE;\n",
              "      border: none;\n",
              "      border-radius: 50%;\n",
              "      cursor: pointer;\n",
              "      display: none;\n",
              "      fill: #1967D2;\n",
              "      height: 32px;\n",
              "      padding: 0 0 0 0;\n",
              "      width: 32px;\n",
              "    }\n",
              "\n",
              "    .colab-df-convert:hover {\n",
              "      background-color: #E2EBFA;\n",
              "      box-shadow: 0px 1px 2px rgba(60, 64, 67, 0.3), 0px 1px 3px 1px rgba(60, 64, 67, 0.15);\n",
              "      fill: #174EA6;\n",
              "    }\n",
              "\n",
              "    [theme=dark] .colab-df-convert {\n",
              "      background-color: #3B4455;\n",
              "      fill: #D2E3FC;\n",
              "    }\n",
              "\n",
              "    [theme=dark] .colab-df-convert:hover {\n",
              "      background-color: #434B5C;\n",
              "      box-shadow: 0px 1px 3px 1px rgba(0, 0, 0, 0.15);\n",
              "      filter: drop-shadow(0px 1px 2px rgba(0, 0, 0, 0.3));\n",
              "      fill: #FFFFFF;\n",
              "    }\n",
              "  </style>\n",
              "\n",
              "      <script>\n",
              "        const buttonEl =\n",
              "          document.querySelector('#df-16c9f3f0-9c8e-4b80-ad8a-de247ad732da button.colab-df-convert');\n",
              "        buttonEl.style.display =\n",
              "          google.colab.kernel.accessAllowed ? 'block' : 'none';\n",
              "\n",
              "        async function convertToInteractive(key) {\n",
              "          const element = document.querySelector('#df-16c9f3f0-9c8e-4b80-ad8a-de247ad732da');\n",
              "          const dataTable =\n",
              "            await google.colab.kernel.invokeFunction('convertToInteractive',\n",
              "                                                     [key], {});\n",
              "          if (!dataTable) return;\n",
              "\n",
              "          const docLinkHtml = 'Like what you see? Visit the ' +\n",
              "            '<a target=\"_blank\" href=https://colab.research.google.com/notebooks/data_table.ipynb>data table notebook</a>'\n",
              "            + ' to learn more about interactive tables.';\n",
              "          element.innerHTML = '';\n",
              "          dataTable['output_type'] = 'display_data';\n",
              "          await google.colab.output.renderOutput(dataTable, element);\n",
              "          const docLink = document.createElement('div');\n",
              "          docLink.innerHTML = docLinkHtml;\n",
              "          element.appendChild(docLink);\n",
              "        }\n",
              "      </script>\n",
              "    </div>\n",
              "  </div>\n",
              "  "
            ]
          },
          "metadata": {},
          "execution_count": 49
        }
      ]
    },
    {
      "cell_type": "code",
      "source": [
        "df_test_profile = df_test[['description']]\n",
        "df_test_profile['description'].fillna('', inplace=True)"
      ],
      "metadata": {
        "id": "Nxx0gHToyaJ-"
      },
      "execution_count": 51,
      "outputs": []
    },
    {
      "cell_type": "code",
      "source": [
        "raw_desc = df_test_profile['description']\n",
        "clean_desc_test = np.array(pra_pemrosesan(raw_desc))"
      ],
      "metadata": {
        "colab": {
          "base_uri": "https://localhost:8080/"
        },
        "id": "neaZQq2_yprT",
        "outputId": "6dec6a07-36f3-4282-b4f9-54121463d2f0"
      },
      "execution_count": 52,
      "outputs": [
        {
          "output_type": "stream",
          "name": "stderr",
          "text": [
            "100%|██████████| 1054/1054 [00:05<00:00, 201.69it/s]\n"
          ]
        }
      ]
    },
    {
      "cell_type": "code",
      "source": [
        "df_test_profile['clean_desc'] = clean_desc_test\n",
        "X = vectorizer_desc_fill_tfidf.transform(df_test_profile['clean_desc']).todense()"
      ],
      "metadata": {
        "id": "eyXHskUTy2Zp"
      },
      "execution_count": 53,
      "outputs": []
    },
    {
      "cell_type": "code",
      "source": [
        "y_pred = logreg_clf.predict(X)"
      ],
      "metadata": {
        "id": "CBn-ZT98zlU2"
      },
      "execution_count": 55,
      "outputs": []
    },
    {
      "cell_type": "code",
      "source": [
        "df_res = pd.DataFrame({\n",
        "    'id': [i for i in range(1, 1055)],\n",
        "    'occupation': y_pred\n",
        "})"
      ],
      "metadata": {
        "id": "TjUW2lUfzrHk"
      },
      "execution_count": 56,
      "outputs": []
    },
    {
      "cell_type": "code",
      "source": [
        "df_res.to_csv('schema3-logreg.csv', header=False, index=False)"
      ],
      "metadata": {
        "id": "gPLkxwFIzrx1"
      },
      "execution_count": 57,
      "outputs": []
    },
    {
      "cell_type": "markdown",
      "source": [
        "## Data testing Tweet"
      ],
      "metadata": {
        "id": "WlFYVSGpxnWW"
      }
    },
    {
      "cell_type": "code",
      "source": [
        "df_test = pd.read_csv(dataset_path+\"df_testing_tweet.csv\")\n",
        "df_test.head()"
      ],
      "metadata": {
        "colab": {
          "base_uri": "https://localhost:8080/",
          "height": 206
        },
        "id": "1q9dxe4qlfnh",
        "outputId": "7c4e1113-2261-43cf-a078-9bfe7405f1cd"
      },
      "execution_count": 45,
      "outputs": [
        {
          "output_type": "execute_result",
          "data": {
            "text/plain": [
              "         username                                              tweet\n",
              "0       lilithkis  @swastiacintya @novemberdad Ya kamu<SEP>@swast...\n",
              "1      marioteguh  NANTI SORE di  https://t.co/h0sTzI6kj1  MTLV -...\n",
              "2  flo_and_behold                     Yaay! It was a fun session! :)\n",
              "3       gwirjawan  Special screening film Nussa kemarin bareng pa...\n",
              "4      hary_tanoe  Pagi ini, Kamis, 27 Mei 2021, saya menerima ku..."
            ],
            "text/html": [
              "\n",
              "  <div id=\"df-fa9bd27c-5b3d-4de2-af26-4c52e4641661\">\n",
              "    <div class=\"colab-df-container\">\n",
              "      <div>\n",
              "<style scoped>\n",
              "    .dataframe tbody tr th:only-of-type {\n",
              "        vertical-align: middle;\n",
              "    }\n",
              "\n",
              "    .dataframe tbody tr th {\n",
              "        vertical-align: top;\n",
              "    }\n",
              "\n",
              "    .dataframe thead th {\n",
              "        text-align: right;\n",
              "    }\n",
              "</style>\n",
              "<table border=\"1\" class=\"dataframe\">\n",
              "  <thead>\n",
              "    <tr style=\"text-align: right;\">\n",
              "      <th></th>\n",
              "      <th>username</th>\n",
              "      <th>tweet</th>\n",
              "    </tr>\n",
              "  </thead>\n",
              "  <tbody>\n",
              "    <tr>\n",
              "      <th>0</th>\n",
              "      <td>lilithkis</td>\n",
              "      <td>@swastiacintya @novemberdad Ya kamu&lt;SEP&gt;@swast...</td>\n",
              "    </tr>\n",
              "    <tr>\n",
              "      <th>1</th>\n",
              "      <td>marioteguh</td>\n",
              "      <td>NANTI SORE di  https://t.co/h0sTzI6kj1  MTLV -...</td>\n",
              "    </tr>\n",
              "    <tr>\n",
              "      <th>2</th>\n",
              "      <td>flo_and_behold</td>\n",
              "      <td>Yaay! It was a fun session! :)</td>\n",
              "    </tr>\n",
              "    <tr>\n",
              "      <th>3</th>\n",
              "      <td>gwirjawan</td>\n",
              "      <td>Special screening film Nussa kemarin bareng pa...</td>\n",
              "    </tr>\n",
              "    <tr>\n",
              "      <th>4</th>\n",
              "      <td>hary_tanoe</td>\n",
              "      <td>Pagi ini, Kamis, 27 Mei 2021, saya menerima ku...</td>\n",
              "    </tr>\n",
              "  </tbody>\n",
              "</table>\n",
              "</div>\n",
              "      <button class=\"colab-df-convert\" onclick=\"convertToInteractive('df-fa9bd27c-5b3d-4de2-af26-4c52e4641661')\"\n",
              "              title=\"Convert this dataframe to an interactive table.\"\n",
              "              style=\"display:none;\">\n",
              "        \n",
              "  <svg xmlns=\"http://www.w3.org/2000/svg\" height=\"24px\"viewBox=\"0 0 24 24\"\n",
              "       width=\"24px\">\n",
              "    <path d=\"M0 0h24v24H0V0z\" fill=\"none\"/>\n",
              "    <path d=\"M18.56 5.44l.94 2.06.94-2.06 2.06-.94-2.06-.94-.94-2.06-.94 2.06-2.06.94zm-11 1L8.5 8.5l.94-2.06 2.06-.94-2.06-.94L8.5 2.5l-.94 2.06-2.06.94zm10 10l.94 2.06.94-2.06 2.06-.94-2.06-.94-.94-2.06-.94 2.06-2.06.94z\"/><path d=\"M17.41 7.96l-1.37-1.37c-.4-.4-.92-.59-1.43-.59-.52 0-1.04.2-1.43.59L10.3 9.45l-7.72 7.72c-.78.78-.78 2.05 0 2.83L4 21.41c.39.39.9.59 1.41.59.51 0 1.02-.2 1.41-.59l7.78-7.78 2.81-2.81c.8-.78.8-2.07 0-2.86zM5.41 20L4 18.59l7.72-7.72 1.47 1.35L5.41 20z\"/>\n",
              "  </svg>\n",
              "      </button>\n",
              "      \n",
              "  <style>\n",
              "    .colab-df-container {\n",
              "      display:flex;\n",
              "      flex-wrap:wrap;\n",
              "      gap: 12px;\n",
              "    }\n",
              "\n",
              "    .colab-df-convert {\n",
              "      background-color: #E8F0FE;\n",
              "      border: none;\n",
              "      border-radius: 50%;\n",
              "      cursor: pointer;\n",
              "      display: none;\n",
              "      fill: #1967D2;\n",
              "      height: 32px;\n",
              "      padding: 0 0 0 0;\n",
              "      width: 32px;\n",
              "    }\n",
              "\n",
              "    .colab-df-convert:hover {\n",
              "      background-color: #E2EBFA;\n",
              "      box-shadow: 0px 1px 2px rgba(60, 64, 67, 0.3), 0px 1px 3px 1px rgba(60, 64, 67, 0.15);\n",
              "      fill: #174EA6;\n",
              "    }\n",
              "\n",
              "    [theme=dark] .colab-df-convert {\n",
              "      background-color: #3B4455;\n",
              "      fill: #D2E3FC;\n",
              "    }\n",
              "\n",
              "    [theme=dark] .colab-df-convert:hover {\n",
              "      background-color: #434B5C;\n",
              "      box-shadow: 0px 1px 3px 1px rgba(0, 0, 0, 0.15);\n",
              "      filter: drop-shadow(0px 1px 2px rgba(0, 0, 0, 0.3));\n",
              "      fill: #FFFFFF;\n",
              "    }\n",
              "  </style>\n",
              "\n",
              "      <script>\n",
              "        const buttonEl =\n",
              "          document.querySelector('#df-fa9bd27c-5b3d-4de2-af26-4c52e4641661 button.colab-df-convert');\n",
              "        buttonEl.style.display =\n",
              "          google.colab.kernel.accessAllowed ? 'block' : 'none';\n",
              "\n",
              "        async function convertToInteractive(key) {\n",
              "          const element = document.querySelector('#df-fa9bd27c-5b3d-4de2-af26-4c52e4641661');\n",
              "          const dataTable =\n",
              "            await google.colab.kernel.invokeFunction('convertToInteractive',\n",
              "                                                     [key], {});\n",
              "          if (!dataTable) return;\n",
              "\n",
              "          const docLinkHtml = 'Like what you see? Visit the ' +\n",
              "            '<a target=\"_blank\" href=https://colab.research.google.com/notebooks/data_table.ipynb>data table notebook</a>'\n",
              "            + ' to learn more about interactive tables.';\n",
              "          element.innerHTML = '';\n",
              "          dataTable['output_type'] = 'display_data';\n",
              "          await google.colab.output.renderOutput(dataTable, element);\n",
              "          const docLink = document.createElement('div');\n",
              "          docLink.innerHTML = docLinkHtml;\n",
              "          element.appendChild(docLink);\n",
              "        }\n",
              "      </script>\n",
              "    </div>\n",
              "  </div>\n",
              "  "
            ]
          },
          "metadata": {},
          "execution_count": 45
        }
      ]
    },
    {
      "cell_type": "code",
      "source": [
        "df_test['tweet'] = df_test['tweet'].astype(str)"
      ],
      "metadata": {
        "id": "ASjrzXGOnDAl"
      },
      "execution_count": 46,
      "outputs": []
    },
    {
      "cell_type": "code",
      "source": [
        "df_test['num_tweet'] = df_test['tweet'].apply(lambda tweet: len(tweet.split(\"<SEP>\")))"
      ],
      "metadata": {
        "id": "J7_Vrf5PmUKC"
      },
      "execution_count": 47,
      "outputs": []
    },
    {
      "cell_type": "code",
      "source": [
        "for idx, row in df_test.iterrows():\n",
        "  # set the limit to max 250\n",
        "\n",
        "  # split each tweet into a list of tweets\n",
        "  list_tweet = row['tweet'].split(\"<SEP>\")\n",
        "\n",
        "  if row['num_tweet'] > 250:\n",
        "    random_list_tweet = np.random.choice(list_tweet, 250, replace=False)\n",
        "    df_test.at[idx, 'tweet'] = ' '.join(random_list_tweet)\n",
        "  else:\n",
        "    df_test.at[idx, 'tweet'] =' '.join(list_tweet)"
      ],
      "metadata": {
        "id": "BO50Emccm8Qe"
      },
      "execution_count": 48,
      "outputs": []
    },
    {
      "cell_type": "code",
      "source": [
        "stopwords = pd.read_csv(\"stopwordsID.csv\", header=None)\n",
        "df_kamus_singkatan = pd.read_csv('kamus_singkatan.csv')\n",
        "df_kamus_alay = pd.read_csv('colloquial-indonesian-lexicon.csv')\n",
        "\n",
        "raw_tweet = df_test['tweet']\n",
        "clean_tweet = np.array(pra_pemrosesan(raw_tweet))"
      ],
      "metadata": {
        "id": "5AHMGFDsnUVb"
      },
      "execution_count": 49,
      "outputs": []
    },
    {
      "cell_type": "code",
      "source": [
        "df_res = pd.DataFrame({\n",
        "    'tweet': clean_tweet,\n",
        "})"
      ],
      "metadata": {
        "id": "i-5Bca-Tbbyo"
      },
      "execution_count": 49,
      "outputs": []
    },
    {
      "cell_type": "code",
      "source": [
        "df_res.to_csv(path+'CODE/df_test_clean_tweet_occupation.csv')"
      ],
      "metadata": {
        "id": "cNSOUaClbM9D"
      },
      "execution_count": null,
      "outputs": []
    },
    {
      "cell_type": "code",
      "source": [
        "# load clean test tweet\n",
        "df_test = pd.read_csv(path+'df_test_clean_tweet_occupation.csv')"
      ],
      "metadata": {
        "id": "hWBlDfEkQ3t7"
      },
      "execution_count": 52,
      "outputs": []
    },
    {
      "cell_type": "code",
      "source": [
        "df_test.fillna('', inplace=True)"
      ],
      "metadata": {
        "id": "AedwvJ88RQ98"
      },
      "execution_count": 53,
      "outputs": []
    },
    {
      "cell_type": "code",
      "source": [
        "X = vectorizer_tweet_tfidf.transform(df_test['tweet']).todense()"
      ],
      "metadata": {
        "id": "pMemd2NdkhYX"
      },
      "execution_count": 59,
      "outputs": []
    },
    {
      "cell_type": "code",
      "source": [
        "y_pred = multinb_clf.predict(X)"
      ],
      "metadata": {
        "id": "3Z1i5izWpPG-"
      },
      "execution_count": 60,
      "outputs": []
    },
    {
      "cell_type": "code",
      "source": [
        "df_res = pd.DataFrame({\n",
        "    'id': [i for i in range(1, 1055)],\n",
        "    'occupation': y_pred\n",
        "})"
      ],
      "metadata": {
        "id": "Ugbsgm19pi4m"
      },
      "execution_count": 61,
      "outputs": []
    },
    {
      "cell_type": "code",
      "source": [
        "df_res.to_csv('schema4-multinb.csv', header=False, index=False)"
      ],
      "metadata": {
        "id": "Ak-pEIVPqRFl"
      },
      "execution_count": 62,
      "outputs": []
    },
    {
      "cell_type": "code",
      "source": [
        "X = []"
      ],
      "metadata": {
        "id": "KiwCdtisRqiB"
      },
      "execution_count": null,
      "outputs": []
    }
  ]
}